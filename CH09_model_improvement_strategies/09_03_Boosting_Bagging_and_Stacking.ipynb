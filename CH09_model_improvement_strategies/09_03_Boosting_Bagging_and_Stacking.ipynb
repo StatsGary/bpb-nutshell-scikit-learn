{
 "cells": [
  {
   "cell_type": "markdown",
   "id": "a3b27bd8",
   "metadata": {},
   "source": [
    "# Boosting, Bagging and Stacking"
   ]
  },
  {
   "cell_type": "code",
   "execution_count": null,
   "id": "72a434d6",
   "metadata": {},
   "outputs": [],
   "source": [
    "!pip install -r requirements.txt --quiet"
   ]
  },
  {
   "cell_type": "code",
   "execution_count": null,
   "id": "9d2915f1",
   "metadata": {},
   "outputs": [],
   "source": [
    "import pandas as pd\n",
    "from sklearn.datasets import load_breast_cancer\n",
    "from sklearn.model_selection import train_test_split\n",
    "from sklearn.ensemble import StackingClassifier\n",
    "from sklearn.svm import SVC\n",
    "from sklearn.metrics import accuracy_score, f1_score"
   ]
  },
  {
   "cell_type": "markdown",
   "id": "fc6b0ab1",
   "metadata": {},
   "source": [
    "## Load and prepare data"
   ]
  },
  {
   "cell_type": "code",
   "execution_count": null,
   "id": "8c833ba0",
   "metadata": {},
   "outputs": [],
   "source": [
    "data = load_breast_cancer()\n",
    "X = data.data\n",
    "y = data.target\n",
    "X_train, X_test, y_train, y_test = train_test_split(X, y, test_size=0.2, random_state=42)"
   ]
  },
  {
   "cell_type": "code",
   "execution_count": null,
   "id": "498bc529",
   "metadata": {},
   "outputs": [],
   "source": [
    "from sklearn.preprocessing import StandardScaler\n",
    "scaler = StandardScaler()\n",
    "X_train_scaled = scaler.fit_transform(X_train)\n",
    "X_test_scaled = scaler.transform(X_test)"
   ]
  },
  {
   "cell_type": "code",
   "execution_count": null,
   "id": "d1d81de0",
   "metadata": {},
   "outputs": [],
   "source": [
    "FOLDS = 5\n",
    "N_ITERATIONS = 5\n",
    "RANDOM_SEED = 42"
   ]
  },
  {
   "cell_type": "markdown",
   "id": "198c445e",
   "metadata": {},
   "source": [
    "## Bootstrap Aggregation"
   ]
  },
  {
   "cell_type": "code",
   "execution_count": null,
   "id": "70b76b64",
   "metadata": {},
   "outputs": [],
   "source": [
    "from sklearn.tree import DecisionTreeClassifier\n",
    "from sklearn.ensemble import BaggingClassifier\n",
    "from sklearn.model_selection import RandomizedSearchCV\n",
    "\n",
    "base_estimator = DecisionTreeClassifier(random_state=RANDOM_SEED)\n",
    "bagging = BaggingClassifier(estimator=base_estimator, \n",
    "                            random_state=RANDOM_SEED)"
   ]
  },
  {
   "cell_type": "code",
   "execution_count": null,
   "id": "033d2544",
   "metadata": {},
   "outputs": [],
   "source": [
    "bagging_params = {\n",
    "    'n_estimators': [10, 50, 100, 150,200],\n",
    "    'max_samples': [0.1, 0.3, 0.5, 1.0],\n",
    "    'max_features': [0.5, 1.0]\n",
    "}"
   ]
  },
  {
   "cell_type": "code",
   "execution_count": null,
   "id": "fd7e54e5",
   "metadata": {},
   "outputs": [],
   "source": [
    "bagging_search = RandomizedSearchCV(bagging, \n",
    "                                    bagging_params, \n",
    "                                    n_iter=N_ITERATIONS, cv=FOLDS, \n",
    "                                    random_state=RANDOM_SEED)\n",
    "bagging_search.fit(X_train_scaled, y_train)"
   ]
  },
  {
   "cell_type": "markdown",
   "id": "855cb603",
   "metadata": {},
   "source": [
    "## Boosting"
   ]
  },
  {
   "cell_type": "code",
   "execution_count": null,
   "id": "f395e2fc",
   "metadata": {},
   "outputs": [],
   "source": [
    "from xgboost import XGBClassifier\n",
    "from sklearn.model_selection import GridSearchCV\n",
    "boosting = XGBClassifier(random_state=RANDOM_SEED, \n",
    "                         use_label_encoder=False, \n",
    "                         eval_metric='logloss')\n",
    "boosting_params = {\n",
    "    'n_estimators': [50, 100],\n",
    "    'learning_rate': [0.05, 0.1, 0.2],\n",
    "    'max_depth': [3, 5]\n",
    "}\n",
    "\n",
    "boosting_search = GridSearchCV(boosting, \n",
    "                               boosting_params, \n",
    "                               cv=FOLDS)\n",
    "boosting_search.fit(X_train_scaled, y_train)"
   ]
  },
  {
   "cell_type": "markdown",
   "id": "c2814d76",
   "metadata": {},
   "source": [
    "## Stacking "
   ]
  },
  {
   "cell_type": "code",
   "execution_count": null,
   "id": "a2bf70dd",
   "metadata": {},
   "outputs": [],
   "source": [
    "from sklearn.neighbors import KNeighborsClassifier\n",
    "from sklearn.ensemble import RandomForestClassifier\n",
    "from sklearn.linear_model import LogisticRegression\n",
    "from sklearn.naive_bayes import GaussianNB\n",
    "from sklearn.ensemble import AdaBoostClassifier\n",
    "from sklearn.ensemble import StackingClassifier\n",
    "\n",
    "estimators = [\n",
    "    ('lr', LogisticRegression(max_iter=1000)),\n",
    "    ('svc', SVC(probability=True)),\n",
    "    ('dt', DecisionTreeClassifier(random_state=RANDOM_SEED)),\n",
    "    ('knn', KNeighborsClassifier()),\n",
    "    ('rf', RandomForestClassifier(n_estimators=150, random_state=RANDOM_SEED)),\n",
    "    ('naive_bayes', GaussianNB()),\n",
    "    ('ada_boost', AdaBoostClassifier(n_estimators=150, random_state=RANDOM_SEED)),\n",
    "]"
   ]
  },
  {
   "cell_type": "code",
   "execution_count": null,
   "id": "22002c91",
   "metadata": {},
   "outputs": [],
   "source": [
    "stacking = StackingClassifier(\n",
    "    estimators=estimators,\n",
    "    final_estimator=LogisticRegression(),\n",
    "    passthrough=True  \n",
    ")"
   ]
  },
  {
   "cell_type": "code",
   "execution_count": null,
   "id": "abead348",
   "metadata": {},
   "outputs": [],
   "source": [
    "stacking.fit(X_train_scaled, y_train)"
   ]
  },
  {
   "cell_type": "markdown",
   "id": "7c1d57ff",
   "metadata": {},
   "source": [
    "## Evaluate methods"
   ]
  },
  {
   "cell_type": "code",
   "execution_count": null,
   "id": "dc9ac7d5",
   "metadata": {},
   "outputs": [],
   "source": [
    "bagging_preds = bagging_search.predict(X_test_scaled)\n",
    "boosting_preds = boosting_search.predict(X_test_scaled)\n",
    "stacking_preds = stacking.predict(X_test_scaled)"
   ]
  },
  {
   "cell_type": "code",
   "execution_count": null,
   "id": "534bc57e",
   "metadata": {},
   "outputs": [],
   "source": [
    "from sklearn.metrics import (recall_score, precision_score, \n",
    "                             f1_score, accuracy_score)\n",
    "metrics = {\n",
    "    \"Model\": [\"Bagging\", \"Boosting\", \"Stacking\"],\n",
    "    \"Precision\": [\n",
    "        precision_score(y_test, bagging_preds),\n",
    "        precision_score(y_test, boosting_preds),\n",
    "        precision_score(y_test, stacking_preds)\n",
    "    ],\n",
    "    \"Recall\": [\n",
    "        recall_score(y_test, bagging_preds),\n",
    "        recall_score(y_test, boosting_preds),\n",
    "        recall_score(y_test, stacking_preds)\n",
    "    ],\n",
    "    \"F1 Score\": [\n",
    "        f1_score(y_test, bagging_preds),\n",
    "        f1_score(y_test, boosting_preds),\n",
    "        f1_score(y_test, stacking_preds)\n",
    "    ],\n",
    "    \"Accuracy Score\": [\n",
    "        accuracy_score(y_test, bagging_preds),\n",
    "        accuracy_score(y_test, boosting_preds),\n",
    "        accuracy_score(y_test, stacking_preds)\n",
    "    ]}\n",
    "metrics_df = pd.DataFrame(metrics)"
   ]
  },
  {
   "cell_type": "code",
   "execution_count": null,
   "id": "a2d68306",
   "metadata": {},
   "outputs": [],
   "source": [
    "metrics_df"
   ]
  },
  {
   "cell_type": "code",
   "execution_count": null,
   "id": "cfc7e14d",
   "metadata": {},
   "outputs": [],
   "source": [
    "from hyperparameter.visualize import plot_hp_comparison\n",
    "plot_hp_comparison(\n",
    "    results_df=metrics_df,\n",
    "    metric_cols=[\"Precision\", \"Recall\", \n",
    "                 \"F1 Score\", \"Accuracy Score\"],\n",
    "    x_col_name=\"Model\",\n",
    "    title=\"Comparison of Ensemble Methods Performance\",\n",
    "    x_label_rotation=0,\n",
    "    palette='Greys'\n",
    ")"
   ]
  }
 ],
 "metadata": {
  "kernelspec": {
   "display_name": "sklearn-book-py-12-env",
   "language": "python",
   "name": "python3"
  },
  "language_info": {
   "codemirror_mode": {
    "name": "ipython",
    "version": 3
   },
   "file_extension": ".py",
   "mimetype": "text/x-python",
   "name": "python",
   "nbconvert_exporter": "python",
   "pygments_lexer": "ipython3",
   "version": "3.12.9"
  }
 },
 "nbformat": 4,
 "nbformat_minor": 5
}
