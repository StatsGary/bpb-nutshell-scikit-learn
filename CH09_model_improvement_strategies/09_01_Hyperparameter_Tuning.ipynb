{
 "cells": [
  {
   "cell_type": "markdown",
   "id": "a3b27bd8",
   "metadata": {},
   "source": [
    "# Hyperparameter Tuning"
   ]
  },
  {
   "cell_type": "code",
   "execution_count": null,
   "id": "72a434d6",
   "metadata": {},
   "outputs": [],
   "source": [
    "!pip install -r requirements.txt --quiet"
   ]
  },
  {
   "cell_type": "code",
   "execution_count": null,
   "id": "c58c3ff0",
   "metadata": {},
   "outputs": [],
   "source": [
    "import numpy as np\n",
    "from sklearn.datasets import load_breast_cancer\n",
    "from sklearn.model_selection import (train_test_split, GridSearchCV, \n",
    "                                     RandomizedSearchCV, cross_val_score)\n",
    "from sklearn.metrics import f1_score"
   ]
  },
  {
   "cell_type": "markdown",
   "id": "dd4d7bad",
   "metadata": {},
   "source": [
    "## Load and split data"
   ]
  },
  {
   "cell_type": "code",
   "execution_count": null,
   "id": "30301e43",
   "metadata": {},
   "outputs": [],
   "source": [
    "data = load_breast_cancer()\n",
    "X, y = data.data, data.target\n",
    "X_train, X_test, y_train, y_test = train_test_split(X, y, \n",
    "                                                    test_size=0.2, \n",
    "                                                    random_state=42)"
   ]
  },
  {
   "cell_type": "markdown",
   "id": "a393433d",
   "metadata": {},
   "source": [
    "## Model Initialization"
   ]
  },
  {
   "cell_type": "code",
   "execution_count": null,
   "id": "f5a6d78b",
   "metadata": {},
   "outputs": [],
   "source": [
    "from xgboost import XGBClassifier\n",
    "xgb_clf = XGBClassifier(\n",
    "    use_label_encoder=False, \n",
    "    eval_metric='logloss')"
   ]
  },
  {
   "cell_type": "markdown",
   "id": "1365b266",
   "metadata": {},
   "source": [
    "## Grid Search Hyperparameter Tuning using Sci-Kit Learn"
   ]
  },
  {
   "cell_type": "code",
   "execution_count": null,
   "id": "d9123f43",
   "metadata": {},
   "outputs": [],
   "source": [
    "grid_params = {\n",
    "    'n_estimators': [50, 100, 150],\n",
    "    'max_depth': [3, 5, 7],\n",
    "    'learning_rate': [0.001, 0.01, 0.1]\n",
    "}"
   ]
  },
  {
   "cell_type": "code",
   "execution_count": null,
   "id": "e9abd0f1",
   "metadata": {},
   "outputs": [],
   "source": [
    "len(grid_params['n_estimators']) * len(grid_params['max_depth']) * len(grid_params['learning_rate'])"
   ]
  },
  {
   "cell_type": "code",
   "execution_count": null,
   "id": "f3045615",
   "metadata": {},
   "outputs": [],
   "source": [
    "from sklearn.model_selection import GridSearchCV\n",
    "grid_search = GridSearchCV(\n",
    "    estimator=xgb_clf, \n",
    "    param_grid=grid_params, \n",
    "    cv=5, scoring='f1', \n",
    "    verbose=1, n_jobs=-1)"
   ]
  },
  {
   "cell_type": "code",
   "execution_count": null,
   "id": "1758cc4e",
   "metadata": {},
   "outputs": [],
   "source": [
    "grid_search.fit(X_train, y_train)"
   ]
  },
  {
   "cell_type": "code",
   "execution_count": null,
   "id": "ac73468a",
   "metadata": {},
   "outputs": [],
   "source": [
    "print(\"Best Grid Search Params:\", grid_search.best_params_)\n",
    "print(\"Grid Search F1 Score:\", f1_score(y_test, grid_search.best_estimator_.predict(X_test)))"
   ]
  },
  {
   "cell_type": "markdown",
   "id": "0136f15e",
   "metadata": {},
   "source": [
    "## Random Search Hyperparameter Tuning using Sci-Kit Learn"
   ]
  },
  {
   "cell_type": "code",
   "execution_count": null,
   "id": "d73a2b69",
   "metadata": {},
   "outputs": [],
   "source": [
    "random_params = {\n",
    "    'n_estimators': np.arange(50, 200, 10),\n",
    "    'max_depth': np.arange(3, 10),\n",
    "    'learning_rate': np.linspace(0.01, 0.3, 30),\n",
    "    'subsample': [0.6, 0.8, 1.0]\n",
    "}"
   ]
  },
  {
   "cell_type": "code",
   "execution_count": null,
   "id": "f960c9df",
   "metadata": {},
   "outputs": [],
   "source": [
    "random_search = RandomizedSearchCV(\n",
    "    estimator=xgb_clf, \n",
    "    param_distributions=random_params, \n",
    "    n_iter=20, cv=5, scoring='f1', \n",
    "    verbose=1, random_state=42, \n",
    "    n_jobs=-1)"
   ]
  },
  {
   "cell_type": "code",
   "execution_count": null,
   "id": "b3283585",
   "metadata": {},
   "outputs": [],
   "source": [
    "random_search.fit(X_train, y_train)"
   ]
  },
  {
   "cell_type": "code",
   "execution_count": null,
   "id": "ecfda818",
   "metadata": {},
   "outputs": [],
   "source": [
    "print(\"Best Random Search Params:\", random_search.best_params_)\n",
    "print(\"Random Search F1 score:\", f1_score(y_test, \n",
    "                                          random_search.best_estimator_.predict(X_test)))\n"
   ]
  },
  {
   "cell_type": "markdown",
   "id": "4dde9c2f",
   "metadata": {},
   "source": [
    "## Bayesian Optimization with Optuna"
   ]
  },
  {
   "cell_type": "code",
   "execution_count": null,
   "id": "01919f16",
   "metadata": {},
   "outputs": [],
   "source": [
    "import optuna\n",
    "from optuna.samplers import TPESampler\n",
    "from xgboost import XGBClassifier\n",
    "from sklearn.model_selection import cross_val_score\n",
    "from sklearn.metrics import f1_score"
   ]
  },
  {
   "cell_type": "markdown",
   "id": "2d27c17b",
   "metadata": {},
   "source": [
    "### Define and Run Optuna Study"
   ]
  },
  {
   "cell_type": "code",
   "execution_count": null,
   "id": "2981a564",
   "metadata": {},
   "outputs": [],
   "source": [
    "def objective(trial):\n",
    "    params = {\n",
    "        'n_estimators': trial.suggest_int('n_estimators', 50, 200),\n",
    "        'max_depth': trial.suggest_int('max_depth', 3, 10),\n",
    "        'learning_rate': trial.suggest_float('learning_rate', \n",
    "                                             0.001, 0.3),\n",
    "        'subsample': trial.suggest_float('subsample', 0.6, 1.0),\n",
    "        'use_label_encoder': False,\n",
    "        'eval_metric': 'logloss',\n",
    "        'n_jobs': -1 \n",
    "        }\n",
    "    model = XGBClassifier(**params)\n",
    "    f1 = cross_val_score(model, X_train, y_train, \n",
    "                         cv=5, scoring='f1').mean()\n",
    "    return f1"
   ]
  },
  {
   "cell_type": "code",
   "execution_count": null,
   "id": "2f2bc7fc",
   "metadata": {},
   "outputs": [],
   "source": [
    "tpe_sampler = TPESampler() #Bayesian optimization sampler\n",
    "# Create a study object\n",
    "study = optuna.create_study(direction='maximize', \n",
    "                            sampler=tpe_sampler)\n",
    "study.optimize(objective, n_trials=30)"
   ]
  },
  {
   "cell_type": "markdown",
   "id": "cec1c327",
   "metadata": {},
   "source": [
    "### Get Best Study and Retrain Model"
   ]
  },
  {
   "cell_type": "code",
   "execution_count": null,
   "id": "5f2d6b01",
   "metadata": {},
   "outputs": [],
   "source": [
    "best_params = study.best_params\n",
    "best_params"
   ]
  },
  {
   "cell_type": "code",
   "execution_count": null,
   "id": "a71a79a0",
   "metadata": {},
   "outputs": [],
   "source": [
    "best_model = XGBClassifier(**best_params, \n",
    "                           use_label_encoder=False, \n",
    "                           eval_metric='logloss', n_jobs=-1)\n",
    "best_model.fit(X_train, y_train)"
   ]
  },
  {
   "cell_type": "markdown",
   "id": "83e9bf32",
   "metadata": {},
   "source": [
    "### Get best Optuna metrics"
   ]
  },
  {
   "cell_type": "code",
   "execution_count": null,
   "id": "a5c16da9",
   "metadata": {},
   "outputs": [],
   "source": [
    "optuna_f1 = f1_score(y_test, best_model.predict(X_test))\n",
    "print(\"Best Optuna (Bayesian) Params:\", best_params)\n",
    "print(f\"Optuna Bayesian F1-Score on Test Set: {optuna_f1:.4f}\")"
   ]
  },
  {
   "cell_type": "markdown",
   "id": "f6c5f0b7",
   "metadata": {},
   "source": [
    "### Visualize Optuna process"
   ]
  },
  {
   "cell_type": "code",
   "execution_count": null,
   "id": "08c1e8ff",
   "metadata": {},
   "outputs": [],
   "source": [
    "import optuna.visualization as vis\n",
    "vis.plot_optimization_history(study).show()"
   ]
  },
  {
   "cell_type": "code",
   "execution_count": null,
   "id": "24fbb4c2",
   "metadata": {},
   "outputs": [],
   "source": [
    "vis.plot_param_importances(study).show()"
   ]
  },
  {
   "cell_type": "markdown",
   "id": "ce6c0218",
   "metadata": {},
   "source": [
    "## Evaluate methods"
   ]
  },
  {
   "cell_type": "code",
   "execution_count": null,
   "id": "17bd5b1c",
   "metadata": {},
   "outputs": [],
   "source": [
    "import pandas as pd\n",
    "\n",
    "grid_f1 = float(f1_score(y_test, \n",
    "                         grid_search.best_estimator_.predict(X_test)))\n",
    "random_f1 = float(f1_score(y_test, \n",
    "                           random_search.best_estimator_.predict(X_test)))\n",
    "optuna_f1 = float(optuna_f1)\n",
    "\n",
    "hp_results_df = pd.DataFrame([\n",
    "    {'Method': 'Grid Search', 'F1_Score': grid_f1},\n",
    "    {'Method': 'Random Search', 'F1_Score': random_f1},\n",
    "    {'Method': 'Optuna Bayesian', 'F1_Score': optuna_f1}])"
   ]
  },
  {
   "cell_type": "code",
   "execution_count": null,
   "id": "1c499e9a",
   "metadata": {},
   "outputs": [],
   "source": [
    "hp_results_df"
   ]
  },
  {
   "cell_type": "markdown",
   "id": "567816af",
   "metadata": {},
   "source": [
    "### Visualize comparisons"
   ]
  },
  {
   "cell_type": "code",
   "execution_count": 158,
   "id": "cfcc8b28",
   "metadata": {},
   "outputs": [
    {
     "name": "stdout",
     "output_type": "stream",
     "text": [
      "Overwriting hyperparameter/visualize.py\n"
     ]
    }
   ],
   "source": [
    "%%writefile hyperparameter/visualize.py\n",
    "import pandas as pd\n",
    "import seaborn as sns\n",
    "import matplotlib.pyplot as plt\n",
    "\n",
    "def plot_hp_comparison(results_df, \n",
    "                       metric_cols, \n",
    "                       x_col_name='Method',\n",
    "                       figsize=(12, 6),\n",
    "                       x_col_fontsize=12,\n",
    "                       title='Hyperparameter Tuning Comparison',\n",
    "                       title_fontsize=14,\n",
    "                       label_fontsize=10,\n",
    "                       label_color='black',\n",
    "                       label_position='above',   # Now functional again\n",
    "                       x_label_rotation=30,\n",
    "                       show_legend=True,\n",
    "                       **barplot_kwargs):\n",
    "\n",
    "    if isinstance(metric_cols, str):\n",
    "        metric_cols = [metric_cols]\n",
    "\n",
    "    plot_df = results_df.copy()\n",
    "    if len(metric_cols) > 1:\n",
    "        plot_df = pd.melt(plot_df, id_vars=[x_col_name], value_vars=metric_cols,\n",
    "                          var_name='Metric', value_name='Value')\n",
    "    else:\n",
    "        plot_df['Metric'] = metric_cols[0]\n",
    "        plot_df = plot_df.rename(columns={metric_cols[0]: 'Value'})\n",
    "\n",
    "    plt.figure(figsize=figsize)\n",
    "\n",
    "    ax = sns.barplot(data=plot_df, x=x_col_name, y='Value', hue='Metric', \n",
    "                     dodge=len(metric_cols) > 1, **barplot_kwargs)\n",
    "\n",
    "    plt.title(title, fontsize=title_fontsize)\n",
    "    plt.ylim(0, plot_df['Value'].max() * 1.15)\n",
    "    plt.xlabel(x_col_name, fontsize=x_col_fontsize)\n",
    "    plt.ylabel('Value')\n",
    "\n",
    "    if x_label_rotation is not None:\n",
    "        plt.xticks(rotation=x_label_rotation, ha='right')\n",
    "\n",
    "    if label_position.lower() == 'above':\n",
    "        label_type = 'edge'\n",
    "        padding = 3\n",
    "    elif label_position.lower().startswith('cent'):\n",
    "        label_type = 'center'\n",
    "        padding = 0\n",
    "    else:\n",
    "        raise ValueError(\"label_position must be either 'above' or 'center'.\")\n",
    "\n",
    "    for container in ax.containers:\n",
    "        ax.bar_label(container, fmt='%.4f', label_type=label_type, padding=padding, fontsize=label_fontsize, color=label_color)\n",
    "\n",
    "    if show_legend and len(metric_cols) > 1:\n",
    "        plt.legend(title='Metric')\n",
    "    else:\n",
    "        plt.legend([], [], frameon=False)\n",
    "\n",
    "    plt.tight_layout()\n",
    "    plt.show()"
   ]
  },
  {
   "cell_type": "code",
   "execution_count": null,
   "id": "5512047a",
   "metadata": {},
   "outputs": [],
   "source": [
    "from hyperparameter.visualize import plot_hp_comparison"
   ]
  },
  {
   "cell_type": "code",
   "execution_count": null,
   "id": "8130e658",
   "metadata": {},
   "outputs": [],
   "source": [
    "plot_hp_comparison(hp_results_df, metric_cols=['F1_Score'],\n",
    "                   x_col_name='Method', palette='Greys', \n",
    "                   label_position='center')"
   ]
  }
 ],
 "metadata": {
  "kernelspec": {
   "display_name": "sklearn-book-py-12-env",
   "language": "python",
   "name": "python3"
  },
  "language_info": {
   "codemirror_mode": {
    "name": "ipython",
    "version": 3
   },
   "file_extension": ".py",
   "mimetype": "text/x-python",
   "name": "python",
   "nbconvert_exporter": "python",
   "pygments_lexer": "ipython3",
   "version": "3.12.9"
  }
 },
 "nbformat": 4,
 "nbformat_minor": 5
}
