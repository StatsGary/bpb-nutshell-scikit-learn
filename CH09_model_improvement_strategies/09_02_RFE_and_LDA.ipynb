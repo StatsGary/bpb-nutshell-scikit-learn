{
 "cells": [
  {
   "cell_type": "markdown",
   "id": "a3b27bd8",
   "metadata": {},
   "source": [
    "# Recursive Feature Engineering and LDA"
   ]
  },
  {
   "cell_type": "code",
   "execution_count": null,
   "id": "72a434d6",
   "metadata": {},
   "outputs": [],
   "source": [
    "!pip install -r requirements.txt --quiet"
   ]
  },
  {
   "cell_type": "code",
   "execution_count": null,
   "id": "ddd1846b",
   "metadata": {},
   "outputs": [],
   "source": [
    "import numpy as np\n",
    "import pandas as pd\n",
    "from sklearn.datasets import load_breast_cancer\n",
    "from sklearn.model_selection import train_test_split, RandomizedSearchCV\n",
    "from sklearn.metrics import accuracy_score, f1_score\n",
    "from sklearn.discriminant_analysis import LinearDiscriminantAnalysis as LDA\n",
    "from sklearn.feature_selection import RFECV, SelectKBest, chi2\n",
    "from sklearn.preprocessing import StandardScaler\n",
    "from xgboost import XGBClassifier"
   ]
  },
  {
   "cell_type": "markdown",
   "id": "25ae2d41",
   "metadata": {},
   "source": [
    "## Load Dataset"
   ]
  },
  {
   "cell_type": "code",
   "execution_count": null,
   "id": "2708c42c",
   "metadata": {},
   "outputs": [],
   "source": [
    "data = load_breast_cancer()\n",
    "X, y = data.data, data.target\n",
    "X_train, X_test, y_train, y_test = train_test_split(X, y, \n",
    "                                                    test_size=0.2, \n",
    "                                                    random_state=42)"
   ]
  },
  {
   "cell_type": "markdown",
   "id": "01c0de0a",
   "metadata": {},
   "source": [
    "## Fit on baseline model before any transformations"
   ]
  },
  {
   "cell_type": "code",
   "execution_count": null,
   "id": "0c0c7812",
   "metadata": {},
   "outputs": [],
   "source": [
    "results = {}\n",
    "baseline_model = XGBClassifier(use_label_encoder=False, \n",
    "                               eval_metric='logloss', \n",
    "                               random_state=42)\n",
    "\n",
    "baseline_model.fit(X_train, y_train)\n",
    "y_pred_base = baseline_model.predict(X_test)\n",
    "results['Baseline'] = [accuracy_score(y_test, y_pred_base), \n",
    "                       f1_score(y_test, y_pred_base)]"
   ]
  },
  {
   "cell_type": "markdown",
   "id": "76cc5a11",
   "metadata": {},
   "source": [
    "## Use LDA to reduce the complexity of the data"
   ]
  },
  {
   "cell_type": "code",
   "execution_count": null,
   "id": "570be121",
   "metadata": {},
   "outputs": [],
   "source": [
    "scaler = StandardScaler()\n",
    "X_train_scaled = scaler.fit_transform(X_train)\n",
    "X_test_scaled = scaler.transform(X_test)"
   ]
  },
  {
   "cell_type": "code",
   "execution_count": null,
   "id": "dd913151",
   "metadata": {},
   "outputs": [],
   "source": [
    "lda = LDA(n_components=1)\n",
    "X_train_lda = lda.fit_transform(X_train_scaled, y_train)\n",
    "X_test_lda = lda.transform(X_test_scaled)"
   ]
  },
  {
   "cell_type": "code",
   "execution_count": null,
   "id": "4cdda7a9",
   "metadata": {},
   "outputs": [],
   "source": [
    "lda_model = XGBClassifier(use_label_encoder=False, \n",
    "                          eval_metric='logloss', \n",
    "                          random_state=42)\n",
    "lda_model.fit(X_train_lda, y_train)"
   ]
  },
  {
   "cell_type": "code",
   "execution_count": null,
   "id": "96c3b605",
   "metadata": {},
   "outputs": [],
   "source": [
    "y_pred_lda = lda_model.predict(X_test_lda)\n",
    "results['LDA Only'] = [\n",
    "    accuracy_score(y_test, y_pred_lda), \n",
    "    f1_score(y_test, y_pred_lda)]"
   ]
  },
  {
   "cell_type": "markdown",
   "id": "1af6cf23",
   "metadata": {},
   "source": [
    "## Recursive Feature Elimination"
   ]
  },
  {
   "cell_type": "code",
   "execution_count": null,
   "id": "98d9b966",
   "metadata": {},
   "outputs": [],
   "source": [
    "rfecv_model = XGBClassifier(use_label_encoder=False, \n",
    "                            eval_metric='logloss', \n",
    "                            random_state=42)"
   ]
  },
  {
   "cell_type": "code",
   "execution_count": null,
   "id": "d21578f1",
   "metadata": {},
   "outputs": [],
   "source": [
    "rfecv = RFECV(\n",
    "    estimator=rfecv_model, \n",
    "    step=1, cv=5, \n",
    "    scoring='f1')\n",
    "\n",
    "X_train_rfecv = rfecv.fit_transform(X_train, y_train)\n",
    "X_test_rfecv = rfecv.transform(X_test)"
   ]
  },
  {
   "cell_type": "code",
   "execution_count": null,
   "id": "ffece348",
   "metadata": {},
   "outputs": [],
   "source": [
    "rfecv_model = XGBClassifier(use_label_encoder=False, \n",
    "                            eval_metric='logloss',\n",
    "                            random_state=42)\n",
    "rfecv_model.fit(X_train_rfecv, y_train)"
   ]
  },
  {
   "cell_type": "code",
   "execution_count": null,
   "id": "9c6876ee",
   "metadata": {},
   "outputs": [],
   "source": [
    "y_pred_rfecv = rfecv_model.predict(X_test_rfecv)\n",
    "results['RFECV Only'] = [\n",
    "    accuracy_score(y_test, y_pred_rfecv), \n",
    "    f1_score(y_test, y_pred_rfecv)]"
   ]
  },
  {
   "cell_type": "markdown",
   "id": "42092d80",
   "metadata": {},
   "source": [
    "### RFECV and LDA"
   ]
  },
  {
   "cell_type": "code",
   "execution_count": null,
   "id": "0d8c69dc",
   "metadata": {},
   "outputs": [],
   "source": [
    "scaler_rfecv = StandardScaler()\n",
    "X_train_rfecv_scaled = scaler_rfecv.fit_transform(X_train_rfecv)\n",
    "X_test_rfecv_scaled = scaler_rfecv.transform(X_test_rfecv)\n",
    "\n",
    "lda_rfecv = LDA(n_components=1)\n",
    "X_train_rfecv_lda = lda_rfecv.fit_transform(X_train_rfecv_scaled, y_train)\n",
    "X_test_rfecv_lda = lda_rfecv.transform(X_test_rfecv_scaled)\n",
    "\n",
    "rfecv_lda_model = XGBClassifier(use_label_encoder=False, \n",
    "                                eval_metric='logloss', \n",
    "                                randpom_state=42)\n",
    "\n",
    "rfecv_lda_model.fit(X_train_rfecv_lda, y_train)\n",
    "y_pred_rfecv_lda = rfecv_lda_model.predict(X_test_rfecv_lda)\n",
    "results['RFECV + LDA'] = [accuracy_score(y_test, y_pred_rfecv_lda), \n",
    "                          f1_score(y_test, y_pred_rfecv_lda)]\n"
   ]
  },
  {
   "cell_type": "markdown",
   "id": "62f41711",
   "metadata": {},
   "source": [
    "### RFECV + LDA + RandomSearch"
   ]
  },
  {
   "cell_type": "code",
   "execution_count": null,
   "id": "77e79f28",
   "metadata": {},
   "outputs": [],
   "source": [
    "param_grid = {\n",
    "    'n_estimators': np.arange(50, 100, 10),\n",
    "    'max_depth': np.arange(3, 6),\n",
    "    'learning_rate': np.linspace(0.05, 0.2, 5),\n",
    "    'subsample': [0.6, 0.8, 1.0]\n",
    "}\n",
    "\n",
    "random_search = RandomizedSearchCV(\n",
    "    estimator=XGBClassifier(use_label_encoder=False, eval_metric='logloss', random_state=42),\n",
    "    param_distributions=param_grid,\n",
    "    n_iter=5,\n",
    "    cv=5,\n",
    "    scoring='f1',\n",
    "    random_state=42,\n",
    "    n_jobs=-1\n",
    ")\n",
    "\n",
    "random_search.fit(X_train_rfecv_lda, y_train)\n",
    "best_model = random_search.best_estimator_\n",
    "y_pred_final = best_model.predict(X_test_rfecv_lda)\n",
    "results['RFECV + LDA + RS'] = [accuracy_score(y_test, y_pred_final), f1_score(y_test, y_pred_final)]"
   ]
  },
  {
   "cell_type": "markdown",
   "id": "d04f65be",
   "metadata": {},
   "source": [
    "## Chi-Square"
   ]
  },
  {
   "cell_type": "code",
   "execution_count": null,
   "id": "c6e19b9d",
   "metadata": {},
   "outputs": [],
   "source": [
    "def feature_chi2_selection(X, y, k=5):\n",
    "    X_non_neg = X - X.min()  \n",
    "    selector = SelectKBest(score_func=chi2, k=k)\n",
    "    X_new = selector.fit_transform(X_non_neg, y)\n",
    "    return X_new, selector"
   ]
  },
  {
   "cell_type": "code",
   "execution_count": null,
   "id": "94ccbf92",
   "metadata": {},
   "outputs": [],
   "source": [
    "X_chi2_train, chi2_selector = feature_chi2_selection(X_train, \n",
    "                                                   y_train, \n",
    "                                                   k=5)\n",
    "X_chi2_test = chi2_selector.transform(X_test - X_test.min())"
   ]
  },
  {
   "cell_type": "code",
   "execution_count": null,
   "id": "22a6d355",
   "metadata": {},
   "outputs": [],
   "source": [
    "chi2_only_model = XGBClassifier(use_label_encoder=False, \n",
    "                                eval_metric='logloss', random_state=42)\n",
    "chi2_only_model.fit(X_chi2_train, y_train)\n",
    "y_pred_chi2_only = chi2_only_model.predict(X_chi2_test)"
   ]
  },
  {
   "cell_type": "code",
   "execution_count": null,
   "id": "13aa436e",
   "metadata": {},
   "outputs": [],
   "source": [
    "results['Chi2 Only'] = [accuracy_score(y_test, y_pred_chi2_only), \n",
    "                        f1_score(y_test, y_pred_chi2_only)]"
   ]
  },
  {
   "cell_type": "markdown",
   "id": "237f33b0",
   "metadata": {},
   "source": [
    "## Chi-Square + RFECV"
   ]
  },
  {
   "cell_type": "code",
   "execution_count": null,
   "id": "80a33c68",
   "metadata": {},
   "outputs": [],
   "source": [
    "rfecv_chi2_model = XGBClassifier(use_label_encoder=False, \n",
    "                                eval_metric='logloss', \n",
    "                                random_state=42)\n",
    "rfecv_chi2 = RFECV(estimator=rfecv_chi2_model, \n",
    "                    step=1, cv=5, scoring='f1')\n",
    "X_train_chi2_rfecv = rfecv_chi2.fit_transform(X_chi2_train, y_train)\n",
    "X_test_chi2_rfecv = rfecv_chi2.transform(X_chi2_test)"
   ]
  },
  {
   "cell_type": "code",
   "execution_count": null,
   "id": "0fd55f3f",
   "metadata": {},
   "outputs": [],
   "source": [
    "rfecv_chi2_model.fit(X_train_chi2_rfecv, y_train)\n",
    "y_pred_chi2_rfecv = rfecv_chi2_model.predict(X_test_chi2_rfecv)"
   ]
  },
  {
   "cell_type": "code",
   "execution_count": null,
   "id": "63c18ea1",
   "metadata": {},
   "outputs": [],
   "source": [
    "results['Chi2 + RFECV'] = [accuracy_score(y_test, y_pred_chi2_rfecv), \n",
    "                           f1_score(y_test, y_pred_chi2_rfecv)]"
   ]
  },
  {
   "cell_type": "markdown",
   "id": "f4f13f59",
   "metadata": {},
   "source": [
    "## Evaluate and Compare Methods"
   ]
  },
  {
   "cell_type": "code",
   "execution_count": null,
   "id": "f0ee4564",
   "metadata": {},
   "outputs": [],
   "source": [
    "comparison_df = pd.DataFrame(results, \n",
    "                             index=['Accuracy', 'F1 Score']).T\n",
    "print(comparison_df.head())"
   ]
  },
  {
   "cell_type": "code",
   "execution_count": null,
   "id": "d7d16990",
   "metadata": {},
   "outputs": [],
   "source": [
    "comparison_df_reset = comparison_df.reset_index().rename(\n",
    "    columns={'index': 'Method'})\n",
    "comparison_df_reset"
   ]
  },
  {
   "cell_type": "code",
   "execution_count": null,
   "id": "63cfbd7a",
   "metadata": {},
   "outputs": [],
   "source": [
    "from hyperparameter.visualize import plot_hp_comparison\n",
    "plot_hp_comparison(comparison_df_reset, \n",
    "                   ['Accuracy', 'F1 Score'], \n",
    "                   figsize=(16, 8), \n",
    "                   x_label_rotation=None,\n",
    "                   label_fontsize=12,\n",
    "                   label_position='center',\n",
    "                   palette='Greys',\n",
    "                   title='Feature Selection and Dimensionality Reduction comparison')\n"
   ]
  }
 ],
 "metadata": {
  "kernelspec": {
   "display_name": "sklearn-book-py-12-env",
   "language": "python",
   "name": "python3"
  },
  "language_info": {
   "codemirror_mode": {
    "name": "ipython",
    "version": 3
   },
   "file_extension": ".py",
   "mimetype": "text/x-python",
   "name": "python",
   "nbconvert_exporter": "python",
   "pygments_lexer": "ipython3",
   "version": "3.12.9"
  }
 },
 "nbformat": 4,
 "nbformat_minor": 5
}
