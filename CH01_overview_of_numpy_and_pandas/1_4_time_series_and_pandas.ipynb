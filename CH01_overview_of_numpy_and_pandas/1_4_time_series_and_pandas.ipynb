{
 "cells": [
  {
   "cell_type": "markdown",
   "metadata": {
    "id": "cgiyojnIXg66"
   },
   "source": [
    "# Time series with Python"
   ]
  },
  {
   "cell_type": "markdown",
   "metadata": {
    "id": "tOKVVP82XmBL"
   },
   "source": [
    "## Creating a time series DataFrame"
   ]
  },
  {
   "cell_type": "code",
   "execution_count": null,
   "metadata": {
    "colab": {
     "base_uri": "https://localhost:8080/",
     "height": 423
    },
    "id": "pTArV_mkXrPB",
    "outputId": "c812f057-f1f8-4c02-c217-93a86cfc0c4b"
   },
   "outputs": [],
   "source": [
    "import pandas as pd\n",
    "import numpy as np\n",
    "\n",
    "dates = pd.date_range(start='2024-01-01', periods=120, freq='D')\n",
    "data = pd.DataFrame({\n",
    "    'Sales': np.random.randint(100, 200, size=120)\n",
    "}, index=dates)\n",
    "\n",
    "data\n"
   ]
  },
  {
   "cell_type": "code",
   "execution_count": null,
   "metadata": {
    "colab": {
     "base_uri": "https://localhost:8080/",
     "height": 407
    },
    "id": "Kc2p72UHaxQJ",
    "outputId": "272e435f-3d51-405a-89ef-1ec4e30c5d23"
   },
   "outputs": [],
   "source": [
    "from matplotlib import pyplot as plt\n",
    "data['Sales'].plot(kind='line', figsize=(8, 4), title='Sales')\n",
    "plt.gca().spines[['top', 'right']].set_visible(False)"
   ]
  },
  {
   "cell_type": "markdown",
   "metadata": {
    "id": "uZcJeMJqX6Hq"
   },
   "source": [
    "## Resampling time series data"
   ]
  },
  {
   "cell_type": "code",
   "execution_count": null,
   "metadata": {
    "colab": {
     "base_uri": "https://localhost:8080/"
    },
    "id": "fiTi18vNX8q7",
    "outputId": "eaf1f8ea-5f47-4555-c9d1-56316eb1c609"
   },
   "outputs": [],
   "source": [
    "monthly_data = data.resample('ME').sum()\n",
    "print(monthly_data)"
   ]
  },
  {
   "cell_type": "code",
   "execution_count": null,
   "metadata": {
    "colab": {
     "base_uri": "https://localhost:8080/",
     "height": 607
    },
    "id": "iUNt6I9DcL37",
    "outputId": "004700dd-5a86-4dde-8a76-c8f9fb49b998"
   },
   "outputs": [],
   "source": [
    "import matplotlib.pyplot as plt\n",
    "\n",
    "average_sales = monthly_data['Sales'].mean()\n",
    "ax = monthly_data['Sales'].plot(kind='bar', color='black', figsize=(10, 6))\n",
    "plt.axhline(y=average_sales, color='red', linestyle='--', label='Average Sales')\n",
    "plt.title('Monthly Sales with Average')\n",
    "plt.xlabel('Month')\n",
    "plt.ylabel('Sales')\n",
    "plt.legend(loc='lower center', bbox_to_anchor=(0.5, -0.15), ncol=1)\n",
    "ax.set_xticklabels([date.strftime('%Y-%m') for date in monthly_data.index])\n",
    "plt.xticks(rotation=45) \n",
    "plt.tight_layout()\n",
    "plt.gca().spines[['top', 'right']].set_visible(False)\n",
    "plt.show()"
   ]
  },
  {
   "cell_type": "markdown",
   "metadata": {
    "id": "BZtSL8G_YDKK"
   },
   "source": [
    "### Handling Missing Dates in Time Series"
   ]
  },
  {
   "cell_type": "code",
   "execution_count": null,
   "metadata": {
    "colab": {
     "base_uri": "https://localhost:8080/"
    },
    "id": "fBGftsGJYGq5",
    "outputId": "b6366d10-9413-47c4-a05f-26fd693dc21f"
   },
   "outputs": [],
   "source": [
    "# Create a DataFrame with some missing dates\n",
    "dates = pd.to_datetime(['2023-01-01', '2023-01-03', '2023-01-05'])\n",
    "data_with_gaps = pd.DataFrame({\n",
    "    'Sales': [150, 200, 180]\n",
    "}, index=dates)\n",
    "\n",
    "full_dates = pd.date_range(start='2023-01-01', end='2023-01-07')\n",
    "data_filled = data_with_gaps.reindex(full_dates)\n",
    "data_filled_ffill = data_filled.ffill()\n",
    "print(data_filled_ffill)"
   ]
  },
  {
   "cell_type": "markdown",
   "metadata": {
    "id": "4_UzmbZ4YfDr"
   },
   "source": [
    "## Shifting Time Series Data"
   ]
  },
  {
   "cell_type": "code",
   "execution_count": null,
   "metadata": {
    "colab": {
     "base_uri": "https://localhost:8080/"
    },
    "id": "wDEnVSIrYhSr",
    "outputId": "5eefff67-33ae-4901-a54e-18bb6cabaf4d"
   },
   "outputs": [],
   "source": [
    "data_shifted = data.shift(1)\n",
    "data['Daily Change'] = data['Sales'] - data_shifted['Sales']\n",
    "print(data)"
   ]
  },
  {
   "cell_type": "code",
   "execution_count": null,
   "metadata": {
    "colab": {
     "base_uri": "https://localhost:8080/",
     "height": 607
    },
    "id": "7CFB8jaxfRPa",
    "outputId": "0588e9da-25ac-4672-c3d3-a7ff47104dca"
   },
   "outputs": [],
   "source": [
    "import seaborn as sns\n",
    "import matplotlib.pyplot as plt\n",
    "\n",
    "# Create a custom color array: blue if Daily Change >= 0, black if Daily Change < 0\n",
    "colors = ['black' if change >= 0 else 'black' for change in data['Daily Change']]\n",
    "plt.figure(figsize=(10, 6))\n",
    "for i in range(1, len(data)):\n",
    "    sns.lineplot(x=data.index[i-1:i+1], y=data['Daily Change'].iloc[i-1:i+1], color=colors[i], linewidth=2)\n",
    "plt.title('Daily Changes')\n",
    "plt.xlabel('Date')\n",
    "plt.ylabel('Daily Change')\n",
    "plt.xticks(rotation=45)\n",
    "plt.tight_layout()\n",
    "plt.show()"
   ]
  },
  {
   "cell_type": "markdown",
   "metadata": {
    "id": "TgdJFAs3fR63"
   },
   "source": []
  },
  {
   "cell_type": "markdown",
   "metadata": {
    "id": "Zi21kGw8Yo7L"
   },
   "source": [
    "### Rolling window calculations"
   ]
  },
  {
   "cell_type": "code",
   "execution_count": null,
   "metadata": {
    "colab": {
     "base_uri": "https://localhost:8080/"
    },
    "id": "X2gxCa2mYsEi",
    "outputId": "d2de698c-6724-4a13-bd42-92ded2a65738"
   },
   "outputs": [],
   "source": [
    "data['3-day Rolling Avg'] = data['Sales'].rolling(window=3).mean()\n",
    "print(data)"
   ]
  },
  {
   "cell_type": "code",
   "execution_count": null,
   "metadata": {
    "colab": {
     "base_uri": "https://localhost:8080/",
     "height": 607
    },
    "id": "slxEyFXkifLV",
    "outputId": "b97a39bd-14d6-4dd3-977a-40004d35baae"
   },
   "outputs": [],
   "source": [
    "import pandas as pd\n",
    "import seaborn as sns\n",
    "import matplotlib.pyplot as plt\n",
    "\n",
    "plt.figure(figsize=(10, 6))\n",
    "sns.lineplot(x=data.index, y=data['Sales'], label='Sales', color='blue')\n",
    "sns.lineplot(x=data.index, y=data['3-day Rolling Avg'], label='3-day Rolling Avg', color='red', linestyle='--')\n",
    "plt.title('Sales and 3-day Rolling Average')\n",
    "plt.xlabel('Date')\n",
    "plt.ylabel('Sales')\n",
    "plt.legend(loc='best')\n",
    "plt.xticks(rotation=45)\n",
    "plt.tight_layout()\n",
    "plt.show()\n"
   ]
  }
 ],
 "metadata": {
  "colab": {
   "provenance": []
  },
  "kernelspec": {
   "display_name": "scikit-learn",
   "language": "python",
   "name": "python3"
  },
  "language_info": {
   "codemirror_mode": {
    "name": "ipython",
    "version": 3
   },
   "file_extension": ".py",
   "mimetype": "text/x-python",
   "name": "python",
   "nbconvert_exporter": "python",
   "pygments_lexer": "ipython3",
   "version": "3.10.15"
  }
 },
 "nbformat": 4,
 "nbformat_minor": 0
}
