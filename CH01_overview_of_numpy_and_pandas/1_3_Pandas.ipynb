{
 "cells": [
  {
   "cell_type": "markdown",
   "metadata": {
    "id": "VOhOcnriVtT4"
   },
   "source": [
    "# Pandas 🐼 overview"
   ]
  },
  {
   "cell_type": "markdown",
   "metadata": {
    "id": "AzLNQpwVttiZ"
   },
   "source": [
    "## Create DataFrame from scratch"
   ]
  },
  {
   "cell_type": "code",
   "execution_count": null,
   "metadata": {
    "colab": {
     "base_uri": "https://localhost:8080/"
    },
    "id": "sy3zobIOlwlP",
    "outputId": "7a5cacae-2ef7-401a-aea9-252226277e50"
   },
   "outputs": [],
   "source": [
    "import pandas as pd\n",
    "data = {\n",
    "    'Bedrooms': [3, 2, 4, 3],\n",
    "    'Size_sqft': [2000, 1500, 2500, 1800],\n",
    "    'Age_years': [10, 20, 5, 15]\n",
    "}\n",
    "\n",
    "df = pd.DataFrame(data)\n",
    "print(df.head())\n",
    "print(type(df))"
   ]
  },
  {
   "cell_type": "markdown",
   "metadata": {
    "id": "wK6yc1ORtwcY"
   },
   "source": [
    "## Create Series"
   ]
  },
  {
   "cell_type": "code",
   "execution_count": null,
   "metadata": {
    "colab": {
     "base_uri": "https://localhost:8080/"
    },
    "id": "H8UNVqX6r9CM",
    "outputId": "4487a5ac-370f-46b8-9188-20a9b20e9046"
   },
   "outputs": [],
   "source": [
    "# Data for house prices\n",
    "prices = [500000, 400000, 650000, 550000]\n",
    "\n",
    "# Create the Series from scratch\n",
    "price_series = pd.Series(prices, name='Price')\n",
    "\n",
    "# Display the Series\n",
    "print(price_series)"
   ]
  },
  {
   "cell_type": "markdown",
   "metadata": {
    "id": "9W5zuFimWzL6"
   },
   "source": [
    "## Importing and loading data"
   ]
  },
  {
   "cell_type": "code",
   "execution_count": null,
   "metadata": {
    "id": "u8z4yLNFVxTH"
   },
   "outputs": [],
   "source": [
    "import pandas as pd\n",
    "import seaborn as sns"
   ]
  },
  {
   "cell_type": "code",
   "execution_count": null,
   "metadata": {
    "id": "XMqI6eFsmNoc"
   },
   "outputs": [],
   "source": [
    "# Load the Palmer Penguins dataset\n",
    "penguins = sns.load_dataset('penguins')"
   ]
  },
  {
   "cell_type": "markdown",
   "metadata": {
    "id": "IfmqPZ5hW3CV"
   },
   "source": [
    "## Data inspection and summarisation"
   ]
  },
  {
   "cell_type": "code",
   "execution_count": null,
   "metadata": {
    "colab": {
     "base_uri": "https://localhost:8080/",
     "height": 206
    },
    "id": "TWxi6Nd-W6fQ",
    "outputId": "a5f0aec8-e61a-4fab-827b-948eb8fe0c91"
   },
   "outputs": [],
   "source": [
    "# Display the first few rows of the dataset\n",
    "penguins.head()"
   ]
  },
  {
   "cell_type": "code",
   "execution_count": null,
   "metadata": {
    "colab": {
     "base_uri": "https://localhost:8080/",
     "height": 363
    },
    "id": "VFQFB1yXW_QF",
    "outputId": "63091f73-5c00-4897-9cb9-acefcb80ae98"
   },
   "outputs": [],
   "source": [
    "# Display the last 5 rows\n",
    "penguins.tail(10)"
   ]
  },
  {
   "cell_type": "markdown",
   "metadata": {
    "id": "JmgRRTxXXKW1"
   },
   "source": [
    "### Check data types"
   ]
  },
  {
   "cell_type": "code",
   "execution_count": null,
   "metadata": {
    "colab": {
     "base_uri": "https://localhost:8080/",
     "height": 303
    },
    "id": "l5L9bcX9XI08",
    "outputId": "b0c2602a-79c2-43f9-a5fb-4b5da77008a8"
   },
   "outputs": [],
   "source": [
    "# Check the data types of each column\n",
    "penguins.dtypes"
   ]
  },
  {
   "cell_type": "markdown",
   "metadata": {
    "id": "H4wguJa2XP97"
   },
   "source": [
    "### Get info of the DataFrame"
   ]
  },
  {
   "cell_type": "code",
   "execution_count": null,
   "metadata": {
    "colab": {
     "base_uri": "https://localhost:8080/"
    },
    "id": "DhQi41cDXSnH",
    "outputId": "8fd2537c-bd99-488e-9a59-aed7e11f4ba4"
   },
   "outputs": [],
   "source": [
    "# Get a concise summary of the DataFrame\n",
    "penguins.info()"
   ]
  },
  {
   "cell_type": "markdown",
   "metadata": {
    "id": "Tsn_QiNSXW31"
   },
   "source": [
    "### Get quick summary statistics"
   ]
  },
  {
   "cell_type": "code",
   "execution_count": null,
   "metadata": {
    "colab": {
     "base_uri": "https://localhost:8080/",
     "height": 300
    },
    "id": "ge_iuy40XZQu",
    "outputId": "d9fe77b0-9e5f-46a5-9563-f4b9c0087de3"
   },
   "outputs": [],
   "source": [
    "# Get summary statistics for numerical columns\n",
    "penguins.describe()"
   ]
  },
  {
   "cell_type": "markdown",
   "metadata": {
    "id": "rF3u0xmmXdqM"
   },
   "source": [
    "### List column names"
   ]
  },
  {
   "cell_type": "code",
   "execution_count": null,
   "metadata": {
    "colab": {
     "base_uri": "https://localhost:8080/"
    },
    "id": "MnriaYt_XfqV",
    "outputId": "d2125903-1e21-4a26-d4eb-48d6bbbf1e98"
   },
   "outputs": [],
   "source": [
    "# List all the column names\n",
    "penguins.columns"
   ]
  },
  {
   "cell_type": "markdown",
   "metadata": {
    "id": "pTQBW5G3Xj8m"
   },
   "source": [
    "### Check the shape of the data"
   ]
  },
  {
   "cell_type": "code",
   "execution_count": null,
   "metadata": {
    "colab": {
     "base_uri": "https://localhost:8080/"
    },
    "id": "lZkeBCioXmSt",
    "outputId": "3616f6d0-2d2b-4fa2-f3c7-1f53ed9a3d90"
   },
   "outputs": [],
   "source": [
    "# Check the number of rows and columns in the DataFrame\n",
    "penguins.shape"
   ]
  },
  {
   "cell_type": "markdown",
   "metadata": {
    "id": "terfCIDHXrEs"
   },
   "source": [
    "## Selecting, Filtering and Subsetting Data"
   ]
  },
  {
   "cell_type": "markdown",
   "metadata": {
    "id": "XJeY3BsIYAFk"
   },
   "source": [
    "### Select a single column"
   ]
  },
  {
   "cell_type": "code",
   "execution_count": null,
   "metadata": {
    "colab": {
     "base_uri": "https://localhost:8080/",
     "height": 458
    },
    "id": "mI0XgVbAYCGM",
    "outputId": "1a95a190-9e62-4a03-9b59-1f454543554a"
   },
   "outputs": [],
   "source": [
    "# Select a single column (species)\n",
    "penguins['species']"
   ]
  },
  {
   "cell_type": "markdown",
   "metadata": {
    "id": "s_m6uh_ZYQy5"
   },
   "source": [
    "### Select multiple columns"
   ]
  },
  {
   "cell_type": "code",
   "execution_count": null,
   "metadata": {
    "colab": {
     "base_uri": "https://localhost:8080/",
     "height": 423
    },
    "id": "mUcowjrfYTBp",
    "outputId": "b95cc5ed-49f3-47cd-a2d5-758887932dc6"
   },
   "outputs": [],
   "source": [
    "# Select multiple columns\n",
    "penguins[['species', 'island', 'bill_length_mm']]"
   ]
  },
  {
   "cell_type": "markdown",
   "metadata": {
    "id": "vFcEHo0xY014"
   },
   "source": [
    "### Filtering rows based on a condition"
   ]
  },
  {
   "cell_type": "code",
   "execution_count": null,
   "metadata": {
    "colab": {
     "base_uri": "https://localhost:8080/",
     "height": 423
    },
    "id": "Qgc3UkxSZB8K",
    "outputId": "d48359ca-2b04-432f-e08e-0bc22c11a0f0"
   },
   "outputs": [],
   "source": [
    "# Filter rows where bill_length_mm is greater than 45\n",
    "filtered_penguins = penguins[penguins['bill_length_mm'] > 45]\n",
    "filtered_penguins"
   ]
  },
  {
   "cell_type": "markdown",
   "metadata": {
    "id": "VAVFBcA9ZNZp"
   },
   "source": [
    "### Filter rows based on multiple conditions with `loc`\n",
    "\n",
    "\n",
    "\n"
   ]
  },
  {
   "cell_type": "markdown",
   "metadata": {
    "id": "WGU38Iy3ZxkG"
   },
   "source": [
    "Operators:\n",
    "- Use & for combining multiple conditions with a logical AND.\n",
    "- Use | for combining multiple conditions with a logical OR.\n",
    "- Use ~ to negate a condition (logical NOT)."
   ]
  },
  {
   "cell_type": "markdown",
   "metadata": {
    "id": "ZwmVoyeMZ-hL"
   },
   "source": [
    "#### AND filtering"
   ]
  },
  {
   "cell_type": "code",
   "execution_count": null,
   "metadata": {
    "colab": {
     "base_uri": "https://localhost:8080/",
     "height": 582
    },
    "id": "Khzm0rQAZXjM",
    "outputId": "677fe772-69ea-44d6-dc22-60fcef725820"
   },
   "outputs": [],
   "source": [
    "# Filter penguins where species is \"Adelie\", island is \"Dream\", and bill_length_mm > 40\n",
    "filtered_penguins = penguins.loc[\n",
    "    (penguins['species'] == 'Adelie') &\n",
    "    (penguins['island'] == 'Dream') &\n",
    "    (penguins['bill_length_mm'] > 40)\n",
    "]\n",
    "\n",
    "filtered_penguins"
   ]
  },
  {
   "cell_type": "code",
   "execution_count": null,
   "metadata": {
    "colab": {
     "base_uri": "https://localhost:8080/",
     "height": 452
    },
    "id": "GZYWgWHVHabu",
    "outputId": "7b02f3fd-edb8-4d79-a1f4-8fd49b5772b3"
   },
   "outputs": [],
   "source": [
    "from matplotlib import pyplot as plt\n",
    "filtered_penguins['bill_length_mm'].plot(kind='hist', bins=20, title='bill_length_mm')\n",
    "plt.gca().spines[['top', 'right',]].set_visible(False)"
   ]
  },
  {
   "cell_type": "markdown",
   "metadata": {
    "id": "LFz4mAQnaCbc"
   },
   "source": [
    "#### OR filtering"
   ]
  },
  {
   "cell_type": "code",
   "execution_count": null,
   "metadata": {
    "colab": {
     "base_uri": "https://localhost:8080/",
     "height": 423
    },
    "id": "oqv9UJIHaE7k",
    "outputId": "8eca9c5e-bbb1-4ef7-8d86-166ba97475bd"
   },
   "outputs": [],
   "source": [
    "# Filter penguins where species is \"Adelie\" or bill_length_mm > 45\n",
    "filtered_penguins_or = penguins.loc[\n",
    "    (penguins['species'] == 'Adelie') |\n",
    "    (penguins['bill_length_mm'] > 45)\n",
    "]\n",
    "\n",
    "filtered_penguins_or\n"
   ]
  },
  {
   "cell_type": "markdown",
   "metadata": {
    "id": "BYtoo-N2aNEc"
   },
   "source": [
    "#### NOT condition"
   ]
  },
  {
   "cell_type": "code",
   "execution_count": null,
   "metadata": {
    "colab": {
     "base_uri": "https://localhost:8080/",
     "height": 423
    },
    "id": "cjbKs6_EaSTv",
    "outputId": "ce736340-19e5-402a-ff12-23b4db074925"
   },
   "outputs": [],
   "source": [
    "# Filter penguins where species is not \"Gentoo\"\n",
    "filtered_penguins_not = penguins.loc[\n",
    "    ~(penguins['species'] == 'Gentoo')\n",
    "]\n",
    "\n",
    "filtered_penguins_not"
   ]
  },
  {
   "cell_type": "markdown",
   "metadata": {
    "id": "xUBT26gwaws5"
   },
   "source": [
    "### Filter rows with `iloc`"
   ]
  },
  {
   "cell_type": "code",
   "execution_count": null,
   "metadata": {
    "colab": {
     "base_uri": "https://localhost:8080/",
     "height": 394
    },
    "id": "bF_25B0ra2y6",
    "outputId": "4f6495e5-0b4d-458f-d3b7-db6f325b5fb0"
   },
   "outputs": [],
   "source": [
    "# Select rows from index position 20 to 30, and columns 0, 1, and 2 using iloc\n",
    "subset_penguins = penguins.iloc[20:31, [0, 1, 2]]\n",
    "subset_penguins"
   ]
  },
  {
   "cell_type": "markdown",
   "metadata": {
    "id": "rR2UxYyWbCAA"
   },
   "source": [
    "### Filtering rows with `numpy.where()`"
   ]
  },
  {
   "cell_type": "code",
   "execution_count": null,
   "metadata": {
    "colab": {
     "base_uri": "https://localhost:8080/",
     "height": 423
    },
    "id": "mcJ94iI1bGMR",
    "outputId": "2f66be8d-52a3-4ca0-b601-7fb20ac52d52"
   },
   "outputs": [],
   "source": [
    "import numpy as np\n",
    "\n",
    "indices = np.where(\n",
    "     (penguins['species'] == 'Adelie') |\n",
    "     (penguins['bill_length_mm'] > 45)\n",
    "     )\n",
    "# Use these indices to filter the DataFrame\n",
    "filtered_penguins_or_numpy = penguins.iloc[indices]\n",
    "filtered_penguins_or_numpy"
   ]
  },
  {
   "cell_type": "markdown",
   "metadata": {
    "id": "wNl1E0Lsc7Ea"
   },
   "source": [
    "## Sorting and Ranking"
   ]
  },
  {
   "cell_type": "markdown",
   "metadata": {
    "id": "ZGibTWPgc_lZ"
   },
   "source": [
    "### Sort by a single column\n",
    "\n"
   ]
  },
  {
   "cell_type": "code",
   "execution_count": null,
   "metadata": {
    "colab": {
     "base_uri": "https://localhost:8080/",
     "height": 423
    },
    "id": "EZxxqwSbdE8I",
    "outputId": "aa62f62a-0f19-4768-9053-0104c32bfbea"
   },
   "outputs": [],
   "source": [
    "# Sort by bill_length_mm in descending order\n",
    "sorted_penguins = penguins.sort_values(by='bill_length_mm', ascending=False)\n",
    "sorted_penguins"
   ]
  },
  {
   "cell_type": "markdown",
   "metadata": {
    "id": "XKB6r_7sdKM0"
   },
   "source": [
    "### Sort by multiple columns"
   ]
  },
  {
   "cell_type": "code",
   "execution_count": null,
   "metadata": {
    "colab": {
     "base_uri": "https://localhost:8080/",
     "height": 423
    },
    "id": "unVss0s7dNOy",
    "outputId": "0cf679e5-d7a3-4a84-ef8c-f2fdb02c4d09"
   },
   "outputs": [],
   "source": [
    "# Sort by species and then by bill_length_mm\n",
    "sorted_penguins = penguins.sort_values(by=['species', 'bill_length_mm'],\n",
    "                                       ascending=[True, False])\n",
    "sorted_penguins\n"
   ]
  },
  {
   "cell_type": "markdown",
   "metadata": {
    "id": "pn3EX3ShdiI4"
   },
   "source": [
    "## Handling Missing Data"
   ]
  },
  {
   "cell_type": "markdown",
   "metadata": {
    "id": "HRgTGGfydn2w"
   },
   "source": [
    "### Check for missing data"
   ]
  },
  {
   "cell_type": "code",
   "execution_count": null,
   "metadata": {
    "colab": {
     "base_uri": "https://localhost:8080/",
     "height": 303
    },
    "id": "OO1kjmqkdqH4",
    "outputId": "77488d50-73c3-465f-829b-8d21ab5b0a51"
   },
   "outputs": [],
   "source": [
    "penguins.isnull().sum()"
   ]
  },
  {
   "cell_type": "markdown",
   "metadata": {
    "id": "hgdVqISAeFKN"
   },
   "source": [
    "### Drop rows with missing values"
   ]
  },
  {
   "cell_type": "code",
   "execution_count": null,
   "metadata": {
    "colab": {
     "base_uri": "https://localhost:8080/",
     "height": 423
    },
    "id": "vKw4Dwt2eHVt",
    "outputId": "fc1f78e1-3ffc-44d0-86fc-1764d36a64fa"
   },
   "outputs": [],
   "source": [
    "# Drop rows with missing values\n",
    "penguins_dropped = penguins.dropna()\n",
    "penguins_dropped"
   ]
  },
  {
   "cell_type": "markdown",
   "metadata": {
    "id": "GKIOsC98eNFm"
   },
   "source": [
    "### Imputing missing values (filling them in)"
   ]
  },
  {
   "cell_type": "code",
   "execution_count": null,
   "metadata": {
    "colab": {
     "base_uri": "https://localhost:8080/",
     "height": 423
    },
    "id": "SGy_4GxUeQsY",
    "outputId": "741e4135-0128-4db3-9e70-c04cd398899f"
   },
   "outputs": [],
   "source": [
    "# Fill missing values with the mean (for numerical columns)\n",
    "penguins['bill_length_mm'] = penguins['bill_length_mm'].fillna(penguins['bill_length_mm'].mean())\n",
    "penguins"
   ]
  },
  {
   "cell_type": "markdown",
   "metadata": {
    "id": "LuygDI4JeZzT"
   },
   "source": [
    "## Renaming columns"
   ]
  },
  {
   "cell_type": "code",
   "execution_count": null,
   "metadata": {
    "colab": {
     "base_uri": "https://localhost:8080/"
    },
    "id": "GeNEnfg8fFyV",
    "outputId": "c6059043-7625-491c-dbae-8226a6f2753c"
   },
   "outputs": [],
   "source": [
    "# Rename the column 'bill_length_mm' to 'bill_length'\n",
    "new_names = {\n",
    "    'bill_length_mm': 'bill_length',\n",
    "    'bill_depth_mm':'bill_depth'}\n",
    "\n",
    "penguins_renamed = penguins.rename(columns=new_names)\n",
    "print(penguins_renamed.head())"
   ]
  },
  {
   "cell_type": "code",
   "execution_count": null,
   "metadata": {
    "colab": {
     "base_uri": "https://localhost:8080/"
    },
    "id": "BEb0ZqgOf_9k",
    "outputId": "a81f1356-5079-475f-8d93-da39b7994ee5"
   },
   "outputs": [],
   "source": [
    "if isinstance(new_names, dict):\n",
    "    print(\"New names is a `dictionary` structure type\")"
   ]
  },
  {
   "cell_type": "markdown",
   "metadata": {
    "id": "1llGKCyBgXg3"
   },
   "source": [
    "## Grouping and aggregating data"
   ]
  },
  {
   "cell_type": "markdown",
   "metadata": {
    "id": "u4m3Zggfgkdx"
   },
   "source": [
    "### Group and aggregate by single column"
   ]
  },
  {
   "cell_type": "code",
   "execution_count": null,
   "metadata": {
    "colab": {
     "base_uri": "https://localhost:8080/"
    },
    "id": "jDm_I_HMgogB",
    "outputId": "2e7c1eaf-3c4b-48a8-f51c-9a83e8ba3128"
   },
   "outputs": [],
   "source": [
    "# Group by species and calculate the mean for each numeric column\n",
    "species_grouped = penguins.groupby('species').mean(numeric_only=True)\n",
    "print(species_grouped)"
   ]
  },
  {
   "cell_type": "markdown",
   "metadata": {
    "id": "Ql9Lya_ahyVE"
   },
   "source": [
    "### Group by multiple columns and aggregate"
   ]
  },
  {
   "cell_type": "code",
   "execution_count": null,
   "metadata": {
    "colab": {
     "base_uri": "https://localhost:8080/"
    },
    "id": "iWW4ksR0gff7",
    "outputId": "bbe12d1c-590c-4135-b386-068f86aa758a"
   },
   "outputs": [],
   "source": [
    "# Group by species and island and calculate the mean\n",
    "grouped = penguins.groupby(['species', 'island']).mean(numeric_only=True)\n",
    "print(grouped)"
   ]
  },
  {
   "cell_type": "markdown",
   "metadata": {
    "id": "lbtxiXvph4Q3"
   },
   "source": [
    "## Merging and joining DataFrames"
   ]
  },
  {
   "cell_type": "code",
   "execution_count": null,
   "metadata": {
    "colab": {
     "base_uri": "https://localhost:8080/",
     "height": 423
    },
    "id": "k042kBQxh79v",
    "outputId": "70a4ae3e-aaac-471e-b2e9-8108768f8d2d"
   },
   "outputs": [],
   "source": [
    "# Sample DataFrame for merging\n",
    "extra_data = pd.DataFrame({\n",
    "    'species': ['Adelie', 'Chinstrap', 'Gentoo'],\n",
    "    'endangered_status': ['Least Concern', 'Near Threatened', 'Least Concern']\n",
    "})\n",
    "\n",
    "merged_penguins = pd.merge(penguins, extra_data, on='species', how='left')\n",
    "merged_penguins\n"
   ]
  },
  {
   "cell_type": "markdown",
   "metadata": {
    "id": "4DpAmLSHieuK"
   },
   "source": [
    "## Applying functions to DataFrame with `apply()`"
   ]
  },
  {
   "cell_type": "markdown",
   "metadata": {
    "id": "fdRWlacQilLh"
   },
   "source": [
    "### Applying a Lambda function"
   ]
  },
  {
   "cell_type": "code",
   "execution_count": null,
   "metadata": {
    "colab": {
     "base_uri": "https://localhost:8080/",
     "height": 423
    },
    "id": "XzBRjDSsipeK",
    "outputId": "ceba6fd2-81aa-4b8a-ccd9-508324f19ba9"
   },
   "outputs": [],
   "source": [
    "# Apply a lambda function to create a new column that classifies penguins by bill length\n",
    "penguins['bill_category'] = penguins['bill_length_mm'].apply(lambda\n",
    "                                                             x: 'Long' if x > 45 else 'Short')\n",
    "penguins\n"
   ]
  },
  {
   "cell_type": "markdown",
   "metadata": {
    "id": "ihwK1Z0tixmh"
   },
   "source": [
    "### Applying a custom function"
   ]
  },
  {
   "cell_type": "code",
   "execution_count": null,
   "metadata": {
    "colab": {
     "base_uri": "https://localhost:8080/"
    },
    "id": "Um9NYSSYi0CV",
    "outputId": "40a4ef43-a725-4bf7-f524-1ed32fbb99bf"
   },
   "outputs": [],
   "source": [
    "# Define a custom function\n",
    "def mass_flag(mass):\n",
    "    if mass > 4000:\n",
    "        return 'Heavy'\n",
    "    else:\n",
    "        return 'Light'\n",
    "\n",
    "# Apply the custom function to the 'body_mass_g' column\n",
    "penguins['mass_category'] = penguins['body_mass_g'].apply(mass_flag)\n",
    "print(penguins.head())\n"
   ]
  },
  {
   "cell_type": "markdown",
   "metadata": {
    "id": "dz3bMUirjKvh"
   },
   "source": [
    "## Adding and removing columns"
   ]
  },
  {
   "cell_type": "markdown",
   "metadata": {
    "id": "YYSFNjKOjQPi"
   },
   "source": [
    "### Add a new column"
   ]
  },
  {
   "cell_type": "code",
   "execution_count": null,
   "metadata": {
    "colab": {
     "base_uri": "https://localhost:8080/"
    },
    "id": "7foiQEfbjTY2",
    "outputId": "11298ad1-2c77-465e-c7a8-b16170bf87b8"
   },
   "outputs": [],
   "source": [
    "# Add a new column for flipper length in inches (1 mm = 0.03937 inches)\n",
    "penguins['flipper_length_inch'] = penguins['flipper_length_mm'] * 0.03937\n",
    "print(penguins.head())"
   ]
  },
  {
   "cell_type": "markdown",
   "metadata": {
    "id": "293x7LHDjZ1V"
   },
   "source": [
    "### Drop a column"
   ]
  },
  {
   "cell_type": "code",
   "execution_count": null,
   "metadata": {
    "colab": {
     "base_uri": "https://localhost:8080/"
    },
    "id": "x15A6rA_jbXV",
    "outputId": "4d6dabd0-9db6-4316-ba7c-c3e542c4e898"
   },
   "outputs": [],
   "source": [
    "# Drop the 'bill_category' column\n",
    "penguins_dropped_col = penguins.drop('bill_category', axis=1)\n",
    "print(penguins_dropped_col.head())"
   ]
  },
  {
   "cell_type": "markdown",
   "metadata": {
    "id": "tIucOBfrjgfm"
   },
   "source": [
    "## Saving and Loading data"
   ]
  },
  {
   "cell_type": "markdown",
   "metadata": {
    "id": "a0HQQ4uzjkng"
   },
   "source": [
    "### Saving to CSV"
   ]
  },
  {
   "cell_type": "code",
   "execution_count": null,
   "metadata": {
    "id": "ksIAJ4FWjmOn"
   },
   "outputs": [],
   "source": [
    "# Save the penguins DataFrame to a CSV file\n",
    "penguins.to_csv('penguins_data.csv', index=False)"
   ]
  },
  {
   "cell_type": "markdown",
   "metadata": {
    "id": "XaxJpF3DjtxH"
   },
   "source": [
    "### Loading Saved CSV"
   ]
  },
  {
   "cell_type": "code",
   "execution_count": null,
   "metadata": {
    "colab": {
     "base_uri": "https://localhost:8080/"
    },
    "id": "IA9JLiXjj0KZ",
    "outputId": "570c33cf-9263-4172-f8d0-97c63536310e"
   },
   "outputs": [],
   "source": [
    "# Read the penguins data from a CSV file\n",
    "penguins_from_csv = pd.read_csv('penguins_data.csv')\n",
    "print(penguins_from_csv.head())"
   ]
  }
 ],
 "metadata": {
  "colab": {
   "provenance": []
  },
  "kernelspec": {
   "display_name": "scikit-learn",
   "language": "python",
   "name": "python3"
  },
  "language_info": {
   "codemirror_mode": {
    "name": "ipython",
    "version": 3
   },
   "file_extension": ".py",
   "mimetype": "text/x-python",
   "name": "python",
   "nbconvert_exporter": "python",
   "pygments_lexer": "ipython3",
   "version": "3.10.15"
  }
 },
 "nbformat": 4,
 "nbformat_minor": 0
}
