{
 "cells": [
  {
   "cell_type": "markdown",
   "metadata": {
    "id": "3xM7Q9KmnbP_"
   },
   "source": [
    "# Dealing with Large Datasets"
   ]
  },
  {
   "cell_type": "code",
   "execution_count": 1,
   "metadata": {
    "id": "Wyv_-AO3nvS2"
   },
   "outputs": [],
   "source": [
    "!pip install faker --quiet"
   ]
  },
  {
   "cell_type": "code",
   "execution_count": 2,
   "metadata": {
    "id": "KPvDGKYeiPhl"
   },
   "outputs": [],
   "source": [
    "import pandas as pd\n",
    "import numpy as np\n",
    "import random\n",
    "from faker import Faker\n",
    "import datetime"
   ]
  },
  {
   "cell_type": "code",
   "execution_count": null,
   "metadata": {
    "colab": {
     "base_uri": "https://localhost:8080/"
    },
    "id": "PxTeFldfn7bA",
    "outputId": "8809a834-5084-4ed9-c3a2-df744254845c"
   },
   "outputs": [],
   "source": [
    "%%time\n",
    "\n",
    "# Initialize Faker for generating fake data\n",
    "fake = Faker()\n",
    "\n",
    "# Set the number of rows\n",
    "n_rows = 5_000_000  # You can change this to any number for a larger/smaller dataset\n",
    "\n",
    "# Create the dataset\n",
    "data = {\n",
    "    \"id\": np.arange(1, n_rows + 1),  # Unique integer IDs\n",
    "    \"name\": [fake.name() for _ in range(n_rows)],  # Random names\n",
    "    \"age\": np.random.randint(18, 80, size=n_rows),  # Random ages between 18 and 80\n",
    "    \"email\": [fake.email() for _ in range(n_rows)],  # Random email addresses\n",
    "    \"address\": [fake.address().replace(\"\\n\", \", \") for _ in range(n_rows)],  # Random addresses\n",
    "    \"city\": [fake.city() for _ in range(n_rows)],  # Random cities\n",
    "    \"country\": [fake.country() for _ in range(n_rows)],  # Random countries\n",
    "    \"salary\": np.round(np.random.uniform(30000, 150000, size=n_rows), 2),  # Random salaries between 30k and 150k\n",
    "    \"date_of_joining\": [fake.date_between(start_date='-10y', end_date='today') for _ in range(n_rows)],  # Random dates\n",
    "    \"credit_score\": np.random.randint(300, 850, size=n_rows),  # Random credit scores\n",
    "}\n",
    "\n",
    "# Convert the data into a DataFrame\n",
    "df = pd.DataFrame(data)\n",
    "\n",
    "# Save the DataFrame to a CSV file\n",
    "df.to_csv(\"large_dataset.csv\", index=False)\n",
    "\n",
    "print(\"Dataset created and saved to 'large_dataset.csv'\")\n"
   ]
  },
  {
   "cell_type": "markdown",
   "metadata": {
    "id": "XDZfJZba7C4W"
   },
   "source": [
    "## Reading datasets efficiently"
   ]
  },
  {
   "cell_type": "markdown",
   "metadata": {
    "id": "oBhsw2TW3FNh"
   },
   "source": [
    "### Using `chunk_size` to read large datasets efficiently"
   ]
  },
  {
   "cell_type": "code",
   "execution_count": null,
   "metadata": {
    "colab": {
     "base_uri": "https://localhost:8080/"
    },
    "id": "e5RwpjST3OJz",
    "outputId": "4b05272e-94e3-4fa7-b9de-ac83b7d84c2b"
   },
   "outputs": [],
   "source": [
    "chunk_size = 50000  # Adjust chunk size as needed\n",
    "for chunk in pd.read_csv(\"large_dataset.csv\", chunksize=chunk_size):\n",
    "    # Process each chunk\n",
    "    print(chunk.head(1))\n"
   ]
  },
  {
   "cell_type": "markdown",
   "metadata": {
    "id": "Y1WoL-QP3fcm"
   },
   "source": [
    "### Specify data types when loading"
   ]
  },
  {
   "cell_type": "code",
   "execution_count": null,
   "metadata": {
    "id": "tsABHEKW3jND"
   },
   "outputs": [],
   "source": [
    "dtypes = {\n",
    "    'id': 'int32',\n",
    "    'age': 'int8',\n",
    "    'salary': 'float32',\n",
    "    'credit_score': 'int16'\n",
    "}\n",
    "df = pd.read_csv('large_dataset.csv', dtype=dtypes)"
   ]
  },
  {
   "cell_type": "markdown",
   "metadata": {
    "id": "_EkDImHR5_4j"
   },
   "source": [
    "### Use `nrows` to get data subset"
   ]
  },
  {
   "cell_type": "code",
   "execution_count": null,
   "metadata": {
    "colab": {
     "base_uri": "https://localhost:8080/"
    },
    "id": "GVxJB0h26Ak9",
    "outputId": "5b817b8c-7eff-4328-8608-cb896f8ab693"
   },
   "outputs": [],
   "source": [
    "df = pd.read_csv('large_dataset.csv', nrows=100000)\n",
    "print(len(df))"
   ]
  },
  {
   "cell_type": "markdown",
   "metadata": {
    "id": "4h7mdg0OUchY"
   },
   "source": [
    "## Optimizing Memory Usage"
   ]
  },
  {
   "cell_type": "markdown",
   "metadata": {
    "id": "8ECOzPngUgtA"
   },
   "source": [
    "### Downcasting numerical columns\n"
   ]
  },
  {
   "cell_type": "code",
   "execution_count": null,
   "metadata": {
    "id": "h2DCxlMDUs8_"
   },
   "outputs": [],
   "source": [
    "df['age'] = pd.to_numeric(df['age'], downcast='integer')\n",
    "df['salary'] = pd.to_numeric(df['salary'], downcast='float')"
   ]
  },
  {
   "cell_type": "markdown",
   "metadata": {
    "id": "Q8m6eghwU1Rb"
   },
   "source": [
    "### Convert categorical columns"
   ]
  },
  {
   "cell_type": "code",
   "execution_count": null,
   "metadata": {
    "id": "yNRiylzXU50G"
   },
   "outputs": [],
   "source": [
    "df['country'] = df['country'].astype('category')"
   ]
  },
  {
   "cell_type": "markdown",
   "metadata": {
    "id": "W52uwLBWU-Kz"
   },
   "source": [
    "### Using sparse data types"
   ]
  },
  {
   "cell_type": "code",
   "execution_count": null,
   "metadata": {
    "id": "dmhM6gtdVAvr"
   },
   "outputs": [],
   "source": [
    "df['credit_score'] = pd.Series(pd.arrays.SparseArray(df['credit_score']))"
   ]
  },
  {
   "cell_type": "markdown",
   "metadata": {
    "id": "i1WGhZgIWQxX"
   },
   "source": [
    "## Working with Chunks to perform operations"
   ]
  },
  {
   "cell_type": "code",
   "execution_count": null,
   "metadata": {
    "colab": {
     "base_uri": "https://localhost:8080/"
    },
    "id": "mxuNjZz2WTxj",
    "outputId": "9b418eb2-b1fb-4d1b-960d-ad571ec634cf"
   },
   "outputs": [],
   "source": [
    "chunk_size = 100000\n",
    "total_salary = 0\n",
    "row_count = 0\n",
    "\n",
    "for chunk in pd.read_csv('large_dataset.csv', chunksize=chunk_size):\n",
    "    total_salary += chunk['salary'].sum()\n",
    "    row_count += len(chunk)\n",
    "\n",
    "mean_salary = total_salary / row_count\n",
    "print(f'Mean salary: {mean_salary}')\n"
   ]
  },
  {
   "cell_type": "markdown",
   "metadata": {
    "id": "cchdwgCQWfOu"
   },
   "source": [
    "## Parallel Processing with Dask"
   ]
  },
  {
   "cell_type": "code",
   "execution_count": null,
   "metadata": {
    "id": "ywV5yMBQWjTm"
   },
   "outputs": [],
   "source": [
    "!pip install dask[dataframe] --quiet"
   ]
  },
  {
   "cell_type": "code",
   "execution_count": null,
   "metadata": {
    "colab": {
     "base_uri": "https://localhost:8080/"
    },
    "id": "5dthpWrTWqf1",
    "outputId": "8f4cfff8-4d79-4880-a38a-d4444583d657"
   },
   "outputs": [],
   "source": [
    "import dask.dataframe as dd\n",
    "\n",
    "# Read the dataset using Dask\n",
    "df = dd.read_csv('large_dataset.csv')\n",
    "\n",
    "# Perform operations (e.g., calculate mean salary)\n",
    "mean_salary = df['salary'].mean().compute()\n",
    "print(f'Mean salary: {mean_salary}')"
   ]
  },
  {
   "cell_type": "markdown",
   "metadata": {
    "id": "-WTUBJasXEWS"
   },
   "source": [
    "## Use `pyarrow` for Faster I/O"
   ]
  },
  {
   "cell_type": "code",
   "execution_count": null,
   "metadata": {
    "id": "NLs6IL3YXMPs"
   },
   "outputs": [],
   "source": [
    "!pip install pyarrow --quiet"
   ]
  },
  {
   "cell_type": "markdown",
   "metadata": {
    "id": "WahiO3O7XRyy"
   },
   "source": [
    "## Save and read in parquet format\n"
   ]
  },
  {
   "cell_type": "code",
   "execution_count": null,
   "metadata": {
    "id": "bAj8oHI7XUBM"
   },
   "outputs": [],
   "source": [
    "df.to_parquet('large_dataset.parquet')  # Save as Parquet format\n",
    "df = pd.read_parquet('large_dataset.parquet')  # Load Parquet file\n"
   ]
  },
  {
   "cell_type": "markdown",
   "metadata": {
    "id": "MH-wO2YsYP-q"
   },
   "source": [
    "## Vectorized Operations vs Loops"
   ]
  },
  {
   "cell_type": "code",
   "execution_count": null,
   "metadata": {
    "colab": {
     "base_uri": "https://localhost:8080/"
    },
    "id": "cCPhvJFNYqmW",
    "outputId": "e4f0de38-fffc-4dd6-c1d4-5a0b52675da4"
   },
   "outputs": [],
   "source": [
    "%%time\n",
    "df['new_col'] = df['age'] * 2"
   ]
  },
  {
   "cell_type": "markdown",
   "metadata": {
    "id": "2cSOPCAShjUZ"
   },
   "source": [
    "## Using SQL-like queries"
   ]
  },
  {
   "cell_type": "code",
   "execution_count": null,
   "metadata": {
    "id": "F31WXcw1hlqY"
   },
   "outputs": [],
   "source": [
    "!pip install pandasql --quiet"
   ]
  },
  {
   "cell_type": "code",
   "execution_count": null,
   "metadata": {
    "colab": {
     "base_uri": "https://localhost:8080/"
    },
    "id": "_zOx2l4oje9P",
    "outputId": "778455e3-b123-4bd2-e9d0-0d9dbda4ecfb"
   },
   "outputs": [],
   "source": [
    "import psutil\n",
    "\n",
    "# Get total memory\n",
    "total_memory = psutil.virtual_memory().total\n",
    "\n",
    "# Convert from bytes to gigabytes for easier reading\n",
    "total_memory_gb = total_memory / (1024 ** 3)\n",
    "\n",
    "print(f\"Total RAM: {total_memory_gb:.2f} GB\")"
   ]
  },
  {
   "cell_type": "code",
   "execution_count": null,
   "metadata": {
    "colab": {
     "base_uri": "https://localhost:8080/"
    },
    "id": "JeKhiDHyhq8n",
    "outputId": "dc5043c2-8c1d-4e66-a063-6704f3dcb088"
   },
   "outputs": [],
   "source": [
    "import pandasql as psql\n",
    "\n",
    "sql_like_query = \"\"\"\n",
    "SELECT TOP 100\n",
    "  name,\n",
    "  salary\n",
    "FROM\n",
    "  df\n",
    "WHERE\n",
    "  age > 30\n",
    "ORDER BY\n",
    "  salary DESC\n",
    "\"\"\"\n",
    "if total_memory_gb < 15:\n",
    "    print('Not enough RAM to run this function. Please use High RAM environment')\n",
    "else:\n",
    "    result = psql.sqldf(sql_like_query, globals())"
   ]
  }
 ],
 "metadata": {
  "colab": {
   "provenance": []
  },
  "kernelspec": {
   "display_name": "scikit-learn",
   "language": "python",
   "name": "python3"
  },
  "language_info": {
   "codemirror_mode": {
    "name": "ipython",
    "version": 3
   },
   "file_extension": ".py",
   "mimetype": "text/x-python",
   "name": "python",
   "nbconvert_exporter": "python",
   "pygments_lexer": "ipython3",
   "version": "3.10.15"
  }
 },
 "nbformat": 4,
 "nbformat_minor": 0
}
