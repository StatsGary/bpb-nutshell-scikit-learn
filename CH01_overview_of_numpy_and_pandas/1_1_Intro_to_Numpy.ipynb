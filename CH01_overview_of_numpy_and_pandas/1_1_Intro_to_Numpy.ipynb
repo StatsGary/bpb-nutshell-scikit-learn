{
 "cells": [
  {
   "cell_type": "markdown",
   "metadata": {
    "id": "Crj2ACk5yaE2"
   },
   "source": [
    "#Introduction to Numpy"
   ]
  },
  {
   "cell_type": "code",
   "execution_count": null,
   "metadata": {
    "colab": {
     "base_uri": "https://localhost:8080/"
    },
    "id": "OYje5flnyeeg",
    "outputId": "7d278558-6240-445b-b99b-60c48e8f52af"
   },
   "outputs": [],
   "source": [
    "!pip install numpy"
   ]
  },
  {
   "cell_type": "code",
   "execution_count": null,
   "metadata": {
    "id": "hnnF5uf2ygdw"
   },
   "outputs": [],
   "source": [
    "import numpy as np"
   ]
  },
  {
   "cell_type": "markdown",
   "metadata": {
    "id": "pqIfUaaazhK7"
   },
   "source": [
    "## Creating Arrays"
   ]
  },
  {
   "cell_type": "markdown",
   "metadata": {
    "id": "ld44P_5o6jXz"
   },
   "source": [
    "### 1 dimensional arrays"
   ]
  },
  {
   "cell_type": "code",
   "execution_count": null,
   "metadata": {
    "colab": {
     "base_uri": "https://localhost:8080/"
    },
    "id": "IEl4eudy6mnL",
    "outputId": "1c541fcb-3c1a-49bc-ea7a-ddfe917a5b8e"
   },
   "outputs": [],
   "source": [
    "import numpy as np\n",
    "# Creating a 1D NumPy array\n",
    "heights = np.array([150, 160, 170, 180, 190])\n",
    "print(heights)"
   ]
  },
  {
   "cell_type": "markdown",
   "metadata": {
    "id": "4TjxhLO4_23y"
   },
   "source": [
    "### 2 dimensional arrays"
   ]
  },
  {
   "cell_type": "code",
   "execution_count": null,
   "metadata": {
    "id": "gzARdePC_5zi"
   },
   "outputs": [],
   "source": [
    "arr_2d = np.array([[150, 50],  # Height, Weight\n",
    "                   [160, 60],\n",
    "                   [170, 65],\n",
    "                   [180, 80],\n",
    "                   [190, 90]])"
   ]
  },
  {
   "cell_type": "code",
   "execution_count": null,
   "metadata": {
    "colab": {
     "base_uri": "https://localhost:8080/"
    },
    "id": "tN5j8wB4Agqx",
    "outputId": "e4ec7d31-9b39-4c47-a6c0-9a1d09e4794c"
   },
   "outputs": [],
   "source": [
    "arr_2d"
   ]
  },
  {
   "cell_type": "markdown",
   "metadata": {
    "id": "t1ukYd9MbXOA"
   },
   "source": [
    "## Indexing and slicing"
   ]
  },
  {
   "cell_type": "markdown",
   "metadata": {
    "id": "kjHEdpJaFlOj"
   },
   "source": [
    "### Indexing 1-d arrays"
   ]
  },
  {
   "cell_type": "code",
   "execution_count": null,
   "metadata": {
    "colab": {
     "base_uri": "https://localhost:8080/"
    },
    "id": "wvMA35mAFqpR",
    "outputId": "a6a6db06-b657-44f4-e594-5486dcb3f59f"
   },
   "outputs": [],
   "source": [
    "print(heights[0])\n",
    "print(heights[2])\n",
    "print(heights[-1])"
   ]
  },
  {
   "cell_type": "markdown",
   "metadata": {
    "id": "0SQ-gV1vLVkB"
   },
   "source": [
    "### Slicing 1-d arrays"
   ]
  },
  {
   "cell_type": "code",
   "execution_count": null,
   "metadata": {
    "colab": {
     "base_uri": "https://localhost:8080/"
    },
    "id": "eiSzWOQmLYrm",
    "outputId": "97498e02-9a0c-46a5-986f-8142d23d5c54"
   },
   "outputs": [],
   "source": [
    "print(heights[1:4])  # From the second element to the fourth (index 1 to 3)\n",
    "print(heights[:3])   # From the beginning to the third element\n",
    "print(heights[2:])   # From the third element to the end\n",
    "print(heights[:])    # Get me all elements"
   ]
  },
  {
   "cell_type": "markdown",
   "metadata": {
    "id": "EiuhWiscPMrj"
   },
   "source": [
    "### Indexing 2-d arrays"
   ]
  },
  {
   "cell_type": "code",
   "execution_count": null,
   "metadata": {
    "colab": {
     "base_uri": "https://localhost:8080/"
    },
    "id": "1ppV-qnAPQuw",
    "outputId": "2e678453-9932-4ec8-88f5-13e4ccf57f9a"
   },
   "outputs": [],
   "source": [
    "print(arr_2d[0, 0])  # First element in the first row (height of the first person)\n",
    "print(arr_2d[1, 1])  # Second element in the second row (weight of the second person)\n",
    "print(arr_2d[4, 1])  # Fifth row, second column (weight of the fifth person)"
   ]
  },
  {
   "cell_type": "markdown",
   "metadata": {
    "id": "N6qxCrkEvGZ9"
   },
   "source": [
    "### Slicing 2-d arrays"
   ]
  },
  {
   "cell_type": "code",
   "execution_count": null,
   "metadata": {
    "colab": {
     "base_uri": "https://localhost:8080/"
    },
    "id": "XwMaUqhRvJYc",
    "outputId": "53162277-456e-46d6-82ef-1b9e7dc4f0b1"
   },
   "outputs": [],
   "source": [
    "# Slicing rows and columns\n",
    "print(arr_2d[1:4, 0])  # Slice rows from index 1 to 3, and select the first column (heights)\n",
    "print(arr_2d[:, 1])    # Slice all rows, and select the second column (weights)\n",
    "print(arr_2d[2:, :])   # Slice from the third row to the end, and select all columns (heights and weights)"
   ]
  },
  {
   "cell_type": "markdown",
   "metadata": {
    "id": "UjH_6GfM06cA"
   },
   "source": [
    "### Condition based indexing"
   ]
  },
  {
   "cell_type": "code",
   "execution_count": null,
   "metadata": {
    "colab": {
     "base_uri": "https://localhost:8080/"
    },
    "id": "eDSg_C761Ayc",
    "outputId": "6d43a4c4-9bfc-4dd2-ad12-89f1bf4928e9"
   },
   "outputs": [],
   "source": [
    "heights = arr_2d[:, 0]  # Extract the height column\n",
    "tall_people = heights[heights > 170]  # Select heights greater than 170 cm\n",
    "print(tall_people)"
   ]
  },
  {
   "cell_type": "markdown",
   "metadata": {
    "id": "m4h6OS-hYJPQ"
   },
   "source": [
    "### Fancy indexing example"
   ]
  },
  {
   "cell_type": "code",
   "execution_count": null,
   "metadata": {
    "colab": {
     "base_uri": "https://localhost:8080/"
    },
    "id": "XHkR14ThYMxo",
    "outputId": "f2ca06ae-615c-45b1-ba83-e5e80308c007"
   },
   "outputs": [],
   "source": [
    "selected_rows = arr_2d[[0, 2, 4], :]  # Select the 1st, 3rd, and 5th rows\n",
    "print(selected_rows)"
   ]
  },
  {
   "cell_type": "markdown",
   "metadata": {
    "id": "zbqlR19tbiD2"
   },
   "source": [
    "## Basic operations"
   ]
  },
  {
   "cell_type": "markdown",
   "metadata": {
    "id": "aIfC1X9KbMic"
   },
   "source": [
    "### Simple arithmetic"
   ]
  },
  {
   "cell_type": "code",
   "execution_count": null,
   "metadata": {
    "colab": {
     "base_uri": "https://localhost:8080/"
    },
    "id": "BmdOvuvacvko",
    "outputId": "e5e2cf53-6411-4c24-9e8e-c9ac2bda2030"
   },
   "outputs": [],
   "source": [
    "# Height and Weight arrays\n",
    "heights = np.array([150, 160, 170, 180, 190])  # Heights in cm\n",
    "weights = np.array([50, 60, 65, 80, 90])       # Weights in kg\n",
    "\n",
    "# Display the arrays\n",
    "print(\"Heights:\", heights)\n",
    "print(\"Weights:\", weights)"
   ]
  },
  {
   "cell_type": "markdown",
   "metadata": {
    "id": "fs-9WmWDeKi1"
   },
   "source": [
    "### Add a constant to all elements"
   ]
  },
  {
   "cell_type": "code",
   "execution_count": null,
   "metadata": {
    "colab": {
     "base_uri": "https://localhost:8080/"
    },
    "id": "_oPqaJIUdg14",
    "outputId": "ab1bb4f1-74ec-4e0c-e5ca-abba33132c3c"
   },
   "outputs": [],
   "source": [
    "heights_in_meters = heights / 100\n",
    "print(\"Heights in meters:\", heights_in_meters)"
   ]
  },
  {
   "cell_type": "markdown",
   "metadata": {
    "id": "UA0wjzdaeqRz"
   },
   "source": [
    "### Multiply or scale the entire array"
   ]
  },
  {
   "cell_type": "code",
   "execution_count": null,
   "metadata": {
    "colab": {
     "base_uri": "https://localhost:8080/"
    },
    "id": "thdP4DUYeuxZ",
    "outputId": "33fd4631-a523-4f8f-c514-4c9e31b92ae5"
   },
   "outputs": [],
   "source": [
    "scaled_weights = weights * 2\n",
    "print(\"Scaled Weights (multiplied by 2):\", scaled_weights)"
   ]
  },
  {
   "cell_type": "markdown",
   "metadata": {
    "id": "stEX3hKCiM_o"
   },
   "source": [
    "### Element wise multiplication of two arrays"
   ]
  },
  {
   "cell_type": "code",
   "execution_count": null,
   "metadata": {
    "colab": {
     "base_uri": "https://localhost:8080/"
    },
    "id": "Uq9dAdrNiQY1",
    "outputId": "50d1636d-ec9a-4de7-fa79-17aea3cb0e53"
   },
   "outputs": [],
   "source": [
    "combined = heights * weights\n",
    "print(\"Combined:\", combined)"
   ]
  },
  {
   "cell_type": "markdown",
   "metadata": {
    "id": "GB8I4bl6HPYz"
   },
   "source": [
    "### Introduction to array functions"
   ]
  },
  {
   "cell_type": "code",
   "execution_count": null,
   "metadata": {
    "colab": {
     "base_uri": "https://localhost:8080/"
    },
    "id": "Q8sb5lz9HiAp",
    "outputId": "13ce9768-b7eb-4903-a018-ad4ec013a30b"
   },
   "outputs": [],
   "source": [
    "np.zeros((2, 3))   # Creates a 2x3 array of zeros\n"
   ]
  },
  {
   "cell_type": "code",
   "execution_count": null,
   "metadata": {
    "colab": {
     "base_uri": "https://localhost:8080/"
    },
    "id": "H5tQkYNwHzrN",
    "outputId": "ffa54150-dc2c-4789-a384-0286db2bdeda"
   },
   "outputs": [],
   "source": [
    "np.ones((2, 3))    # Creates a 2x3 array of ones\n"
   ]
  },
  {
   "cell_type": "code",
   "execution_count": null,
   "metadata": {
    "colab": {
     "base_uri": "https://localhost:8080/"
    },
    "id": "afhvtamTH148",
    "outputId": "6f8a9877-16ad-4699-d60b-c93f506f43ef"
   },
   "outputs": [],
   "source": [
    "np.arange(0, 10, 2)  # Creates an array [0, 2, 4, 6, 8]\n"
   ]
  },
  {
   "cell_type": "code",
   "execution_count": null,
   "metadata": {
    "colab": {
     "base_uri": "https://localhost:8080/"
    },
    "id": "Rdg9h_aQH4I1",
    "outputId": "2fb429a5-6b5c-418c-c636-287b76d4ec37"
   },
   "outputs": [],
   "source": [
    "np.linspace(0, 1, 5)  # Creates an array with 5 evenly spaced values from 0 to 1"
   ]
  },
  {
   "cell_type": "markdown",
   "metadata": {
    "id": "o2ZW64gNpA6P"
   },
   "source": [
    "## Statistical operations"
   ]
  },
  {
   "cell_type": "markdown",
   "metadata": {
    "id": "TjCf3rSfpMpW"
   },
   "source": [
    "### Mean"
   ]
  },
  {
   "cell_type": "code",
   "execution_count": null,
   "metadata": {
    "colab": {
     "base_uri": "https://localhost:8080/"
    },
    "id": "ziMMStfDpOMR",
    "outputId": "fffe25e7-a5d2-483e-d507-a1574ba099de"
   },
   "outputs": [],
   "source": [
    "mean_height = np.mean(heights)\n",
    "mean_weight = np.mean(weights)\n",
    "print(\"Mean Height:\", mean_height)\n",
    "print(\"Mean Weight:\", mean_weight)"
   ]
  },
  {
   "cell_type": "markdown",
   "metadata": {
    "id": "DIdWQcQgpURV"
   },
   "source": [
    "### Standard deviation"
   ]
  },
  {
   "cell_type": "code",
   "execution_count": null,
   "metadata": {
    "colab": {
     "base_uri": "https://localhost:8080/"
    },
    "id": "ClbU4VavpWQV",
    "outputId": "43bfa6e3-8339-4b56-ff08-42091b205972"
   },
   "outputs": [],
   "source": [
    "std_height = np.std(heights)\n",
    "std_weight = np.std(weights)\n",
    "print(\"Standard Deviation of Heights:\", std_height)\n",
    "print(\"Standard Deviation of Weights:\", std_weight)"
   ]
  },
  {
   "cell_type": "markdown",
   "metadata": {
    "id": "gVafFjogpcDw"
   },
   "source": [
    "### Variance"
   ]
  },
  {
   "cell_type": "code",
   "execution_count": null,
   "metadata": {
    "colab": {
     "base_uri": "https://localhost:8080/"
    },
    "id": "EK-lvV_7pdce",
    "outputId": "aa0b09bf-9e14-4a0c-898c-f28ecbf3cdb3"
   },
   "outputs": [],
   "source": [
    "var_height = np.var(heights)\n",
    "var_weight = np.var(weights)\n",
    "print(\"Variance of Heights:\", var_height)\n",
    "print(\"Variance of Weights:\", var_weight)"
   ]
  },
  {
   "cell_type": "markdown",
   "metadata": {
    "id": "qjAPYi4KqVaM"
   },
   "source": [
    "### Median"
   ]
  },
  {
   "cell_type": "code",
   "execution_count": null,
   "metadata": {
    "colab": {
     "base_uri": "https://localhost:8080/"
    },
    "id": "bQFWyGQhqX3W",
    "outputId": "f112908a-e302-4a1a-f5fb-eb6472962d26"
   },
   "outputs": [],
   "source": [
    "median_height = np.median(heights)\n",
    "median_weight = np.median(weights)\n",
    "print(\"Median Height:\", median_height)\n",
    "print(\"Median Weight:\", median_weight)"
   ]
  },
  {
   "cell_type": "markdown",
   "metadata": {
    "id": "QdbDZoL6qdhG"
   },
   "source": [
    "### Min and Max\n"
   ]
  },
  {
   "cell_type": "code",
   "execution_count": null,
   "metadata": {
    "colab": {
     "base_uri": "https://localhost:8080/"
    },
    "id": "8zdekp9bqnKq",
    "outputId": "783ae0e8-26fd-4e92-f754-325ea84ae358"
   },
   "outputs": [],
   "source": [
    "min_height = np.min(heights)\n",
    "max_height = np.max(heights)\n",
    "min_weight = np.min(weights)\n",
    "max_weight = np.max(weights)\n",
    "print(\"Min Height:\", min_height, \"Max Height:\", max_height)\n",
    "print(\"Min Weight:\", min_weight, \"Max Weight:\", max_weight)"
   ]
  }
 ],
 "metadata": {
  "colab": {
   "provenance": []
  },
  "kernelspec": {
   "display_name": "scikit-learn",
   "language": "python",
   "name": "python3"
  },
  "language_info": {
   "codemirror_mode": {
    "name": "ipython",
    "version": 3
   },
   "file_extension": ".py",
   "mimetype": "text/x-python",
   "name": "python",
   "nbconvert_exporter": "python",
   "pygments_lexer": "ipython3",
   "version": "3.10.15"
  }
 },
 "nbformat": 4,
 "nbformat_minor": 0
}
