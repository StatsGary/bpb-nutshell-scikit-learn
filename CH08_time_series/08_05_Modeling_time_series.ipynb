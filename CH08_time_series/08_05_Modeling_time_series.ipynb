{
 "cells": [
  {
   "cell_type": "markdown",
   "metadata": {},
   "source": [
    "# Modeling Time Series - Univariate and ML methods"
   ]
  },
  {
   "cell_type": "code",
   "execution_count": null,
   "metadata": {},
   "outputs": [],
   "source": [
    "!pip install -r requirements.txt --upgrade --quiet"
   ]
  },
  {
   "cell_type": "code",
   "execution_count": null,
   "metadata": {},
   "outputs": [],
   "source": [
    "import pandas as pd"
   ]
  },
  {
   "cell_type": "code",
   "execution_count": null,
   "metadata": {},
   "outputs": [],
   "source": [
    "flights_train = pd.read_csv('data/splits/holout_train.csv',\n",
    "                      index_col=0, \n",
    "                      parse_dates=True)\n",
    "\n",
    "flights_test = pd.read_csv('data/splits/holout_test.csv',\n",
    "                           index_col=0, \n",
    "                           parse_dates=True)\n"
   ]
  },
  {
   "cell_type": "code",
   "execution_count": null,
   "metadata": {},
   "outputs": [],
   "source": [
    "flights_train.index = pd.to_datetime(flights_train.index)\n",
    "flights_test.index = pd.to_datetime(flights_test.index)"
   ]
  },
  {
   "cell_type": "markdown",
   "metadata": {},
   "source": [
    "## Prepare data"
   ]
  },
  {
   "cell_type": "code",
   "execution_count": null,
   "metadata": {},
   "outputs": [],
   "source": [
    "y_train = flights_train['Passengers']\n",
    "y_test = flights_test['Passengers']"
   ]
  },
  {
   "cell_type": "code",
   "execution_count": null,
   "metadata": {},
   "outputs": [],
   "source": [
    "flights_train"
   ]
  },
  {
   "cell_type": "code",
   "execution_count": null,
   "metadata": {},
   "outputs": [],
   "source": [
    "X_train = flights_train[['log','Lag_1', 'Lag_2', 'Lag_3', \n",
    "         'Lag_12', 'Lag_24', 'Lag_36']]\n",
    "\n",
    "X_test = flights_test[['log','Lag_1', 'Lag_2', 'Lag_3', \n",
    "         'Lag_12', 'Lag_24', 'Lag_36']]"
   ]
  },
  {
   "cell_type": "markdown",
   "metadata": {},
   "source": [
    "## Forecast Horizon Selection"
   ]
  },
  {
   "cell_type": "code",
   "execution_count": null,
   "metadata": {},
   "outputs": [],
   "source": [
    "FORECAST_HORIZON = 24\n",
    "SEAS_PERIODS = 12"
   ]
  },
  {
   "cell_type": "markdown",
   "metadata": {},
   "source": [
    "## Exponential Smoothing"
   ]
  },
  {
   "cell_type": "code",
   "execution_count": null,
   "metadata": {},
   "outputs": [],
   "source": [
    "from statsmodels.tsa.holtwinters import ExponentialSmoothing"
   ]
  },
  {
   "cell_type": "code",
   "execution_count": null,
   "metadata": {},
   "outputs": [],
   "source": [
    "es_model = ExponentialSmoothing(\n",
    "    y_train, \n",
    "    trend='mul', \n",
    "    seasonal='mul', \n",
    "    seasonal_periods=SEAS_PERIODS)"
   ]
  },
  {
   "cell_type": "code",
   "execution_count": null,
   "metadata": {},
   "outputs": [],
   "source": [
    "from timeseries.styler import style_dataframe\n",
    "es_fit = es_model.fit()\n",
    "fit_params = es_fit.params\n",
    "es_summary_df = pd.DataFrame(fit_params.items(), columns=['Parameter', 'Value'])"
   ]
  },
  {
   "cell_type": "code",
   "execution_count": null,
   "metadata": {},
   "outputs": [],
   "source": [
    "style_dataframe(es_summary_df.head())"
   ]
  },
  {
   "cell_type": "code",
   "execution_count": null,
   "metadata": {},
   "outputs": [],
   "source": [
    "es_forecast = es_fit.predict(start=y_test.index[0], \n",
    "                             end=y_test.index[-1])\n"
   ]
  },
  {
   "cell_type": "markdown",
   "metadata": {},
   "source": [
    "## SARIMA with hard-coded parameters"
   ]
  },
  {
   "cell_type": "code",
   "execution_count": null,
   "metadata": {},
   "outputs": [],
   "source": [
    "import statsmodels.api as sm\n",
    "from timeseries.metrics import compute_metrics\n",
    "order = (1, 1, 1)  \n",
    "seasonal_order = (1, 1, 1, 12)\n"
   ]
  },
  {
   "cell_type": "code",
   "execution_count": null,
   "metadata": {},
   "outputs": [],
   "source": [
    "model = sm.tsa.SARIMAX(y_train, \n",
    "                       order=order, \n",
    "                       seasonal_order=seasonal_order)\n",
    "fit = model.fit()"
   ]
  },
  {
   "cell_type": "code",
   "execution_count": null,
   "metadata": {},
   "outputs": [],
   "source": [
    "sarima_base_forecast = fit.get_forecast(steps=len(y_test))"
   ]
  },
  {
   "cell_type": "code",
   "execution_count": null,
   "metadata": {},
   "outputs": [],
   "source": [
    "sarima_base_test_preds = sarima_base_forecast.predicted_mean"
   ]
  },
  {
   "cell_type": "markdown",
   "metadata": {},
   "source": [
    "## ARIMA with Grid Hyperparameters"
   ]
  },
  {
   "cell_type": "code",
   "execution_count": null,
   "metadata": {},
   "outputs": [],
   "source": [
    "%%writefile timeseries/sarima_auto.py\n",
    "import itertools\n",
    "import statsmodels.api as sm\n",
    "import numpy as np\n",
    "import warnings\n",
    "from tqdm import tqdm\n",
    "import pandas as pd\n",
    "\n",
    "def search_arima_orders(y_train, \n",
    "                        s=12,\n",
    "                        p_range=range(0, 3), d_range=range(0, 2), q_range=range(0, 3),\n",
    "                        P_range=range(0, 2), D_range=range(0, 2), Q_range=range(0, 2),\n",
    "                        period_str=\"M\", \n",
    "                        verbose=True,\n",
    "                        top_n=10):\n",
    "\n",
    "\n",
    "    if not isinstance(y_train.index, (pd.PeriodIndex, pd.DatetimeIndex)):\n",
    "        raise ValueError(\"Index must be a PeriodIndex or DatetimeIndex.\")\n",
    "    if y_train.index.freq is None:\n",
    "        try:\n",
    "            y_train.index = y_train.index.to_period(period_str)\n",
    "        except:\n",
    "            y_train.index.freq = period_str\n",
    "\n",
    "    use_seasonal = len(y_train) >= 2 * s\n",
    "    results = []\n",
    "\n",
    "    orders = list(itertools.product(p_range, d_range, q_range))\n",
    "    seasonal_orders = [(0, 0, 0)] if not use_seasonal else list(itertools.product(P_range, D_range, Q_range))\n",
    "\n",
    "    total_combos = len(orders) * len(seasonal_orders)\n",
    "    if verbose:\n",
    "        print(f\"🔍 Evaluating {total_combos} (p,d,q)(P,D,Q) combinations.\")\n",
    "\n",
    "    for order in tqdm(orders, desc=\"Grid Searching\", disable=not verbose):\n",
    "        for seasonal in seasonal_orders:\n",
    "            seasonal_order = (seasonal[0], seasonal[1], seasonal[2], s) if use_seasonal else (0, 0, 0, 0)\n",
    "\n",
    "            try:\n",
    "                    model = sm.tsa.statespace.SARIMAX(\n",
    "                        y_train,\n",
    "                        order=order,\n",
    "                        seasonal_order=seasonal_order,\n",
    "                        enforce_stationarity=False,\n",
    "                        enforce_invertibility=False\n",
    "                    )\n",
    "                    result = model.fit(disp=False)\n",
    "                    results.append({\n",
    "                        'order': order,\n",
    "                        'seasonal_order': seasonal_order,\n",
    "                        'aic': result.aic,\n",
    "                        'bic': result.bic\n",
    "                    })\n",
    "            except Exception:\n",
    "                continue\n",
    "\n",
    "    results_df = pd.DataFrame(results)\n",
    "    results_df = results_df.sort_values(by='aic').reset_index(drop=True)\n",
    "\n",
    "    if verbose:\n",
    "        print(\"Top Models by AIC:\")\n",
    "        print(results_df.head(top_n))\n",
    "\n",
    "    return results_df\n"
   ]
  },
  {
   "cell_type": "code",
   "execution_count": null,
   "metadata": {},
   "outputs": [],
   "source": [
    "from timeseries.arima import search_arima_orders"
   ]
  },
  {
   "cell_type": "code",
   "execution_count": null,
   "metadata": {},
   "outputs": [],
   "source": [
    "arima_orders_results_df = search_arima_orders(y_train, \n",
    "                                 s=12, \n",
    "                                 verbose=False, \n",
    "                                 top_n=20)"
   ]
  },
  {
   "cell_type": "code",
   "execution_count": null,
   "metadata": {},
   "outputs": [],
   "source": [
    "style_dataframe(arima_orders_results_df.head())"
   ]
  },
  {
   "cell_type": "code",
   "execution_count": null,
   "metadata": {},
   "outputs": [],
   "source": [
    "chosen_order = arima_orders_results_df.iloc[0]['order']\n",
    "chosen_seasonal = arima_orders_results_df.iloc[0]['seasonal_order']"
   ]
  },
  {
   "cell_type": "code",
   "execution_count": null,
   "metadata": {},
   "outputs": [],
   "source": [
    "SARIMA_tuned_model = sm.tsa.SARIMAX(y_train, \n",
    "                                    order=chosen_order, \n",
    "                                    seasonal_order=chosen_seasonal)\n",
    "fit = SARIMA_tuned_model.fit()"
   ]
  },
  {
   "cell_type": "code",
   "execution_count": null,
   "metadata": {},
   "outputs": [],
   "source": [
    "forecast = fit.get_forecast(steps=len(y_test))\n",
    "arima_tuned_forecast_mean = forecast.predicted_mean"
   ]
  },
  {
   "cell_type": "markdown",
   "metadata": {},
   "source": [
    "## ML Approaches on Lagged Features"
   ]
  },
  {
   "cell_type": "code",
   "execution_count": null,
   "metadata": {},
   "outputs": [],
   "source": [
    "from sklearn.ensemble import RandomForestRegressor\n",
    "from xgboost import XGBRegressor\n",
    "import numpy as np"
   ]
  },
  {
   "cell_type": "code",
   "execution_count": null,
   "metadata": {},
   "outputs": [],
   "source": [
    "rf = RandomForestRegressor(n_estimators=100, \n",
    "                           random_state=42)\n",
    "rf.fit(X_train, y_train)\n",
    "rf_pred = rf.predict(X_test)"
   ]
  },
  {
   "cell_type": "code",
   "execution_count": null,
   "metadata": {},
   "outputs": [],
   "source": [
    "xgb = XGBRegressor(n_estimators=100, \n",
    "                   learning_rate=0.1, \n",
    "                   max_depth=3, \n",
    "                   random_state=42)\n",
    "xgb.fit(X_train, y_train)\n",
    "xgb_pred = xgb.predict(X_test)"
   ]
  },
  {
   "cell_type": "markdown",
   "metadata": {},
   "source": [
    "## Prophet "
   ]
  },
  {
   "cell_type": "code",
   "execution_count": null,
   "metadata": {},
   "outputs": [],
   "source": [
    "from prophet import Prophet\n",
    "import pandas as pd\n",
    "\n",
    "y_train_prophet = y_train.copy()\n",
    "if isinstance(y_train_prophet.index, pd.PeriodIndex):\n",
    "    y_train_prophet.index = y_train_prophet.index.to_timestamp()"
   ]
  },
  {
   "cell_type": "code",
   "execution_count": null,
   "metadata": {},
   "outputs": [],
   "source": [
    "df_prophet = y_train_prophet.reset_index()\n",
    "df_prophet.columns = ['ds', 'y']"
   ]
  },
  {
   "cell_type": "code",
   "execution_count": null,
   "metadata": {},
   "outputs": [],
   "source": [
    "help(Prophet)"
   ]
  },
  {
   "cell_type": "code",
   "execution_count": null,
   "metadata": {},
   "outputs": [],
   "source": [
    "model = Prophet(\n",
    "    seasonality_mode='multiplicative',\n",
    "    yearly_seasonality=True,\n",
    "    weekly_seasonality=False,\n",
    "    daily_seasonality=False\n",
    ")\n",
    "model.fit(df_prophet)"
   ]
  },
  {
   "cell_type": "code",
   "execution_count": null,
   "metadata": {},
   "outputs": [],
   "source": [
    "future = model.make_future_dataframe(periods=len(y_test), freq='M')  \n",
    "prophet_forecast = model.predict(future)\n",
    "prophet_fc = prophet_forecast['yhat']"
   ]
  },
  {
   "cell_type": "markdown",
   "metadata": {},
   "source": [
    "## Combine training forecasts together"
   ]
  },
  {
   "cell_type": "code",
   "execution_count": null,
   "metadata": {},
   "outputs": [],
   "source": [
    "combined_forecasts = {\n",
    "    'exponential_smoothing': es_forecast,\n",
    "    'sarima_tuned': arima_tuned_forecast_mean,\n",
    "    'sarima_base': sarima_base_test_preds,\n",
    "    'random_forest': rf_pred,\n",
    "    'xgboost': xgb_pred,\n",
    "    'prophet': prophet_fc\n",
    "}"
   ]
  },
  {
   "cell_type": "code",
   "execution_count": null,
   "metadata": {},
   "outputs": [],
   "source": [
    "import pandas as pd\n",
    "\n",
    "def combine_and_evaluate_forecasts(y_true, forecast_dict, \n",
    "                                   compute_metrics_fn, \n",
    "                                   sort_by='RMSE'):\n",
    "    \n",
    "    combined = {'actual': y_true.values}\n",
    "    index = y_true.index\n",
    "\n",
    "    for name, preds in forecast_dict.items():\n",
    "        preds = pd.Series(preds)\n",
    "        if len(preds) != len(y_true):\n",
    "            preds = preds[-len(y_true):]  \n",
    "        preds.index = index\n",
    "        combined[name] = preds.values\n",
    "\n",
    "    combined_df = pd.DataFrame(combined, index=index)\n",
    "\n",
    "    metrics_records = []\n",
    "    for model_name in forecast_dict.keys():\n",
    "        y_pred = combined_df[model_name]\n",
    "        metrics = compute_metrics_fn(combined_df['actual'], y_pred)\n",
    "        metrics['Model'] = model_name\n",
    "        metrics_records.append(metrics)\n",
    "\n",
    "    metrics_df = pd.DataFrame(metrics_records).set_index('Model')\n",
    "    best_model = metrics_df[sort_by].idxmin() if sort_by in metrics_df.columns else None\n",
    "    return combined_df, metrics_df, best_model"
   ]
  },
  {
   "cell_type": "code",
   "execution_count": null,
   "metadata": {},
   "outputs": [],
   "source": [
    "EVAL_METRIC = 'RMSE'\n",
    "\n",
    "combined_df, metrics_df, best_model = combine_and_evaluate_forecasts(\n",
    "    y_test,\n",
    "    combined_forecasts,\n",
    "    compute_metrics_fn=compute_metrics,  \n",
    "    sort_by=EVAL_METRIC\n",
    ")\n",
    "\n",
    "print(f\"🏆 Best model by {EVAL_METRIC}:{best_model}\")"
   ]
  },
  {
   "cell_type": "code",
   "execution_count": null,
   "metadata": {},
   "outputs": [],
   "source": [
    "combined_df.head()"
   ]
  },
  {
   "cell_type": "code",
   "execution_count": null,
   "metadata": {},
   "outputs": [],
   "source": [
    "style_dataframe(metrics_df.drop(columns='R²'))"
   ]
  },
  {
   "cell_type": "markdown",
   "metadata": {},
   "source": [
    "## Plot Forecast Plots"
   ]
  },
  {
   "cell_type": "code",
   "execution_count": null,
   "metadata": {},
   "outputs": [],
   "source": [
    "from modelviz.forecast import plot_forecast_subplots"
   ]
  },
  {
   "cell_type": "code",
   "execution_count": null,
   "metadata": {},
   "outputs": [],
   "source": [
    "help(plot_forecast_subplots)"
   ]
  },
  {
   "cell_type": "code",
   "execution_count": null,
   "metadata": {},
   "outputs": [],
   "source": [
    "plot_forecast_subplots(y_train, y_test, combined_df)"
   ]
  },
  {
   "cell_type": "markdown",
   "metadata": {},
   "source": [
    "## Estimating with Forecast Horizon\n"
   ]
  },
  {
   "cell_type": "markdown",
   "metadata": {},
   "source": [
    "### Index readjustment"
   ]
  },
  {
   "cell_type": "code",
   "execution_count": null,
   "metadata": {},
   "outputs": [],
   "source": [
    "def ensure_datetime_index(series):\n",
    "    if isinstance(series.index, pd.PeriodIndex):\n",
    "        series.index = series.index.to_timestamp()\n",
    "    elif not isinstance(series.index, pd.DatetimeIndex):\n",
    "        series.index = pd.to_datetime(series.index)\n",
    "    return series"
   ]
  },
  {
   "cell_type": "code",
   "execution_count": null,
   "metadata": {},
   "outputs": [],
   "source": [
    "y_train = ensure_datetime_index(y_train)\n",
    "y_test = ensure_datetime_index(y_test)\n",
    "y_full = pd.concat([y_train, y_test]).sort_index()\n",
    "y_full = y_full.asfreq(pd.infer_freq(y_full.index))\n",
    "len(y_full)\n"
   ]
  },
  {
   "cell_type": "markdown",
   "metadata": {},
   "source": [
    "### Fit on full dataset (train and test combined)"
   ]
  },
  {
   "cell_type": "code",
   "execution_count": null,
   "metadata": {},
   "outputs": [],
   "source": [
    "arima_tune_fitted = sm.tsa.SARIMAX(\n",
    "    y_full, \n",
    "    order=chosen_order, \n",
    "    seasonal_order=chosen_seasonal\n",
    ").fit()\n"
   ]
  },
  {
   "cell_type": "markdown",
   "metadata": {},
   "source": [
    "### Make predictions into the future"
   ]
  },
  {
   "cell_type": "code",
   "execution_count": null,
   "metadata": {},
   "outputs": [],
   "source": [
    "arima_tune_fitted.get_forecast(steps=FORECAST_HORIZON).predicted_mean"
   ]
  },
  {
   "cell_type": "code",
   "execution_count": null,
   "metadata": {},
   "outputs": [],
   "source": [
    "arima_tune_fitted.get_forecast(steps=FORECAST_HORIZON).conf_int()"
   ]
  },
  {
   "cell_type": "markdown",
   "metadata": {},
   "source": [
    "## Visualize forecast"
   ]
  },
  {
   "cell_type": "code",
   "execution_count": null,
   "metadata": {},
   "outputs": [],
   "source": [
    "from modelviz.forecast import plot_forecast"
   ]
  },
  {
   "cell_type": "code",
   "execution_count": null,
   "metadata": {},
   "outputs": [],
   "source": [
    "forecast_df = plot_forecast(\n",
    "    data=y_full,\n",
    "    model=arima_tune_fitted,\n",
    "    horizon=FORECAST_HORIZON,\n",
    "    model_type='statsmodels',\n",
    "    alpha=0.05,\n",
    "    plot=True,\n",
    "    ci_color='grey',\n",
    "    forecast_color='black',\n",
    "    historical_color='grey'\n",
    ")"
   ]
  },
  {
   "cell_type": "code",
   "execution_count": null,
   "metadata": {},
   "outputs": [],
   "source": [
    "forecast_df = plot_forecast(\n",
    "    data=y_full,\n",
    "    model=arima_tune_fitted,\n",
    "    horizon=200,\n",
    "    model_type='statsmodels',\n",
    "    alpha=0.05,\n",
    "    plot=True,\n",
    "    ci_color='grey',\n",
    "    forecast_color='black',\n",
    "    historical_color='grey'\n",
    ")"
   ]
  }
 ],
 "metadata": {
  "kernelspec": {
   "display_name": "sklearn-book-py-12-env",
   "language": "python",
   "name": "python3"
  },
  "language_info": {
   "codemirror_mode": {
    "name": "ipython",
    "version": 3
   },
   "file_extension": ".py",
   "mimetype": "text/x-python",
   "name": "python",
   "nbconvert_exporter": "python",
   "pygments_lexer": "ipython3",
   "version": "3.12.9"
  }
 },
 "nbformat": 4,
 "nbformat_minor": 2
}
