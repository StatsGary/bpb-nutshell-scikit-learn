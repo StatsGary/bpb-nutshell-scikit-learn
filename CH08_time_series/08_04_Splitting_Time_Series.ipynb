{
 "cells": [
  {
   "cell_type": "markdown",
   "metadata": {},
   "source": [
    "# Splitting Time Series"
   ]
  },
  {
   "cell_type": "code",
   "execution_count": null,
   "metadata": {},
   "outputs": [],
   "source": [
    "!pip install -r requirements.txt --quiet"
   ]
  },
  {
   "cell_type": "code",
   "execution_count": null,
   "metadata": {},
   "outputs": [],
   "source": [
    "import pandas as pd\n",
    "import os"
   ]
  },
  {
   "cell_type": "code",
   "execution_count": null,
   "metadata": {},
   "outputs": [],
   "source": [
    "flights = pd.read_csv('data/flights_decomp.csv',\n",
    "                      parse_dates=['Date'], \n",
    "                      index_col=\"Date\")\n",
    "flights.index = pd.to_datetime(flights.index)"
   ]
  },
  {
   "cell_type": "markdown",
   "metadata": {},
   "source": [
    "## Defining functions"
   ]
  },
  {
   "cell_type": "code",
   "execution_count": null,
   "metadata": {},
   "outputs": [],
   "source": [
    "%%writefile timeseries/split.py\n",
    "from sklearn.model_selection import TimeSeriesSplit\n",
    "\n",
    "def rolling_forecasting_origin(series, n_splits:int=5):\n",
    "    tscv = TimeSeriesSplit(n_splits=n_splits)\n",
    "    splits = []\n",
    "    \n",
    "    for train_index, test_index in tscv.split(series):\n",
    "        train, test = series.iloc[train_index], series.iloc[test_index]\n",
    "        splits.append((train, test))\n",
    "    \n",
    "    return splits\n",
    "\n",
    "def hold_out_split(series, test_size:float=0.2):\n",
    "    split_idx = int(len(series) * (1 - test_size))\n",
    "    train, test = series[:split_idx], series[split_idx:]\n",
    "    return train, test"
   ]
  },
  {
   "cell_type": "markdown",
   "metadata": {},
   "source": [
    "## Use Hold Out Partitioning on our data"
   ]
  },
  {
   "cell_type": "code",
   "execution_count": null,
   "metadata": {},
   "outputs": [],
   "source": [
    "from timeseries.split import hold_out_split\n",
    "holout_train, holout_test = hold_out_split(flights,test_size=0.2)"
   ]
  },
  {
   "cell_type": "code",
   "execution_count": null,
   "metadata": {},
   "outputs": [],
   "source": [
    "len(holout_train), len(holout_test)"
   ]
  },
  {
   "cell_type": "code",
   "execution_count": null,
   "metadata": {},
   "outputs": [],
   "source": [
    "max(holout_train.index), min(holout_test.index)"
   ]
  },
  {
   "cell_type": "code",
   "execution_count": null,
   "metadata": {},
   "outputs": [],
   "source": [
    "SAVE_DIR = 'data/splits'\n",
    "os.makedirs(SAVE_DIR, exist_ok=True)\n",
    "holout_train.to_csv(f'{SAVE_DIR}/holout_train.csv', index=True)\n",
    "holout_test.to_csv(f'{SAVE_DIR}/holout_test.csv', index=True)"
   ]
  },
  {
   "cell_type": "markdown",
   "metadata": {},
   "source": [
    "## Use TSCV on our data"
   ]
  },
  {
   "cell_type": "code",
   "execution_count": null,
   "metadata": {},
   "outputs": [],
   "source": [
    "from timeseries.split import rolling_forecasting_origin\n",
    "splits = rolling_forecasting_origin(flights, n_splits=5)"
   ]
  },
  {
   "cell_type": "code",
   "execution_count": null,
   "metadata": {},
   "outputs": [],
   "source": [
    "trains, tests = zip(*splits)"
   ]
  },
  {
   "cell_type": "markdown",
   "metadata": {},
   "source": [
    "### Save our TSCV results as CSV files for downstream modeling"
   ]
  },
  {
   "cell_type": "code",
   "execution_count": null,
   "metadata": {},
   "outputs": [],
   "source": [
    "for i, (train, test) in enumerate(splits):\n",
    "    train.to_csv(f'{SAVE_DIR}/train_split_{i+1}.csv', index=True)\n",
    "    test.to_csv(f'{SAVE_DIR}/test_split_{i+1}.csv', index=True)"
   ]
  }
 ],
 "metadata": {
  "kernelspec": {
   "display_name": "sklearn-book-py-12-env",
   "language": "python",
   "name": "python3"
  },
  "language_info": {
   "codemirror_mode": {
    "name": "ipython",
    "version": 3
   },
   "file_extension": ".py",
   "mimetype": "text/x-python",
   "name": "python",
   "nbconvert_exporter": "python",
   "pygments_lexer": "ipython3",
   "version": "3.12.9"
  }
 },
 "nbformat": 4,
 "nbformat_minor": 2
}
