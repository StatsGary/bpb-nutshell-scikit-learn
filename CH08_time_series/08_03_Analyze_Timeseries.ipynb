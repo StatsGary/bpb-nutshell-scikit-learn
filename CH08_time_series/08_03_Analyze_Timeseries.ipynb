{
 "cells": [
  {
   "cell_type": "markdown",
   "metadata": {},
   "source": [
    "# Analyze time series"
   ]
  },
  {
   "cell_type": "code",
   "execution_count": null,
   "metadata": {},
   "outputs": [],
   "source": [
    "!pip install -r requirements.txt --quiet"
   ]
  },
  {
   "cell_type": "code",
   "execution_count": null,
   "metadata": {},
   "outputs": [],
   "source": [
    "import pandas as pd\n",
    "from timeseries.styler import style_dataframe"
   ]
  },
  {
   "cell_type": "code",
   "execution_count": null,
   "metadata": {},
   "outputs": [],
   "source": [
    "flights = pd.read_csv('data/flights_preprocessed.csv', index_col=0)"
   ]
  },
  {
   "cell_type": "code",
   "execution_count": null,
   "metadata": {},
   "outputs": [],
   "source": [
    "flights[\"Date\"] = pd.to_datetime(flights[\"Date\"])\n",
    "flights.set_index(\"Date\", inplace=True)"
   ]
  },
  {
   "cell_type": "markdown",
   "metadata": {},
   "source": [
    "## Visualize time series"
   ]
  },
  {
   "cell_type": "code",
   "execution_count": null,
   "metadata": {},
   "outputs": [],
   "source": [
    "%%writefile timeseries/viz.py\n",
    "import seaborn as sns\n",
    "import matplotlib.pyplot as plt\n",
    "from typing import List\n",
    "import pandas as pd\n",
    "\n",
    "def plot_time_series(data: pd.DataFrame, \n",
    "                     columns: List[str],\n",
    "                     title: str = \"Time Series Plot\",\n",
    "                     xlab:str = \"Date\", ylab:str = \"Values\",\n",
    "                     figsize: tuple = (12,6),\n",
    "                     colors: List[str] = None, linewidth:float=2.0,\n",
    "                     max_cols: int = 3, title_fontsize:int=14, \n",
    "                     axis_label_fontsize:int=12, plot_grid:bool = True,\n",
    "                     show_legend=True):\n",
    "    \n",
    "    if colors is None:\n",
    "        color_pal  = sns.color_palette(\"husl\", len(columns))\n",
    "\n",
    "    else: \n",
    "        color_pal = colors[:len(columns)]\n",
    "        plt.figure(figsize=figsize)\n",
    "\n",
    "    for i, col in enumerate(columns[:max_cols]):\n",
    "        if col in data.columns:\n",
    "            sns.lineplot(x=data.index, y=data[col],\n",
    "                            color=color_pal[i], linewidth=linewidth, \n",
    "                            label=col)\n",
    "        else:\n",
    "            print(f\"Warning: Column '{col}' not found in the DataFrame.\")\n",
    "    \n",
    "    plt.title(title, fontsize=title_fontsize)\n",
    "    plt.xlabel(xlab, fontsize=axis_label_fontsize)\n",
    "    plt.ylabel(ylab, fontsize=axis_label_fontsize)\n",
    "    plt.legend().set_visible(show_legend)\n",
    "    plt.grid(plot_grid)\n",
    "    plt.show()\n"
   ]
  },
  {
   "cell_type": "code",
   "execution_count": null,
   "metadata": {},
   "outputs": [],
   "source": [
    "from timeseries.viz import plot_time_series\n",
    "plot_time_series(data=flights, columns=[\"Passengers\"], \n",
    "                 colors=['grey'], show_legend=True)"
   ]
  },
  {
   "cell_type": "markdown",
   "metadata": {},
   "source": [
    "## Time Series Decomposition"
   ]
  },
  {
   "cell_type": "code",
   "execution_count": null,
   "metadata": {},
   "outputs": [],
   "source": [
    "from statsmodels.tsa.seasonal import seasonal_decompose\n",
    "decomp = seasonal_decompose(flights['Passengers'], \n",
    "                            model='multiplicative', \n",
    "                            period=12)"
   ]
  },
  {
   "cell_type": "code",
   "execution_count": null,
   "metadata": {},
   "outputs": [],
   "source": [
    "decomp.plot()"
   ]
  },
  {
   "cell_type": "markdown",
   "metadata": {},
   "source": [
    "## Non-Stationarity Checks\n"
   ]
  },
  {
   "cell_type": "code",
   "execution_count": null,
   "metadata": {},
   "outputs": [],
   "source": [
    "from statsmodels.tsa.stattools import adfuller"
   ]
  },
  {
   "cell_type": "code",
   "execution_count": null,
   "metadata": {},
   "outputs": [],
   "source": [
    "result = adfuller(flights['Passengers'].dropna())\n",
    "print(f'ADF Statistic: {result[0]}')\n",
    "print(f'p-value: {result[1]}')"
   ]
  },
  {
   "cell_type": "code",
   "execution_count": null,
   "metadata": {},
   "outputs": [],
   "source": [
    "if result[1] < 0.05:\n",
    "    print(\"The time series is stationary.\")\n",
    "else:\n",
    "    print(\"The time series is non-stationary.\")"
   ]
  },
  {
   "cell_type": "markdown",
   "metadata": {},
   "source": [
    "## How to make a time series stationary"
   ]
  },
  {
   "cell_type": "markdown",
   "metadata": {},
   "source": [
    "### Differencing"
   ]
  },
  {
   "cell_type": "code",
   "execution_count": null,
   "metadata": {},
   "outputs": [],
   "source": [
    "flights['Diff1'] = flights['Passengers'].diff().dropna()\n",
    "flights['Diff2'] = flights['Passengers'].diff().diff().dropna() "
   ]
  },
  {
   "cell_type": "code",
   "execution_count": null,
   "metadata": {},
   "outputs": [],
   "source": [
    "style_dataframe(flights[[\"Passengers\", \"Diff1\", \"Diff2\"]].head())"
   ]
  },
  {
   "cell_type": "code",
   "execution_count": null,
   "metadata": {},
   "outputs": [],
   "source": [
    "import matplotlib.pyplot as plt\n",
    "plt.figure(figsize=(10,5))\n",
    "plt.plot(flights['Diff1'], \n",
    "         label=\"First-order Differenced Data\", \n",
    "         color='black', linestyle='-')\n",
    "plt.plot(flights['Diff2'], \n",
    "         label='Second-order Differenced Data', \n",
    "         color='grey', linestyle='-.', alpha=0.3)\n",
    "plt.legend()\n",
    "plt.title('Differencing on Passengers dataset')\n",
    "plt.show()"
   ]
  },
  {
   "cell_type": "markdown",
   "metadata": {},
   "source": [
    "### Log Transformation"
   ]
  },
  {
   "cell_type": "code",
   "execution_count": null,
   "metadata": {},
   "outputs": [],
   "source": [
    "import numpy as np\n",
    "flights['log'] = np.log(flights['Passengers'])\n",
    "style_dataframe(flights.head())"
   ]
  },
  {
   "cell_type": "markdown",
   "metadata": {},
   "source": [
    "### Log Transformation with Differencing"
   ]
  },
  {
   "cell_type": "code",
   "execution_count": null,
   "metadata": {},
   "outputs": [],
   "source": [
    "flights['log_diff'] = flights['log'].diff().dropna()\n",
    "style_dataframe(flights.head())"
   ]
  },
  {
   "cell_type": "markdown",
   "metadata": {},
   "source": [
    "## Check stationarity after differencing"
   ]
  },
  {
   "cell_type": "code",
   "execution_count": null,
   "metadata": {},
   "outputs": [],
   "source": [
    "def stationarity_check(data: pd.DataFrame, \n",
    "                       column:str, \n",
    "                       conf_level:float = 0.05, \n",
    "                       **kwargs):\n",
    "    adf_test_dict = dict()\n",
    "    adf_test = adfuller(data[column].dropna(), **kwargs)\n",
    "\n",
    "    if adf_test[1] < conf_level:\n",
    "        result = \"Stationary series\"\n",
    "    else:\n",
    "        result = \"Non-Stationary series\"\n",
    "\n",
    "    adf_test_dict = {\n",
    "        \"ADF Stat\" : adf_test[0], \n",
    "        \"p-value\": adf_test[1],\n",
    "        \"TS Type\": result\n",
    "    }\n",
    "    return adf_test_dict"
   ]
  },
  {
   "cell_type": "code",
   "execution_count": null,
   "metadata": {},
   "outputs": [],
   "source": [
    "stationarity_check(data=flights, column=\"Diff2\")['TS Type']"
   ]
  },
  {
   "cell_type": "markdown",
   "metadata": {},
   "source": [
    "## Detecting Autocorrelation and Partial Autocorrelation"
   ]
  },
  {
   "cell_type": "code",
   "execution_count": null,
   "metadata": {},
   "outputs": [],
   "source": [
    "from statsmodels.graphics.tsaplots import plot_acf, plot_pacf"
   ]
  },
  {
   "cell_type": "code",
   "execution_count": null,
   "metadata": {},
   "outputs": [],
   "source": [
    "import matplotlib.pyplot as plt\n",
    "fig, axes = plt.subplots(1, 2, figsize=(12, 4))\n",
    "plot_acf(flights['Passengers'].dropna(), lags=50, ax=axes[0])\n",
    "axes[0].set_title(\"Autocorrelation (ACF)\")\n",
    "plot_pacf(flights['Passengers'].dropna(), lags=50, ax=axes[1])\n",
    "axes[1].set_title(\"Partial Autocorrelation (PACF)\")\n",
    "plt.tight_layout()\n",
    "plt.show()"
   ]
  },
  {
   "cell_type": "markdown",
   "metadata": {},
   "source": [
    "## How to handle autocorrelation\n",
    "\n",
    "- ARIMA (to estimate the differencing, seasonality and trend)\n",
    "- Use ML model with lagged features - see below:"
   ]
  },
  {
   "cell_type": "markdown",
   "metadata": {},
   "source": [
    "### Lag features for ML Models"
   ]
  },
  {
   "cell_type": "code",
   "execution_count": null,
   "metadata": {},
   "outputs": [],
   "source": [
    "from typing import List\n",
    "def create_lagged_columns(df: pd.DataFrame, \n",
    "                          column:str, \n",
    "                          lag_periods:List[int]):\n",
    "    for lag in lag_periods:\n",
    "        df[f'Lag_{lag}'] = df[column].shift(periods=lag).fillna(value=0)\n",
    "    return df"
   ]
  },
  {
   "cell_type": "code",
   "execution_count": null,
   "metadata": {},
   "outputs": [],
   "source": [
    "style_dataframe(create_lagged_columns(df=flights, \n",
    "                      column='Passengers', \n",
    "                      lag_periods=[1,2,3,12,24,36]).head())"
   ]
  },
  {
   "cell_type": "markdown",
   "metadata": {},
   "source": [
    "## Multiplicative vs Additive (Additional Section)"
   ]
  },
  {
   "cell_type": "code",
   "execution_count": null,
   "metadata": {},
   "outputs": [],
   "source": [
    "from modelviz.timeseries import analyze_and_preprocess_time_series"
   ]
  },
  {
   "cell_type": "code",
   "execution_count": null,
   "metadata": {},
   "outputs": [],
   "source": [
    "results = analyze_and_preprocess_time_series(data=flights, column='Passengers')"
   ]
  },
  {
   "cell_type": "code",
   "execution_count": null,
   "metadata": {},
   "outputs": [],
   "source": [
    "results"
   ]
  },
  {
   "cell_type": "markdown",
   "metadata": {},
   "source": [
    "## Save full dataset"
   ]
  },
  {
   "cell_type": "code",
   "execution_count": null,
   "metadata": {},
   "outputs": [],
   "source": [
    "flights.to_csv('data/flights_decomp.csv')"
   ]
  }
 ],
 "metadata": {
  "kernelspec": {
   "display_name": "sklearn-book-py-12-env",
   "language": "python",
   "name": "python3"
  },
  "language_info": {
   "codemirror_mode": {
    "name": "ipython",
    "version": 3
   },
   "file_extension": ".py",
   "mimetype": "text/x-python",
   "name": "python",
   "nbconvert_exporter": "python",
   "pygments_lexer": "ipython3",
   "version": "3.12.9"
  }
 },
 "nbformat": 4,
 "nbformat_minor": 2
}
