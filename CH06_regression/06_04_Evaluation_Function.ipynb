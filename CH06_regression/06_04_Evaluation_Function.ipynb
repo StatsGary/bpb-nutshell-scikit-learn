{
 "cells": [
  {
   "cell_type": "markdown",
   "metadata": {},
   "source": [
    "# Evaluation for regression 🎯"
   ]
  },
  {
   "cell_type": "code",
   "execution_count": 1,
   "metadata": {},
   "outputs": [],
   "source": [
    "from sklearn.metrics import (\n",
    "    mean_squared_error, mean_absolute_error, \n",
    "    r2_score, mean_squared_log_error)\n",
    "import numpy as np\n",
    "\n",
    "def compute_metrics(y_true, y_pred):\n",
    "    metrics = {}\n",
    "    metrics['MSE'] = mean_squared_error(y_true, y_pred)\n",
    "    metrics['RMSE'] = np.sqrt(metrics['MSE'])\n",
    "    metrics['MAE'] = mean_absolute_error(y_true, y_pred)\n",
    "    metrics['R²'] = r2_score(y_true, y_pred)\n",
    "    \n",
    "    metrics['MSLE'] = (\n",
    "        mean_squared_log_error(y_true, y_pred)\n",
    "        if np.all(y_pred >= 0) else None\n",
    "    )\n",
    "    metrics['MAPE(%)'] = (\n",
    "        np.mean(np.abs((y_true - y_pred) / y_true)) * 100\n",
    "        if np.all(y_true != 0) else None\n",
    "    )\n",
    "    \n",
    "    return metrics"
   ]
  },
  {
   "cell_type": "code",
   "execution_count": null,
   "metadata": {},
   "outputs": [],
   "source": [
    "%%writefile regress/metrics.py\n",
    "from sklearn.metrics import (\n",
    "    mean_squared_error, mean_absolute_error, \n",
    "    r2_score, mean_squared_log_error)\n",
    "import numpy as np\n",
    "\n",
    "def compute_metrics(y_true, y_pred):\n",
    "    metrics = {}\n",
    "    metrics['MSE'] = mean_squared_error(y_true, y_pred)\n",
    "    metrics['RMSE'] = np.sqrt(metrics['MSE'])\n",
    "    metrics['MAE'] = mean_absolute_error(y_true, y_pred)\n",
    "    metrics['R²'] = r2_score(y_true, y_pred)\n",
    "    \n",
    "    metrics['MSLE'] = (\n",
    "        mean_squared_log_error(y_true, y_pred)\n",
    "        if np.all(y_pred >= 0) else None\n",
    "    )\n",
    "    metrics['MAPE(%)'] = (\n",
    "        np.mean(np.abs((y_true - y_pred) / y_true)) * 100\n",
    "        if np.all(y_true != 0) else None\n",
    "    )\n",
    "    \n",
    "    return metrics"
   ]
  }
 ],
 "metadata": {
  "kernelspec": {
   "display_name": "scikit-learn",
   "language": "python",
   "name": "python3"
  },
  "language_info": {
   "codemirror_mode": {
    "name": "ipython",
    "version": 3
   },
   "file_extension": ".py",
   "mimetype": "text/x-python",
   "name": "python",
   "nbconvert_exporter": "python",
   "pygments_lexer": "ipython3",
   "version": "3.10.15"
  }
 },
 "nbformat": 4,
 "nbformat_minor": 2
}
