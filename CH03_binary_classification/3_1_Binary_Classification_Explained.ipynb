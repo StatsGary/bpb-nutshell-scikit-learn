{
 "cells": [
  {
   "cell_type": "markdown",
   "metadata": {
    "id": "W7Y7l29vWipA"
   },
   "source": [
    " # Binary Classification Explained"
   ]
  },
  {
   "cell_type": "code",
   "execution_count": null,
   "metadata": {},
   "outputs": [],
   "source": [
    "!pip install -r requirements.txt"
   ]
  },
  {
   "cell_type": "code",
   "execution_count": null,
   "metadata": {},
   "outputs": [],
   "source": [
    "import numpy as np\n",
    "import matplotlib.pyplot as plt\n",
    "from sklearn.linear_model import LogisticRegression\n",
    "from sklearn.datasets import make_classification\n",
    "\n",
    "\n",
    "# Generate synthetic data\n",
    "np.random.seed(42)\n",
    "X_regression = np.linspace(-10, 10, 200).reshape(-1, 1)\n",
    "y_regression = 1 / (1 + np.exp(-0.5 * X_regression)).ravel() + 0.1 * np.random.randn(X_regression.shape[0])\n",
    "\n",
    "X_classification, y_classification = make_classification(\n",
    "    n_samples=200, n_features=1, n_informative=1, n_redundant=0, n_clusters_per_class=1, random_state=42\n",
    ")"
   ]
  },
  {
   "cell_type": "code",
   "execution_count": null,
   "metadata": {},
   "outputs": [],
   "source": [
    "model = LogisticRegression()\n",
    "model.fit(X_classification, y_classification)\n",
    "\n",
    "y_prob = model.predict_proba(X_classification)[:, 1]\n",
    "threshold = 0.6\n",
    "decision_boundary = (np.log(threshold / (1 - threshold)) - model.intercept_) / model.coef_"
   ]
  },
  {
   "cell_type": "code",
   "execution_count": null,
   "metadata": {},
   "outputs": [],
   "source": [
    "import numpy as np\n",
    "import matplotlib.pyplot as plt\n",
    "from sklearn.base import BaseEstimator\n",
    "\n",
    "def plot_logistic_regression_results(model, X_regression, y_regression, X_classification, y_classification, threshold=0.5):\n",
    "\n",
    "    if not isinstance(model, BaseEstimator):\n",
    "        raise TypeError(\"The provided model must be an instance of sklearn's BaseEstimator.\")\n",
    "    \n",
    "    if not hasattr(model, \"predict_proba\"):\n",
    "        raise ValueError(\"The provided model must implement `predict_proba`.\")\n",
    "    \n",
    "    fig, axes = plt.subplots(1, 2, figsize=(15, 6))\n",
    "    axes[0].scatter(X_regression, y_regression, alpha=0.6, label=\"Regression Data\")\n",
    "    X_range = np.linspace(X_regression.min(), X_regression.max(), 200).reshape(-1, 1)\n",
    "    ideal_sigmoid = 1 / (1 + np.exp(-0.5 * X_range))\n",
    "    axes[0].plot(X_range, ideal_sigmoid, color='red', label=\"Logistic Curve (Ideal)\")\n",
    "    axes[0].axhline(y=threshold, color='green', linestyle='--', label=f\"Decision Threshold (Y={threshold})\")\n",
    "    axes[0].set_title(\"Logistic Regression as Regression\")\n",
    "    axes[0].set_xlabel(\"Feature (X)\")\n",
    "    axes[0].set_ylabel(\"Target (y)\")\n",
    "    axes[0].legend()\n",
    "\n",
    "    y_sigmoid = model.predict_proba(X_range)[:, 1]\n",
    "    axes[1].scatter(X_classification, y_classification, alpha=0.6, label=\"Data (0 or 1)\")\n",
    "    axes[1].plot(X_range, y_sigmoid, color='red', label=\"Logistic Curve (Sigmoid)\")\n",
    "    axes[1].axhline(y=threshold, color='green', linestyle='--', label=f\"Decision Threshold (Y={threshold})\")\n",
    "    axes[1].set_title(\"Logistic Regression as Classification\")\n",
    "    axes[1].set_xlabel(\"Feature (X)\")\n",
    "    axes[1].set_ylabel(\"Predicted Probability (P(y=1))\")\n",
    "    axes[1].legend()\n",
    "    plt.tight_layout()\n",
    "    plt.show()"
   ]
  },
  {
   "cell_type": "code",
   "execution_count": null,
   "metadata": {},
   "outputs": [],
   "source": [
    "# Plot the results\n",
    "plot_logistic_regression_results(model, X_regression, y_regression, X_classification, y_classification, threshold=0.5)"
   ]
  }
 ],
 "metadata": {
  "colab": {
   "provenance": []
  },
  "kernelspec": {
   "display_name": "sklearn-book-py-12-env",
   "language": "python",
   "name": "python3"
  },
  "language_info": {
   "codemirror_mode": {
    "name": "ipython",
    "version": 3
   },
   "file_extension": ".py",
   "mimetype": "text/x-python",
   "name": "python",
   "nbconvert_exporter": "python",
   "pygments_lexer": "ipython3",
   "version": "3.12.9"
  }
 },
 "nbformat": 4,
 "nbformat_minor": 0
}
