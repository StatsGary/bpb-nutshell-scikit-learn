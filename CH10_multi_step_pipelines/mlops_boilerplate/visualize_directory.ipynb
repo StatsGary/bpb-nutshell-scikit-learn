{
 "cells": [
  {
   "cell_type": "markdown",
   "id": "c4067a10",
   "metadata": {},
   "source": [
    "# Module to visualize directory"
   ]
  },
  {
   "cell_type": "code",
   "execution_count": null,
   "id": "c35532f6",
   "metadata": {},
   "outputs": [],
   "source": [
    "from boilerplate.directory import visualize_directory_as_graph"
   ]
  },
  {
   "cell_type": "code",
   "execution_count": null,
   "id": "84739a51",
   "metadata": {},
   "outputs": [],
   "source": [
    "visualize_directory_as_graph()"
   ]
  },
  {
   "cell_type": "code",
   "execution_count": null,
   "id": "935fb358",
   "metadata": {},
   "outputs": [],
   "source": [
    "from boilerplate.directory import save_ascii_tree_image\n",
    "save_ascii_tree_image(output_path=\"outputs/ascii_tree.png\", root_path=\".\")\n"
   ]
  }
 ],
 "metadata": {
  "kernelspec": {
   "display_name": "sklearn-book-py-12-env",
   "language": "python",
   "name": "python3"
  },
  "language_info": {
   "codemirror_mode": {
    "name": "ipython",
    "version": 3
   },
   "file_extension": ".py",
   "mimetype": "text/x-python",
   "name": "python",
   "nbconvert_exporter": "python",
   "pygments_lexer": "ipython3",
   "version": "3.12.9"
  }
 },
 "nbformat": 4,
 "nbformat_minor": 5
}
