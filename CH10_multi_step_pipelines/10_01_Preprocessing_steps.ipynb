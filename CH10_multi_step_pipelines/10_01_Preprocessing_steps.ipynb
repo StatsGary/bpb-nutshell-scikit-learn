{
 "cells": [
  {
   "cell_type": "markdown",
   "metadata": {},
   "source": [
    "# Preprocessing steps - Customer Churn"
   ]
  },
  {
   "cell_type": "code",
   "execution_count": null,
   "metadata": {},
   "outputs": [],
   "source": [
    "!pip install -r requirements.txt --quiet"
   ]
  },
  {
   "cell_type": "code",
   "execution_count": null,
   "metadata": {},
   "outputs": [],
   "source": [
    "import pandas as pd\n",
    "cust_df = pd.read_csv(\"data/synth_customer_churn.csv\")"
   ]
  },
  {
   "cell_type": "code",
   "execution_count": null,
   "metadata": {},
   "outputs": [],
   "source": [
    "y = cust_df['ChurnCategory'].map({'Low Risk': 0, \n",
    "                                  'Medium Risk': 1, \n",
    "                                  'High Risk': 2})\n"
   ]
  },
  {
   "cell_type": "code",
   "execution_count": null,
   "metadata": {},
   "outputs": [],
   "source": [
    "X = cust_df.drop(columns=['ChurnCategory', \n",
    "                          'CustomerID'])"
   ]
  },
  {
   "cell_type": "markdown",
   "metadata": {},
   "source": [
    "## Create numerical pipeline options"
   ]
  },
  {
   "cell_type": "code",
   "execution_count": null,
   "metadata": {},
   "outputs": [],
   "source": [
    "minmax_median_cols = ['Age']\n",
    "standard_mean_cols = ['MonthlyCharges']\n",
    "standard_median_cols = ['CustomerSupportCalls']\n",
    "robust_median_cols = ['ServiceUsage']\n"
   ]
  },
  {
   "cell_type": "code",
   "execution_count": null,
   "metadata": {},
   "outputs": [],
   "source": [
    "from sklearn.pipeline import Pipeline, FeatureUnion\n",
    "from sklearn.preprocessing import OneHotEncoder, StandardScaler\n",
    "from sklearn.impute import SimpleImputer\n",
    "from sklearn.compose import ColumnTransformer\n",
    "from sklearn.preprocessing import MinMaxScaler, StandardScaler, RobustScaler, OneHotEncoder\n"
   ]
  },
  {
   "cell_type": "markdown",
   "metadata": {},
   "source": [
    "### Numerical pipelines"
   ]
  },
  {
   "cell_type": "code",
   "execution_count": null,
   "metadata": {},
   "outputs": [],
   "source": [
    "minmax_median_pipeline = Pipeline([\n",
    "    ('imputer', SimpleImputer(strategy='median')),\n",
    "    ('scaler', MinMaxScaler())\n",
    "])"
   ]
  },
  {
   "cell_type": "code",
   "execution_count": null,
   "metadata": {},
   "outputs": [],
   "source": [
    "standard_mean_pipeline = Pipeline([\n",
    "    ('imputer', SimpleImputer(strategy='mean')),\n",
    "    ('scaler', StandardScaler())\n",
    "])"
   ]
  },
  {
   "cell_type": "code",
   "execution_count": null,
   "metadata": {},
   "outputs": [],
   "source": [
    "standard_median_pipeline = Pipeline([\n",
    "    ('imputer', SimpleImputer(strategy='median')),\n",
    "    ('scaler', StandardScaler())\n",
    "])"
   ]
  },
  {
   "cell_type": "code",
   "execution_count": null,
   "metadata": {},
   "outputs": [],
   "source": [
    "robust_median_pipeline = Pipeline([\n",
    "    ('imputer', SimpleImputer(strategy='median')),\n",
    "    ('scaler', RobustScaler())\n",
    "])"
   ]
  },
  {
   "cell_type": "markdown",
   "metadata": {},
   "source": [
    "### Categorical pipeline"
   ]
  },
  {
   "cell_type": "code",
   "execution_count": null,
   "metadata": {},
   "outputs": [],
   "source": [
    "categorical_cols = ['Gender', 'ContractType', 'PaymentMethod']"
   ]
  },
  {
   "cell_type": "code",
   "execution_count": null,
   "metadata": {},
   "outputs": [],
   "source": [
    "categorical_pipeline = Pipeline([\n",
    "    ('imputer', SimpleImputer(strategy='most_frequent')),\n",
    "    ('encoder', OneHotEncoder(drop='first', \n",
    "                              handle_unknown='ignore'))\n",
    "])"
   ]
  },
  {
   "cell_type": "markdown",
   "metadata": {},
   "source": [
    "### Custom Transformer for Tenure with `TransformerMixin`"
   ]
  },
  {
   "cell_type": "code",
   "execution_count": null,
   "metadata": {},
   "outputs": [],
   "source": [
    "import matplotlib.pyplot as plt\n",
    "cust_df['Tenure'].hist(bins=30, \n",
    "                       edgecolor='black', \n",
    "                       color='grey')\n",
    "plt.title(\"Distribution of Tenure\")\n",
    "plt.xlabel(\"Tenure (months)\")\n",
    "plt.ylabel(\"Frequency\")\n",
    "plt.grid(False)\n",
    "plt.show()\n"
   ]
  },
  {
   "cell_type": "code",
   "execution_count": null,
   "metadata": {},
   "outputs": [],
   "source": [
    "from sklearn.base import BaseEstimator, TransformerMixin\n",
    "class TenureBinner(BaseEstimator, TransformerMixin):\n",
    "    def __init__(self, column='Tenure', bins=None, labels=None):\n",
    "        self.column = column\n",
    "        self.bins = bins if bins is not None else [0, 6, \n",
    "                                                   15, 22, \n",
    "                                                   float('inf')]\n",
    "        \n",
    "        self.labels = labels if labels is not None else ['New', \n",
    "                                                         'Developing', \n",
    "                                                         'Established', \n",
    "                                                         'Loyal']\n",
    "\n",
    "    def fit(self, X, y=None):\n",
    "        return self\n",
    "\n",
    "    def transform(self, X):\n",
    "        X_ = pd.DataFrame(X).copy()\n",
    "        if self.column not in X_.columns:\n",
    "            raise ValueError(f\"Column '{self.column}' not found in input DataFrame.\")\n",
    "\n",
    "        if X_[self.column].isnull().any():\n",
    "            X_[self.column] = X_[self.column].fillna(X_[self.column].median())\n",
    "\n",
    "        binned = pd.cut(X_[self.column], bins=self.bins, \n",
    "                        labels=self.labels, \n",
    "                        include_lowest=True)\n",
    "        return pd.DataFrame({f\"{self.column}_bin\": binned})\n",
    "\n",
    "    def get_feature_names_out(self, input_features=None):\n",
    "        return [f\"{self.column}_bin\"]\n"
   ]
  },
  {
   "cell_type": "code",
   "execution_count": null,
   "metadata": {},
   "outputs": [],
   "source": [
    "%%writefile pipeline/binner.py\n",
    "from sklearn.base import BaseEstimator, TransformerMixin\n",
    "import pandas as pd\n",
    "class TenureBinner(BaseEstimator, TransformerMixin):\n",
    "    def __init__(self, column='Tenure', bins=None, labels=None):\n",
    "        self.column = column\n",
    "        self.bins = bins if bins is not None else [0, 6, 15, 22, float('inf')]\n",
    "        self.labels = labels if labels is not None else ['New', 'Developing', 'Established', 'Loyal']\n",
    "\n",
    "    def fit(self, X, y=None):\n",
    "        return self\n",
    "\n",
    "    def transform(self, X):\n",
    "        X_ = pd.DataFrame(X).copy()\n",
    "        if self.column not in X_.columns:\n",
    "            raise ValueError(f\"Column '{self.column}' not found in input DataFrame.\")\n",
    "\n",
    "        if X_[self.column].isnull().any():\n",
    "            X_[self.column] = X_[self.column].fillna(X_[self.column].median())\n",
    "\n",
    "        binned = pd.cut(X_[self.column], bins=self.bins, labels=self.labels, include_lowest=True)\n",
    "        return pd.DataFrame({f\"{self.column}_bin\": binned})\n",
    "\n",
    "    def get_feature_names_out(self, input_features=None):\n",
    "        return [f\"{self.column}_bin\"]"
   ]
  },
  {
   "cell_type": "code",
   "execution_count": null,
   "metadata": {},
   "outputs": [],
   "source": [
    "tenure_binner_pipeline = Pipeline([\n",
    "    ('tenure_binner', TenureBinner(\n",
    "        column='Tenure',\n",
    "        bins=[0, 6, 15, 22, float('inf')],\n",
    "        labels=['New', 'Developing', \n",
    "                'Established', 'Loyal']\n",
    "    )),\n",
    "    ('encoder', OneHotEncoder())\n",
    "])\n"
   ]
  },
  {
   "cell_type": "markdown",
   "metadata": {},
   "source": [
    "## Combine structured and custom into one pipeline"
   ]
  },
  {
   "cell_type": "code",
   "execution_count": null,
   "metadata": {},
   "outputs": [],
   "source": [
    "structured_preprocessor = ColumnTransformer(transformers=[\n",
    "    ('minmax_median', minmax_median_pipeline, minmax_median_cols),\n",
    "    ('standard_mean', standard_mean_pipeline, standard_mean_cols),\n",
    "    ('standard_median', standard_median_pipeline, standard_median_cols),\n",
    "    ('robust_median', robust_median_pipeline, robust_median_cols),\n",
    "    ('categorical', categorical_pipeline, categorical_cols)\n",
    "])\n"
   ]
  },
  {
   "cell_type": "code",
   "execution_count": null,
   "metadata": {},
   "outputs": [],
   "source": [
    "structured_preprocessor"
   ]
  },
  {
   "cell_type": "code",
   "execution_count": null,
   "metadata": {},
   "outputs": [],
   "source": [
    "from sklearn.pipeline import FeatureUnion\n",
    "full_preprocessor = FeatureUnion([\n",
    "    ('structured', structured_preprocessor),\n",
    "    ('tenure_bins', tenure_binner_pipeline)\n",
    "])\n",
    "full_preprocessor"
   ]
  },
  {
   "cell_type": "markdown",
   "metadata": {},
   "source": [
    "## Save the preprocessor"
   ]
  },
  {
   "cell_type": "code",
   "execution_count": null,
   "metadata": {},
   "outputs": [],
   "source": [
    "import os \n",
    "PREPROC_DIR = 'models/preprocessing'\n",
    "os.makedirs(PREPROC_DIR, exist_ok=True)"
   ]
  },
  {
   "cell_type": "code",
   "execution_count": null,
   "metadata": {},
   "outputs": [],
   "source": [
    "import joblib\n",
    "joblib.dump(full_preprocessor,\n",
    "            os.path.join(PREPROC_DIR, 'preprocessor.joblib'))"
   ]
  }
 ],
 "metadata": {
  "kernelspec": {
   "display_name": "sklearn-book-py-12-env",
   "language": "python",
   "name": "python3"
  },
  "language_info": {
   "codemirror_mode": {
    "name": "ipython",
    "version": 3
   },
   "file_extension": ".py",
   "mimetype": "text/x-python",
   "name": "python",
   "nbconvert_exporter": "python",
   "pygments_lexer": "ipython3",
   "version": "3.12.9"
  }
 },
 "nbformat": 4,
 "nbformat_minor": 2
}
