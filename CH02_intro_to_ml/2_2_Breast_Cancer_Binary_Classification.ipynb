{
 "cells": [
  {
   "cell_type": "markdown",
   "metadata": {
    "id": "1SRzonJ8DBn8"
   },
   "source": [
    "# Breast Cancer ML Model"
   ]
  },
  {
   "cell_type": "code",
   "execution_count": 9,
   "metadata": {
    "id": "YCnbAk8eDSJS"
   },
   "outputs": [],
   "source": [
    "!pip install scikit-learn pandas --quiet"
   ]
  },
  {
   "cell_type": "code",
   "execution_count": 10,
   "metadata": {
    "id": "ywEhcXw1DgSj"
   },
   "outputs": [],
   "source": [
    "import sklearn\n",
    "import pandas as pd\n",
    "import seaborn as sns\n",
    "import matplotlib.pyplot as plt\n",
    "from sklearn.datasets import load_breast_cancer"
   ]
  },
  {
   "cell_type": "markdown",
   "metadata": {
    "id": "BLkNvx58Dz1j"
   },
   "source": [
    "## Saving and Importing data"
   ]
  },
  {
   "cell_type": "code",
   "execution_count": 11,
   "metadata": {
    "id": "c-ci-IBvD4VN"
   },
   "outputs": [],
   "source": [
    "sci_kit_internal_data = load_breast_cancer()"
   ]
  },
  {
   "cell_type": "code",
   "execution_count": 12,
   "metadata": {
    "id": "GLM7-hz3EbxX"
   },
   "outputs": [],
   "source": [
    "breast_cancer_data = pd.DataFrame(sci_kit_internal_data.data,\n",
    "                                  columns=sci_kit_internal_data.feature_names)\n",
    "breast_cancer_data['Diagnosis'] = sci_kit_internal_data.target"
   ]
  },
  {
   "cell_type": "code",
   "execution_count": null,
   "metadata": {
    "colab": {
     "base_uri": "https://localhost:8080/"
    },
    "id": "xr4YKiuiKxQg",
    "outputId": "b4bfdd67-ed5c-41ae-b54c-70f040d80b2a"
   },
   "outputs": [],
   "source": [
    "breast_cancer_data['Diagnosis'].unique()"
   ]
  },
  {
   "cell_type": "code",
   "execution_count": 14,
   "metadata": {
    "id": "rPTTV7IQE05f"
   },
   "outputs": [],
   "source": [
    "breast_cancer_data.to_csv('data/breast_cancer_data.csv', index=False)"
   ]
  },
  {
   "cell_type": "markdown",
   "metadata": {
    "id": "zxTna_YUFJVI"
   },
   "source": [
    "Or:"
   ]
  },
  {
   "cell_type": "code",
   "execution_count": 15,
   "metadata": {
    "id": "-EeCRQ-dFKdv"
   },
   "outputs": [],
   "source": [
    "with open('data/breast_cancer_data.csv', 'w') as file:\n",
    "    breast_cancer_data.to_csv(file, index=False)"
   ]
  },
  {
   "cell_type": "markdown",
   "metadata": {
    "id": "w0T3t15tFQHf"
   },
   "source": []
  },
  {
   "cell_type": "code",
   "execution_count": null,
   "metadata": {
    "id": "0IdcddirE7nr"
   },
   "outputs": [],
   "source": [
    "bc_data = pd.read_csv('data/breast_cancer_data.csv')"
   ]
  },
  {
   "cell_type": "markdown",
   "metadata": {
    "id": "5ojwqGhEFa5w"
   },
   "source": [
    "## Preprocessing data"
   ]
  },
  {
   "cell_type": "code",
   "execution_count": null,
   "metadata": {
    "colab": {
     "base_uri": "https://localhost:8080/"
    },
    "id": "gkZVOf8MLhTQ",
    "outputId": "53a12fe4-86a1-4383-8f58-e562213d3aa8"
   },
   "outputs": [],
   "source": [
    "diagnosis_counts = bc_data['Diagnosis'].value_counts()\n",
    "diagnosis_percentages = diagnosis_counts / len(bc_data) * 100\n",
    "print(diagnosis_counts, diagnosis_percentages)"
   ]
  },
  {
   "cell_type": "code",
   "execution_count": 18,
   "metadata": {
    "id": "bhdWNMbpSwqS"
   },
   "outputs": [],
   "source": [
    "# Convert counts to a DataFrame for easy plotting\n",
    "diagnosis_df = diagnosis_counts.reset_index()\n",
    "diagnosis_df.columns = ['Diagnosis', 'Count']"
   ]
  },
  {
   "cell_type": "code",
   "execution_count": null,
   "metadata": {
    "colab": {
     "base_uri": "https://localhost:8080/",
     "height": 574
    },
    "id": "ORdfU5YYNBYI",
    "outputId": "c5e231b1-685b-40ed-e490-284a906aa627"
   },
   "outputs": [],
   "source": [
    "sns.set(style=\"whitegrid\")\n",
    "plt.figure(figsize=(8, 6))\n",
    "ax = sns.barplot(data=diagnosis_df,\n",
    "                 x='Diagnosis',\n",
    "                 y='Count',\n",
    "                 hue='Diagnosis',\n",
    "                 palette='muted',\n",
    "                 legend=False)\n",
    "plt.title('Class Distribution of Breast Cancer Diagnosis', fontsize=14)\n",
    "plt.xlabel('Diagnosis', fontsize=12)\n",
    "plt.ylabel('Count', fontsize=12)\n",
    "plt.show()"
   ]
  },
  {
   "cell_type": "markdown",
   "metadata": {
    "id": "QYs52aS0Fxtc"
   },
   "source": [
    "### Handle missing values"
   ]
  },
  {
   "cell_type": "code",
   "execution_count": null,
   "metadata": {
    "colab": {
     "base_uri": "https://localhost:8080/",
     "height": 1000
    },
    "id": "6ARhgs9nFzaU",
    "outputId": "5d8108e8-ce37-4f43-e50d-726548c54486"
   },
   "outputs": [],
   "source": [
    "# Check for missing values\n",
    "bc_data.isnull().sum()"
   ]
  },
  {
   "cell_type": "code",
   "execution_count": 21,
   "metadata": {
    "id": "_AQIkJaCI7zf"
   },
   "outputs": [],
   "source": [
    "bc_data.fillna(bc_data.median(), inplace=True)"
   ]
  },
  {
   "cell_type": "code",
   "execution_count": null,
   "metadata": {
    "colab": {
     "base_uri": "https://localhost:8080/",
     "height": 478
    },
    "id": "dij54y4dhyNv",
    "outputId": "0cd3c0b8-487d-40a0-df7b-f4125dc937d8"
   },
   "outputs": [],
   "source": [
    "bc_data.dropna()"
   ]
  },
  {
   "cell_type": "markdown",
   "metadata": {
    "id": "QMAFBk_xbNPt"
   },
   "source": [
    "### Scale Numerical features"
   ]
  },
  {
   "cell_type": "code",
   "execution_count": 23,
   "metadata": {
    "id": "2vPTjYHJbfWY"
   },
   "outputs": [],
   "source": [
    "from sklearn.preprocessing import StandardScaler"
   ]
  },
  {
   "cell_type": "code",
   "execution_count": 24,
   "metadata": {
    "id": "jjopXcATbhhd"
   },
   "outputs": [],
   "source": [
    "scaler = StandardScaler()"
   ]
  },
  {
   "cell_type": "code",
   "execution_count": 25,
   "metadata": {
    "id": "LFEYoO-6bmfo"
   },
   "outputs": [],
   "source": [
    "num_features = bc_data.columns.drop('Diagnosis')\n",
    "bc_data[num_features] = scaler.fit_transform(bc_data[num_features])"
   ]
  },
  {
   "cell_type": "code",
   "execution_count": null,
   "metadata": {
    "colab": {
     "base_uri": "https://localhost:8080/",
     "height": 478
    },
    "id": "TYpGCUF5zRrO",
    "outputId": "712bfb9d-0f61-4365-f7c5-c01fe338bc80"
   },
   "outputs": [],
   "source": [
    "bc_data[num_features]"
   ]
  },
  {
   "cell_type": "markdown",
   "metadata": {
    "id": "HxYscTGzcK03"
   },
   "source": [
    "### Split features and labels"
   ]
  },
  {
   "cell_type": "code",
   "execution_count": 27,
   "metadata": {
    "id": "3N5iKdWQcN4V"
   },
   "outputs": [],
   "source": [
    "X = bc_data.drop('Diagnosis', axis=1)\n",
    "y = bc_data['Diagnosis']"
   ]
  },
  {
   "cell_type": "markdown",
   "metadata": {
    "id": "e8aiXGVqcjYv"
   },
   "source": [
    "### Train / Test Split"
   ]
  },
  {
   "cell_type": "code",
   "execution_count": 28,
   "metadata": {
    "id": "XEI218aGcnON"
   },
   "outputs": [],
   "source": [
    "from sklearn.model_selection import train_test_split"
   ]
  },
  {
   "cell_type": "code",
   "execution_count": 29,
   "metadata": {
    "id": "GrjZmPmL6u-y"
   },
   "outputs": [],
   "source": [
    "split_prop = round(float(1 - 0.8),1)"
   ]
  },
  {
   "cell_type": "code",
   "execution_count": 30,
   "metadata": {
    "id": "-ADbY9Rycwwp"
   },
   "outputs": [],
   "source": [
    "X_train, X_test, y_train, y_test = train_test_split(\n",
    "    X,\n",
    "    y,\n",
    "    test_size=split_prop,\n",
    "    random_state=42)"
   ]
  },
  {
   "cell_type": "code",
   "execution_count": null,
   "metadata": {
    "colab": {
     "base_uri": "https://localhost:8080/"
    },
    "id": "_8IPksfac7GN",
    "outputId": "60c6734e-6db4-4b45-bdb7-048088ff9e10"
   },
   "outputs": [],
   "source": [
    "print(f'The size of the training set is: {len(X_train)} records and is now a Numpy array = : {type(X_train)}')\n",
    "print(f'The size of the test set is: {len(X_test)} records and is now a Numpy array = : {type(X_test)}.')"
   ]
  },
  {
   "cell_type": "markdown",
   "metadata": {
    "id": "tGzH_HwOd8P9"
   },
   "source": [
    "### Let the training commmence"
   ]
  },
  {
   "cell_type": "code",
   "execution_count": 32,
   "metadata": {
    "id": "ecBkaSmSeAJG"
   },
   "outputs": [],
   "source": [
    "from sklearn.linear_model import LogisticRegression\n",
    "from sklearn.ensemble import RandomForestClassifier\n",
    "from sklearn.svm import SVC\n",
    "from sklearn.neighbors import KNeighborsClassifier\n",
    "from sklearn.tree import DecisionTreeClassifier\n",
    "from sklearn.naive_bayes import GaussianNB\n",
    "from sklearn.discriminant_analysis import LinearDiscriminantAnalysis"
   ]
  },
  {
   "cell_type": "markdown",
   "metadata": {
    "id": "_lAWv0C4g7ea"
   },
   "source": [
    "### Fitting one classifier"
   ]
  },
  {
   "cell_type": "code",
   "execution_count": 33,
   "metadata": {
    "id": "21CqTCDog9xH"
   },
   "outputs": [],
   "source": [
    "model = LogisticRegression(max_iter=1000)\n",
    "#https://scikit-learn.org/1.5/modules/generated/sklearn.linear_model.LogisticRegression.html"
   ]
  },
  {
   "cell_type": "code",
   "execution_count": null,
   "metadata": {
    "colab": {
     "base_uri": "https://localhost:8080/",
     "height": 80
    },
    "id": "oaQyORQqhD3y",
    "outputId": "14ca3529-d5e0-4f29-9f29-fb58204b7a0e"
   },
   "outputs": [],
   "source": [
    "model.fit(X_train, y_train)"
   ]
  },
  {
   "cell_type": "code",
   "execution_count": 35,
   "metadata": {
    "id": "oG7Qt0m7iZuH"
   },
   "outputs": [],
   "source": [
    "class_preds = model.predict(X_test)"
   ]
  },
  {
   "cell_type": "code",
   "execution_count": 36,
   "metadata": {
    "id": "Gl--7iBTidLe"
   },
   "outputs": [],
   "source": [
    "prob_preds = model.predict_proba(X_test)"
   ]
  },
  {
   "cell_type": "code",
   "execution_count": null,
   "metadata": {
    "colab": {
     "base_uri": "https://localhost:8080/"
    },
    "id": "2A6TRj4Si763",
    "outputId": "9fc55a71-e764-445f-fa06-f196eb93b3f8"
   },
   "outputs": [],
   "source": [
    "model.score(X_test, y_test)"
   ]
  },
  {
   "cell_type": "markdown",
   "metadata": {
    "id": "JgdjbvWejPDz"
   },
   "source": [
    "### Fitting multiple candidate classifiers"
   ]
  },
  {
   "cell_type": "code",
   "execution_count": 38,
   "metadata": {
    "id": "RbkeYVO_fvzD"
   },
   "outputs": [],
   "source": [
    "from sklearn.ensemble import RandomForestClassifier\n",
    "from sklearn.linear_model import LogisticRegression\n",
    "from sklearn.svm import SVC\n",
    "from sklearn.neighbors import KNeighborsClassifier\n",
    "from sklearn.tree import DecisionTreeClassifier\n",
    "from sklearn.naive_bayes import GaussianNB\n",
    "from sklearn.discriminant_analysis import LinearDiscriminantAnalysis\n",
    "\n",
    "\n",
    "my_classifiers = {\n",
    "    \"Logistic Regression\": LogisticRegression(max_iter=1000),\n",
    "    \"Random Forest\": RandomForestClassifier(random_state=42),\n",
    "    \"SVM\": SVC(probability=True, random_state=42),\n",
    "    \"KNN\": KNeighborsClassifier(),\n",
    "    \"Decision Tree\": DecisionTreeClassifier(random_state=42),\n",
    "    \"Naive Bayes\": GaussianNB(),\n",
    "    \"LDA\": LinearDiscriminantAnalysis()\n",
    "}"
   ]
  },
  {
   "cell_type": "code",
   "execution_count": 39,
   "metadata": {
    "id": "Hsgtw4irjhT7"
   },
   "outputs": [],
   "source": [
    "model_results = {\n",
    "    \"Model\": [],\n",
    "    'Accuracy': [],\n",
    "    \"Precision\": [],\n",
    "    \"Recall\": [],\n",
    "    \"F1 Score\": [],\n",
    "    \"Training Time (s)\": [],\n",
    "    \"Predictions\": [],\n",
    "    \"Probabilities\": []\n",
    "}"
   ]
  },
  {
   "cell_type": "code",
   "execution_count": null,
   "metadata": {
    "colab": {
     "base_uri": "https://localhost:8080/"
    },
    "id": "PSN-ubZMkmrl",
    "outputId": "521fdd45-7252-4334-9482-c5aa9b432d81"
   },
   "outputs": [],
   "source": [
    "my_classifiers.keys()"
   ]
  },
  {
   "cell_type": "code",
   "execution_count": null,
   "metadata": {
    "colab": {
     "base_uri": "https://localhost:8080/"
    },
    "id": "mV-6mXSAkxiW",
    "outputId": "4f10c871-2636-43a6-8b1a-aeca64ed62aa"
   },
   "outputs": [],
   "source": [
    "my_classifiers.values()"
   ]
  },
  {
   "cell_type": "code",
   "execution_count": 42,
   "metadata": {
    "id": "NDi7iWYn9NWC"
   },
   "outputs": [],
   "source": [
    "from time import time\n",
    "from sklearn.metrics import (precision_score, recall_score, f1_score,\n",
    "                                              roc_auc_score, accuracy_score)"
   ]
  },
  {
   "cell_type": "code",
   "execution_count": 43,
   "metadata": {
    "id": "m-yqqcQTkg2O"
   },
   "outputs": [],
   "source": [
    "for model_name, model in my_classifiers.items():\n",
    "  start_timer = time()\n",
    "  model.fit(X_train, y_train)\n",
    "  end_model_timer = time()\n",
    "\n",
    "  y_pred = model.predict(X_test)\n",
    "  y_prob = model.predict_proba(X_test)\n",
    "\n",
    "  accuracy = accuracy_score(y_test, y_pred)\n",
    "  precision = precision_score(y_test, y_pred)\n",
    "  recall = recall_score(y_test, y_pred)\n",
    "  f1 = f1_score(y_test, y_pred)\n",
    "  train_time = end_model_timer - start_timer\n",
    "\n",
    "  model_results[\"Model\"].append(model_name)\n",
    "  model_results[\"Accuracy\"].append(accuracy)\n",
    "  model_results[\"Precision\"].append(precision)\n",
    "  model_results[\"Recall\"].append(recall)\n",
    "  model_results[\"F1 Score\"].append(f1)\n",
    "  model_results[\"Training Time (s)\"].append(train_time)\n",
    "  model_results[\"Predictions\"].append(y_pred)\n",
    "  model_results[\"Probabilities\"].append(y_prob)\n"
   ]
  },
  {
   "cell_type": "code",
   "execution_count": null,
   "metadata": {
    "colab": {
     "base_uri": "https://localhost:8080/"
    },
    "id": "RqJeq_kPn_tk",
    "outputId": "9aac24ba-bb3b-48ee-b310-facec552eb09"
   },
   "outputs": [],
   "source": [
    "model_results.keys()"
   ]
  },
  {
   "cell_type": "markdown",
   "metadata": {
    "id": "A7PHi3Flqhgx"
   },
   "source": [
    "### Create a copy of our evaluation dictionary"
   ]
  },
  {
   "cell_type": "code",
   "execution_count": null,
   "metadata": {
    "colab": {
     "base_uri": "https://localhost:8080/"
    },
    "id": "tRKzsDheqlt8",
    "outputId": "a731182c-e477-44ad-fcf1-bad0c3e380d2"
   },
   "outputs": [],
   "source": [
    "model_scores_summary = model_results.copy()\n",
    "model_scores_summary.pop('Predictions', None)\n",
    "model_scores_summary.pop('Probabilities', None)\n",
    "print(model_scores_summary)"
   ]
  },
  {
   "cell_type": "code",
   "execution_count": 46,
   "metadata": {
    "id": "_qJgt59KrQFg"
   },
   "outputs": [],
   "source": [
    "results_df = pd.DataFrame(model_scores_summary)"
   ]
  },
  {
   "cell_type": "code",
   "execution_count": null,
   "metadata": {
    "colab": {
     "base_uri": "https://localhost:8080/",
     "height": 269
    },
    "id": "xwDNxolqrVT-",
    "outputId": "592a6bd4-d49a-441b-ccc4-a22961901c92"
   },
   "outputs": [],
   "source": [
    "results_df"
   ]
  },
  {
   "cell_type": "markdown",
   "metadata": {
    "id": "mReLA_JSrzdw"
   },
   "source": [
    "### Visualise results"
   ]
  },
  {
   "cell_type": "code",
   "execution_count": 48,
   "metadata": {
    "id": "HOk3bLeNr1hL"
   },
   "outputs": [],
   "source": [
    "import matplotlib.pyplot as plt\n",
    "import numpy as np\n",
    "\n",
    "def multi_model_visualizer(results_df,\n",
    "                           metrics=[\"Accuracy\",\n",
    "                                    \"Precision\",\n",
    "                                    \"Recall\",\n",
    "                                    \"F1 Score\",\n",
    "                                    \"Training Time (s)\"\n",
    "                                    ],\n",
    "                           colors=[\"lightcoral\", \"cornflowerblue\",\n",
    "                                   \"mediumseagreen\", \"mediumpurple\", \"gold\"]):\n",
    "    colors = colors[:len(metrics)] + colors * (len(metrics) - len(colors))\n",
    "\n",
    "    fig, axes = plt.subplots(2, 3, figsize=(18, 10), sharex=True)\n",
    "    axes = axes.flatten()\n",
    "\n",
    "\n",
    "    for i, metric in enumerate(metrics):\n",
    "        bars = axes[i].barh(results_df[\"Model\"], results_df[metric], color=colors[i])\n",
    "        axes[i].set_title(f\"{metric} by Model\")\n",
    "        axes[i].set_xlabel(metric)\n",
    "        axes[i].invert_yaxis()  # Best-performing models appear at the top\n",
    "\n",
    "        for bar in bars:\n",
    "            width = bar.get_width()\n",
    "            axes[i].text(width - 0.05 * width, bar.get_y() + bar.get_height() / 2,\n",
    "                         f\"{width:.3f}\", ha=\"center\",\n",
    "                         va=\"center\", color=\"black\", fontsize=10\n",
    "                         )\n",
    "\n",
    "    if len(metrics) < 6:\n",
    "        for j in range(len(metrics), 6):\n",
    "            fig.delaxes(axes[j])\n",
    "\n",
    "    plt.tight_layout()\n",
    "    plt.show()\n"
   ]
  },
  {
   "cell_type": "markdown",
   "metadata": {
    "id": "5fIOn6pMuQh6"
   },
   "source": []
  },
  {
   "cell_type": "code",
   "execution_count": null,
   "metadata": {
    "colab": {
     "base_uri": "https://localhost:8080/",
     "height": 630
    },
    "id": "r5UmGLM5tGQ_",
    "outputId": "4581bb9c-bf8c-4f91-8982-7f3302efa51e"
   },
   "outputs": [],
   "source": [
    "multi_model_visualizer(results_df,\n",
    "                       colors=[\"#2b68a5\",\"#1af298\",\"mediumseagreen\", \"mediumpurple\", \"gold\"])"
   ]
  },
  {
   "cell_type": "markdown",
   "metadata": {
    "id": "h0So8dI0vvA1"
   },
   "source": [
    "### Select best model"
   ]
  },
  {
   "cell_type": "code",
   "execution_count": 50,
   "metadata": {
    "id": "MHm2J9esvzFG"
   },
   "outputs": [],
   "source": [
    "def get_best_models_by_metric(results_df, metrics):\n",
    "    best_models = {}\n",
    "    for metric in metrics:\n",
    "        best_model_index = results_df[metric].idxmax()\n",
    "        best_model_name = results_df.loc[best_model_index, \"Model\"]\n",
    "        best_models[metric] = best_model_name\n",
    "        print(f\"Best model based on {metric}: {best_model_name}\")\n",
    "    return best_models"
   ]
  },
  {
   "cell_type": "code",
   "execution_count": null,
   "metadata": {
    "colab": {
     "base_uri": "https://localhost:8080/"
    },
    "id": "ifkv0_gf7mg9",
    "outputId": "287d4d08-f063-4392-89c2-5bec3e31f9c8"
   },
   "outputs": [],
   "source": [
    "metric = ['Accuracy', 'Precision', 'Recall', 'F1 Score']\n",
    "best_models = get_best_models_by_metric(results_df, metric)"
   ]
  },
  {
   "cell_type": "code",
   "execution_count": 52,
   "metadata": {
    "id": "zQajt3RvxSMP"
   },
   "outputs": [],
   "source": [
    "from collections import Counter\n",
    "def find_modal_model(best_models):\n",
    "    model_counts = Counter(best_models.values())\n",
    "    modal_model = model_counts.most_common(1)[0][0]\n",
    "    print(f\"Modal (most frequently best) model across metrics: {modal_model}\")\n",
    "    return modal_model"
   ]
  },
  {
   "cell_type": "code",
   "execution_count": null,
   "metadata": {
    "colab": {
     "base_uri": "https://localhost:8080/"
    },
    "id": "fmJWOkwywIQs",
    "outputId": "8097af51-1aed-44df-b02b-dbf941e0394f"
   },
   "outputs": [],
   "source": [
    "modal_model = find_modal_model(best_models)"
   ]
  },
  {
   "cell_type": "markdown",
   "metadata": {
    "id": "lxJZUxun31RS"
   },
   "source": [
    "## K-Fold Cross Validation"
   ]
  },
  {
   "cell_type": "markdown",
   "metadata": {
    "id": "ai1DseDOEVbU"
   },
   "source": [
    "### Visualisation step"
   ]
  },
  {
   "cell_type": "code",
   "execution_count": 54,
   "metadata": {
    "id": "kHFhyQ8SAWzz"
   },
   "outputs": [],
   "source": [
    "import matplotlib.pyplot as plt\n",
    "\n",
    "def plot_kfold_cv(N=10000, K=5,\n",
    "                  val_color='#432f8e',\n",
    "                  train_color='#86277b',\n",
    "                  save_path=None\n",
    "                  ):\n",
    "\n",
    "    if not isinstance(N, int) or not isinstance(K, int):\n",
    "        raise TypeError(\"N and K must be integers.\")\n",
    "    if N <= 0 or K <= 0:\n",
    "        raise ValueError(\"N and K must be positive integers.\")\n",
    "    if K > N:\n",
    "        raise ValueError(\"K cannot be greater than N.\")\n",
    "\n",
    "    fold_sizes = [N // K] * K\n",
    "    for i in range(N % K):\n",
    "        fold_sizes[i] += 1\n",
    "\n",
    "    indices = list(range(N))\n",
    "    current = 0\n",
    "    fold_indices = []\n",
    "    for fold_size in fold_sizes:\n",
    "        fold_indices.append(indices[current:current + fold_size])\n",
    "        current += fold_size\n",
    "\n",
    "    # Create the plot\n",
    "    fig, ax = plt.subplots(figsize=(12, K))\n",
    "\n",
    "    for i in range(K):\n",
    "        y = K - i - 1\n",
    "        current = 0\n",
    "        for j, fold_size in enumerate(fold_sizes):\n",
    "            if j == i:\n",
    "                color = val_color\n",
    "            else:\n",
    "                color = train_color\n",
    "            rect = plt.Rectangle((current, y), fold_size, 0.8, facecolor=color, edgecolor='black')\n",
    "            ax.add_patch(rect)\n",
    "            current += fold_size\n",
    "        ax.text(-5, y + 0.4, f'Fold {i + 1}', va='center', ha='right')\n",
    "\n",
    "    ax.set_xlim(0, N)\n",
    "    ax.set_ylim(-0.5, K + 0.5)\n",
    "    ax.set_yticks([])\n",
    "    ax.set_xlabel('Sample Index')\n",
    "    ax.set_title(f'K-Fold Cross Validation Visualization (K={K})')\n",
    "    plt.tight_layout()\n",
    "\n",
    "    if save_path is not None:\n",
    "        plt.savefig(save_path)\n",
    "    else:\n",
    "      plt.show()\n",
    "\n",
    "\n"
   ]
  },
  {
   "cell_type": "code",
   "execution_count": null,
   "metadata": {
    "colab": {
     "base_uri": "https://localhost:8080/",
     "height": 471
    },
    "id": "71R99ErzLME5",
    "outputId": "c0543ae1-4dce-4bce-a88a-fb4ebaa93b48"
   },
   "outputs": [],
   "source": [
    "plot_kfold_cv(K=5)"
   ]
  },
  {
   "cell_type": "code",
   "execution_count": 56,
   "metadata": {
    "id": "UC7PgeOhVApZ"
   },
   "outputs": [],
   "source": [
    "from sklearn.model_selection import train_test_split, KFold"
   ]
  },
  {
   "cell_type": "code",
   "execution_count": 57,
   "metadata": {
    "id": "gU1QHs0WdRvn"
   },
   "outputs": [],
   "source": [
    "X = X.values if isinstance(X, pd.DataFrame) else X\n",
    "y = y.values if isinstance(y, pd.Series) else y\n",
    "y = y.ravel()"
   ]
  },
  {
   "cell_type": "code",
   "execution_count": 58,
   "metadata": {
    "id": "Yuvs9WyY34PB"
   },
   "outputs": [],
   "source": [
    "model = LogisticRegression(max_iter=1000)"
   ]
  },
  {
   "cell_type": "code",
   "execution_count": 59,
   "metadata": {
    "id": "TU6tsA_Ag_NL"
   },
   "outputs": [],
   "source": [
    "K_FOLD = 5"
   ]
  },
  {
   "cell_type": "code",
   "execution_count": 60,
   "metadata": {
    "id": "osDKwqFMU65L"
   },
   "outputs": [],
   "source": [
    "k_fold = KFold(n_splits=K_FOLD, shuffle=True, random_state=42)"
   ]
  },
  {
   "cell_type": "code",
   "execution_count": 61,
   "metadata": {
    "id": "cXDn6UGEW-Q2"
   },
   "outputs": [],
   "source": [
    "fold_metrics = []"
   ]
  },
  {
   "cell_type": "code",
   "execution_count": null,
   "metadata": {
    "colab": {
     "base_uri": "https://localhost:8080/"
    },
    "id": "aX76LtLnXBZK",
    "outputId": "69aa2f17-8bb3-432c-a312-fda94f0dd8d7"
   },
   "outputs": [],
   "source": [
    "%%time\n",
    "from sklearn.metrics import precision_score, recall_score, f1_score, accuracy_score\n",
    "\n",
    "for fold, (train_idx, test_idx) in enumerate(k_fold.split(X)):\n",
    "  X_train, X_test = X[train_idx], X[test_idx]\n",
    "  y_train, y_test = y[train_idx], y[test_idx]\n",
    "\n",
    "  model.fit(X_train, y_train)\n",
    "  y_pred = model.predict(X_test)\n",
    "  y_proba = model.predict_proba(X_test)\n",
    "\n",
    "  accuracy = accuracy_score(y_test, y_pred)\n",
    "  precision = precision_score(y_test, y_pred)\n",
    "  recall = recall_score(y_test, y_pred)\n",
    "  f1 = f1_score(y_test, y_pred)\n",
    "\n",
    "  fold_metrics.append({\n",
    "      'fold': fold + 1,\n",
    "      'accuracy_fold': accuracy,\n",
    "      'precision_fold': precision,\n",
    "      'recall_fold': recall,\n",
    "      'f1_fold': f1,\n",
    "  })"
   ]
  },
  {
   "cell_type": "code",
   "execution_count": 63,
   "metadata": {
    "id": "fMmjG1Yieybo"
   },
   "outputs": [],
   "source": [
    "fold_eval_df = pd.DataFrame(fold_metrics)"
   ]
  },
  {
   "cell_type": "code",
   "execution_count": null,
   "metadata": {
    "colab": {
     "base_uri": "https://localhost:8080/",
     "height": 206
    },
    "id": "5s3lTUOlfQCL",
    "outputId": "2f6dcaba-26c4-42ef-85f2-e05c58be1c4e"
   },
   "outputs": [],
   "source": [
    "fold_eval_df"
   ]
  },
  {
   "cell_type": "markdown",
   "metadata": {
    "id": "1Jlv06akgJpi"
   },
   "source": [
    "### Visualise fold"
   ]
  },
  {
   "cell_type": "code",
   "execution_count": 65,
   "metadata": {
    "id": "_LQ7Wps4gjPO"
   },
   "outputs": [],
   "source": [
    "metrics = ['accuracy_fold', 'precision_fold', 'recall_fold', 'f1_fold']"
   ]
  },
  {
   "cell_type": "code",
   "execution_count": null,
   "metadata": {
    "colab": {
     "base_uri": "https://localhost:8080/"
    },
    "id": "CIv7i4VDiIWs",
    "outputId": "360447d3-908a-4501-e52c-4a94a33bf4d3"
   },
   "outputs": [],
   "source": [
    "import random\n",
    "def generate_random_hex_color():\n",
    "    return \"#{:06x}\".format(random.randint(0, 0xFFFFFF))\n",
    "\n",
    "chart_colors = [generate_random_hex_color() for _ in range(len(metrics))]\n",
    "chart_colors"
   ]
  },
  {
   "cell_type": "code",
   "execution_count": null,
   "metadata": {
    "colab": {
     "base_uri": "https://localhost:8080/",
     "height": 753
    },
    "id": "KFXSXP5fgmVO",
    "outputId": "6be321c1-1298-4efd-ea1a-9280a871d35d"
   },
   "outputs": [],
   "source": [
    "fig, axes = plt.subplots(2, 2, figsize=(15, 10), sharey=True)\n",
    "axes = axes.flatten()\n",
    "\n",
    "for i, metric in enumerate(metrics):\n",
    "    axes[i].bar(fold_eval_df[\"fold\"], fold_eval_df[metric], color=chart_colors[i], alpha=0.6, label=metric)\n",
    "    axes[i].plot(fold_eval_df[\"fold\"], fold_eval_df[metric], marker=\"o\", color='black', linestyle=\"--\", linewidth=1, markersize=6, label=f\"{metric} Points\")\n",
    "    axes[i].set_title(f\"{metric} across {K_FOLD} folds\")\n",
    "    axes[i].set_xlabel(\"Fold\")\n",
    "    axes[i].set_ylabel(metric)\n",
    "    axes[i].legend()\n",
    "\n",
    "plt.tight_layout()\n",
    "plt.show()"
   ]
  },
  {
   "cell_type": "markdown",
   "metadata": {
    "id": "zkZl2v_MkPlc"
   },
   "source": [
    "## A quicker way to get these folds"
   ]
  },
  {
   "cell_type": "code",
   "execution_count": null,
   "metadata": {
    "colab": {
     "base_uri": "https://localhost:8080/"
    },
    "id": "Xa7rTUYOkSyr",
    "outputId": "b94dd398-9df1-462f-fb1e-dc3342d36eb2"
   },
   "outputs": [],
   "source": [
    "from sklearn.model_selection import cross_val_score\n",
    "scores = cross_val_score(model, X, y, cv=k_fold, scoring='recall')\n",
    "print(\"Individual fold accuracies:\", scores)\n",
    "print(\"Mean recall:\", scores.mean())"
   ]
  },
  {
   "cell_type": "code",
   "execution_count": null,
   "metadata": {
    "colab": {
     "base_uri": "https://localhost:8080/"
    },
    "id": "7bQSvUp3gw1j",
    "outputId": "23e6122d-0c85-4056-d36a-6f84018e901c"
   },
   "outputs": [],
   "source": [
    "scores_across = ['recall', 'precision']\n",
    "\n",
    "for score_name in scores_across:\n",
    "  scores = cross_val_score(model, X, y, cv=k_fold, scoring=score_name)\n",
    "  print(f\"Mean {score_name}:\", scores.mean())"
   ]
  }
 ],
 "metadata": {
  "colab": {
   "provenance": []
  },
  "kernelspec": {
   "display_name": "scikit-learn",
   "language": "python",
   "name": "python3"
  },
  "language_info": {
   "codemirror_mode": {
    "name": "ipython",
    "version": 3
   },
   "file_extension": ".py",
   "mimetype": "text/x-python",
   "name": "python",
   "nbconvert_exporter": "python",
   "pygments_lexer": "ipython3",
   "version": "3.10.15"
  }
 },
 "nbformat": 4,
 "nbformat_minor": 0
}
