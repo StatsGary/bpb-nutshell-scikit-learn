{
 "cells": [
  {
   "cell_type": "markdown",
   "metadata": {
    "id": "ReXmC9_eA-ce"
   },
   "source": [
    "# Creating practice ML data"
   ]
  },
  {
   "cell_type": "code",
   "execution_count": null,
   "metadata": {
    "colab": {
     "base_uri": "https://localhost:8080/"
    },
    "id": "gzHDVcgBA2L5",
    "outputId": "f5209b13-8d46-4f9f-c45c-78bfb916b994"
   },
   "outputs": [],
   "source": [
    "!pip install scikit-learn"
   ]
  },
  {
   "cell_type": "markdown",
   "metadata": {
    "id": "C4TmswxIBeeb"
   },
   "source": [
    "## Creating a Regression Dataset"
   ]
  },
  {
   "cell_type": "code",
   "execution_count": null,
   "metadata": {
    "id": "mTLQhDFSBhW6"
   },
   "outputs": [],
   "source": [
    "from sklearn.datasets import make_regression\n",
    "import matplotlib.pyplot as plt\n"
   ]
  },
  {
   "cell_type": "code",
   "execution_count": null,
   "metadata": {
    "id": "NLMtAMzDBj-H"
   },
   "outputs": [],
   "source": [
    "X, y = make_regression(n_samples=100,\n",
    "                       n_features=1,\n",
    "                       noise=10,\n",
    "                       random_state=42)"
   ]
  },
  {
   "cell_type": "code",
   "execution_count": null,
   "metadata": {
    "colab": {
     "base_uri": "https://localhost:8080/",
     "height": 472
    },
    "id": "07LgaabTBrWq",
    "outputId": "41dfbad4-99b1-410e-9334-7e2b2ac2d2cc"
   },
   "outputs": [],
   "source": [
    "plt.scatter(X, y, color=\"blue\")\n",
    "plt.title(\"Created Regression Dataset\")\n",
    "plt.xlabel(\"Feature\")\n",
    "plt.ylabel(\"Target\")\n",
    "plt.show()"
   ]
  },
  {
   "cell_type": "markdown",
   "metadata": {
    "id": "cCHYoI-fCCWN"
   },
   "source": [
    "## Creating a Classification Dataset with `Blobs`"
   ]
  },
  {
   "cell_type": "code",
   "execution_count": null,
   "metadata": {
    "id": "RAILGxnECJIo"
   },
   "outputs": [],
   "source": [
    "from sklearn.datasets import make_blobs"
   ]
  },
  {
   "cell_type": "code",
   "execution_count": null,
   "metadata": {
    "id": "i_gJXmBvCNwe"
   },
   "outputs": [],
   "source": [
    "X, y = make_blobs(n_samples=200,\n",
    "                  centers=2,\n",
    "                  cluster_std=1.5,\n",
    "                  n_features=2, random_state=42)"
   ]
  },
  {
   "cell_type": "code",
   "execution_count": null,
   "metadata": {
    "colab": {
     "base_uri": "https://localhost:8080/",
     "height": 472
    },
    "id": "ThnoPhDHCdov",
    "outputId": "f11b7223-71e5-4bea-a9fc-4facc4685ca2"
   },
   "outputs": [],
   "source": [
    "# Plot the dataset\n",
    "plt.scatter(X[:, 0], X[:, 1], c=y, cmap=\"Blues\", marker=\"o\", edgecolor=\"k\", s=50)\n",
    "plt.title(\"Created Classification Dataset (Blobs)\")\n",
    "plt.xlabel(\"Some Feature\")\n",
    "plt.ylabel(\"Some other feature\")\n",
    "plt.show()"
   ]
  },
  {
   "cell_type": "markdown",
   "metadata": {
    "id": "_jjj9l4uCmXK"
   },
   "source": [
    "## Creating an Unsupervised Dataset for Clustering"
   ]
  },
  {
   "cell_type": "code",
   "execution_count": null,
   "metadata": {
    "id": "Gsbz3PRECqCx"
   },
   "outputs": [],
   "source": [
    "from sklearn.datasets import make_blobs\n",
    "X, _ = make_blobs(n_samples=300,\n",
    "                  centers=4,\n",
    "                  cluster_std=1.0,\n",
    "                  random_state=42)"
   ]
  },
  {
   "cell_type": "code",
   "execution_count": null,
   "metadata": {
    "colab": {
     "base_uri": "https://localhost:8080/",
     "height": 472
    },
    "id": "53GAm9lQDMDN",
    "outputId": "9e1dccd2-fabc-45f1-e258-0646ded44290"
   },
   "outputs": [],
   "source": [
    "plt.scatter(X[:, 0], X[:, 1], color=\"black\", marker=\"o\", s=50, alpha=0.6)\n",
    "plt.title(\"Created Unsupervised Dataset for Clustering\")\n",
    "plt.xlabel(\"Feature 1\")\n",
    "plt.ylabel(\"Feature 2\")\n",
    "plt.show()\n"
   ]
  }
 ],
 "metadata": {
  "colab": {
   "provenance": []
  },
  "kernelspec": {
   "display_name": "Python 3",
   "name": "python3"
  },
  "language_info": {
   "name": "python"
  }
 },
 "nbformat": 4,
 "nbformat_minor": 0
}
