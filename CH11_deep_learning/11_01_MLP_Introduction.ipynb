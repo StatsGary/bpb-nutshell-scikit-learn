{
 "cells": [
  {
   "cell_type": "markdown",
   "id": "eb2b3de2",
   "metadata": {},
   "source": [
    "# Introduction to Deep Learning and a Multi-Layer Perceptron"
   ]
  },
  {
   "cell_type": "code",
   "execution_count": null,
   "id": "050884db",
   "metadata": {},
   "outputs": [],
   "source": [
    "#!pip install -r requirements.txt "
   ]
  },
  {
   "cell_type": "code",
   "execution_count": null,
   "id": "949ff8fc",
   "metadata": {},
   "outputs": [],
   "source": [
    "from modelviz.deep_learning import draw_mlp"
   ]
  },
  {
   "cell_type": "markdown",
   "id": "dc2d1151",
   "metadata": {},
   "source": [
    "## Shallow MLP"
   ]
  },
  {
   "cell_type": "code",
   "execution_count": null,
   "id": "b0d11b29",
   "metadata": {},
   "outputs": [],
   "source": [
    "draw_mlp(layer_sizes=[3,8,1],\n",
    "         weight_fontsize=8,\n",
    "         neuron_radius=0.35)"
   ]
  },
  {
   "cell_type": "markdown",
   "id": "84d18891",
   "metadata": {},
   "source": [
    "## Deep MLP"
   ]
  },
  {
   "cell_type": "code",
   "execution_count": null,
   "id": "7066c270",
   "metadata": {},
   "outputs": [],
   "source": [
    "draw_mlp(layer_sizes=[2,4, 8,1], \n",
    "         neuron_radius=0.35,\n",
    "         weight_fontsize=8)"
   ]
  }
 ],
 "metadata": {
  "kernelspec": {
   "display_name": "sklearn-book-py-12-env",
   "language": "python",
   "name": "python3"
  },
  "language_info": {
   "codemirror_mode": {
    "name": "ipython",
    "version": 3
   },
   "file_extension": ".py",
   "mimetype": "text/x-python",
   "name": "python",
   "nbconvert_exporter": "python",
   "pygments_lexer": "ipython3",
   "version": "3.12.9"
  }
 },
 "nbformat": 4,
 "nbformat_minor": 5
}
