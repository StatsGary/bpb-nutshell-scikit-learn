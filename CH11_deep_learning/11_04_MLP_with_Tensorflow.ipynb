{
 "cells": [
  {
   "cell_type": "markdown",
   "id": "9ff058db",
   "metadata": {},
   "source": [
    "# Multi-layer perceptron (Deep Learning) with Keras / Tensorflow"
   ]
  },
  {
   "cell_type": "markdown",
   "id": "c41f7e08",
   "metadata": {},
   "source": [
    "Please note - Tensorflow and PyTorch should not be imported together into your virtual environment, as they are known to be incompatible, due to using similar CUDA drivers. Always create a new virtual environment. "
   ]
  },
  {
   "cell_type": "code",
   "execution_count": null,
   "id": "3a77c70a",
   "metadata": {},
   "outputs": [],
   "source": [
    "#!pip install tensorflow pandas scikit-learn modelviz"
   ]
  },
  {
   "cell_type": "code",
   "execution_count": null,
   "id": "e4766957",
   "metadata": {},
   "outputs": [],
   "source": [
    "from sklearn.model_selection import train_test_split\n",
    "from sklearn.preprocessing import StandardScaler\n",
    "from deep_learn.metrics import compute_metrics\n",
    "import pandas as pd\n",
    "from modelviz.confusion_matrix import plot_confusion_matrix"
   ]
  },
  {
   "cell_type": "markdown",
   "id": "49a08b2f",
   "metadata": {},
   "source": [
    "## Load in data"
   ]
  },
  {
   "cell_type": "code",
   "execution_count": null,
   "id": "a5a385c3",
   "metadata": {},
   "outputs": [],
   "source": [
    "mlp_data = pd.read_csv('data/synthetic_income_data.csv', \n",
    "                       index_col=None)"
   ]
  },
  {
   "cell_type": "code",
   "execution_count": null,
   "id": "8b29bba1",
   "metadata": {},
   "outputs": [],
   "source": [
    "X = mlp_data.drop(columns=['income'])\n",
    "y = mlp_data['income']"
   ]
  },
  {
   "cell_type": "markdown",
   "id": "aa49379d",
   "metadata": {},
   "source": [
    "## Prepare train and test set splits"
   ]
  },
  {
   "cell_type": "code",
   "execution_count": null,
   "id": "25e93721",
   "metadata": {},
   "outputs": [],
   "source": [
    "from sklearn.model_selection import train_test_split\n",
    "\n",
    "RANDOM_SEED = 42\n",
    "# Create train and test splits\n",
    "X_temp, X_test, y_temp, y_test = train_test_split(\n",
    "    X, y, test_size=0.1, random_state=RANDOM_SEED\n",
    ")\n",
    "# Create train and validation splits\n",
    "X_train, X_val, y_train, y_val = train_test_split(\n",
    "    X_temp, y_temp, test_size=1/9, random_state=RANDOM_SEED\n",
    ")\n"
   ]
  },
  {
   "cell_type": "markdown",
   "id": "bef24c2b",
   "metadata": {},
   "source": [
    "## Scale the data"
   ]
  },
  {
   "cell_type": "code",
   "execution_count": null,
   "id": "e7b03bdb",
   "metadata": {},
   "outputs": [],
   "source": [
    "scaler = StandardScaler()\n",
    "X_train_scaled = scaler.fit_transform(X_train)\n",
    "X_test_scaled = scaler.transform(X_test)\n",
    "X_val_scaled = scaler.transform(X_val)"
   ]
  },
  {
   "cell_type": "markdown",
   "id": "6f60bec4",
   "metadata": {},
   "source": [
    "## Define Tensorflow Model"
   ]
  },
  {
   "cell_type": "code",
   "execution_count": null,
   "id": "c202c704",
   "metadata": {},
   "outputs": [],
   "source": [
    "import tensorflow as tf\n",
    "from tensorflow.keras.models import Sequential\n",
    "from tensorflow.keras.layers import Dense, Dropout\n",
    "from tensorflow.keras.callbacks import ModelCheckpoint, EarlyStopping\n",
    "from tensorflow.keras import Input"
   ]
  },
  {
   "cell_type": "code",
   "execution_count": null,
   "id": "60cb30e6",
   "metadata": {},
   "outputs": [],
   "source": [
    "model = Sequential([\n",
    "    Input(shape=(X_train_scaled.shape[1],)),\n",
    "    Dense(64, activation='relu'),\n",
    "    Dropout(0.3),\n",
    "    Dense(32, activation='relu'),\n",
    "    Dropout(0.2),\n",
    "    Dense(1)  \n",
    "])"
   ]
  },
  {
   "cell_type": "markdown",
   "id": "b8167053",
   "metadata": {},
   "source": [
    "## Compile the model"
   ]
  },
  {
   "cell_type": "code",
   "execution_count": null,
   "id": "5ed84aed",
   "metadata": {},
   "outputs": [],
   "source": [
    "model.compile(\n",
    "    optimizer='adam',\n",
    "    loss='mean_squared_error',\n",
    "    metrics=['mean_squared_error'])"
   ]
  },
  {
   "cell_type": "markdown",
   "id": "5be01952",
   "metadata": {},
   "source": [
    "## Add Early stopping"
   ]
  },
  {
   "cell_type": "code",
   "execution_count": null,
   "id": "4b253651",
   "metadata": {},
   "outputs": [],
   "source": [
    "early_stop = EarlyStopping(\n",
    "    monitor='val_loss',\n",
    "    patience=5,\n",
    "    restore_best_weights=True)"
   ]
  },
  {
   "cell_type": "markdown",
   "id": "bcdbf9a7",
   "metadata": {},
   "source": [
    "## Add model checkpointing"
   ]
  },
  {
   "cell_type": "code",
   "execution_count": null,
   "id": "38cfbef3",
   "metadata": {},
   "outputs": [],
   "source": [
    "checkpoint_path = \"models/keras_best_model.keras\"\n",
    "checkpoint_cb = ModelCheckpoint(\n",
    "    filepath=checkpoint_path,\n",
    "    monitor='val_loss',\n",
    "    save_best_only=True,\n",
    "    save_weights_only=False,  \n",
    "    verbose=1)"
   ]
  },
  {
   "cell_type": "markdown",
   "id": "43c9caae",
   "metadata": {},
   "source": [
    "## Fit the model"
   ]
  },
  {
   "cell_type": "code",
   "execution_count": null,
   "id": "3918b4e9",
   "metadata": {},
   "outputs": [],
   "source": [
    "history = model.fit(\n",
    "    X_train_scaled, y_train,\n",
    "    validation_data=(X_val_scaled, y_val),\n",
    "    epochs=100,\n",
    "    batch_size=32,\n",
    "    callbacks=[early_stop, checkpoint_cb],  \n",
    "    verbose=1)\n"
   ]
  },
  {
   "cell_type": "markdown",
   "id": "3c8170ed",
   "metadata": {},
   "source": [
    "## Evaluation process"
   ]
  },
  {
   "cell_type": "code",
   "execution_count": null,
   "id": "91da75f2",
   "metadata": {},
   "outputs": [],
   "source": [
    "from tensorflow.keras.models import load_model\n",
    "best_model = load_model(\"models/keras_best_model.keras\")"
   ]
  },
  {
   "cell_type": "code",
   "execution_count": null,
   "id": "83e1729d",
   "metadata": {},
   "outputs": [],
   "source": [
    "# Predict on test data\n",
    "y_pred = best_model.predict(X_test_scaled).flatten()"
   ]
  },
  {
   "cell_type": "code",
   "execution_count": null,
   "id": "385bb6e6",
   "metadata": {},
   "outputs": [],
   "source": [
    "compute_metrics(y_test, y_pred)"
   ]
  },
  {
   "cell_type": "markdown",
   "id": "04c174d4",
   "metadata": {},
   "source": [
    "## Visualize evaluation metrics"
   ]
  },
  {
   "cell_type": "code",
   "execution_count": null,
   "id": "c8d0b004",
   "metadata": {},
   "outputs": [],
   "source": [
    "from modelviz.regression import regression_diagnostics_panel\n",
    "\n",
    "regression_diagnostics_panel(\n",
    "    y_test=y_test,\n",
    "    y_pred=y_pred,\n",
    "    qq_line_color='grey', qq_point_color='black'\n",
    ")"
   ]
  }
 ],
 "metadata": {
  "kernelspec": {
   "display_name": "Tensorflow",
   "language": "python",
   "name": "python3"
  },
  "language_info": {
   "codemirror_mode": {
    "name": "ipython",
    "version": 3
   },
   "file_extension": ".py",
   "mimetype": "text/x-python",
   "name": "python",
   "nbconvert_exporter": "python",
   "pygments_lexer": "ipython3",
   "version": "3.12.9"
  }
 },
 "nbformat": 4,
 "nbformat_minor": 5
}
