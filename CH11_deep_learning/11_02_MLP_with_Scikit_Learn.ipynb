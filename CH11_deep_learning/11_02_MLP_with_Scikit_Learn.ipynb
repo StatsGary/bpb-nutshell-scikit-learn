{
 "cells": [
  {
   "cell_type": "markdown",
   "id": "b798d810",
   "metadata": {},
   "source": [
    "# Multi-layer perceptron (Deep Learning) with Sci-Kit Learn"
   ]
  },
  {
   "cell_type": "code",
   "execution_count": null,
   "id": "44850152",
   "metadata": {},
   "outputs": [],
   "source": [
    "from sklearn.model_selection import train_test_split\n",
    "from deep_learn.metrics import compute_metrics\n",
    "import pandas as pd"
   ]
  },
  {
   "cell_type": "markdown",
   "id": "da52f0e8",
   "metadata": {},
   "source": [
    "## Load in data"
   ]
  },
  {
   "cell_type": "code",
   "execution_count": null,
   "id": "556045a1",
   "metadata": {},
   "outputs": [],
   "source": [
    "mlp_data = pd.read_csv('data/synthetic_income_data.csv', \n",
    "                       index_col=None)"
   ]
  },
  {
   "cell_type": "code",
   "execution_count": null,
   "id": "f366194a",
   "metadata": {},
   "outputs": [],
   "source": [
    "from deep_learn.styler import style_dataframe as sdf"
   ]
  },
  {
   "cell_type": "code",
   "execution_count": null,
   "id": "3e5dd48e",
   "metadata": {},
   "outputs": [],
   "source": [
    "sdf(mlp_data.head())"
   ]
  },
  {
   "cell_type": "code",
   "execution_count": null,
   "id": "f53e9e99",
   "metadata": {},
   "outputs": [],
   "source": [
    "X = mlp_data.drop(columns=['income'])\n",
    "y = mlp_data['income']"
   ]
  },
  {
   "cell_type": "markdown",
   "id": "efa1ca60",
   "metadata": {},
   "source": [
    "## Prepare train and test set splits"
   ]
  },
  {
   "cell_type": "code",
   "execution_count": null,
   "id": "9b01276d",
   "metadata": {},
   "outputs": [],
   "source": [
    "RANDOM_SEED = 42\n",
    "SPLIT_RATIO = 0.2\n",
    "(X_train, X_test, \n",
    "y_train, y_test) = train_test_split(X, y, \n",
    "                                    test_size=SPLIT_RATIO, \n",
    "                                    random_state=RANDOM_SEED)"
   ]
  },
  {
   "cell_type": "markdown",
   "id": "80771e22",
   "metadata": {},
   "source": [
    "## Scale the data"
   ]
  },
  {
   "cell_type": "code",
   "execution_count": null,
   "id": "c6205c89",
   "metadata": {},
   "outputs": [],
   "source": [
    "from sklearn.preprocessing import StandardScaler\n",
    "scaler = StandardScaler()\n",
    "X_train_scaled = scaler.fit_transform(X_train)\n",
    "X_test_scaled = scaler.transform(X_test)"
   ]
  },
  {
   "cell_type": "markdown",
   "id": "42cc0319",
   "metadata": {},
   "source": [
    "## Build `MLPRegressor`"
   ]
  },
  {
   "cell_type": "code",
   "execution_count": null,
   "id": "e198bf90",
   "metadata": {},
   "outputs": [],
   "source": [
    "from sklearn.neural_network import MLPRegressor # MLPClassifier for classification"
   ]
  },
  {
   "cell_type": "code",
   "execution_count": null,
   "id": "d2072e85",
   "metadata": {},
   "outputs": [],
   "source": [
    "help(MLPRegressor)"
   ]
  },
  {
   "cell_type": "code",
   "execution_count": null,
   "id": "9a44944e",
   "metadata": {},
   "outputs": [],
   "source": [
    "mlp_sklearn = MLPRegressor(\n",
    "    hidden_layer_sizes=(64, 32),\n",
    "    activation='relu',\n",
    "    solver='adam',\n",
    "    alpha=0.0001,\n",
    "    learning_rate_init=0.001,\n",
    "    max_iter=500,\n",
    "    shuffle=True,\n",
    "    random_state=RANDOM_SEED,\n",
    "    verbose=True\n",
    ")"
   ]
  },
  {
   "cell_type": "code",
   "execution_count": null,
   "id": "aafa8976",
   "metadata": {},
   "outputs": [],
   "source": [
    "mlp_sklearn.fit(X_train_scaled, y_train)"
   ]
  },
  {
   "cell_type": "code",
   "execution_count": null,
   "id": "606aba9d",
   "metadata": {},
   "outputs": [],
   "source": [
    "preds = mlp_sklearn.predict(X_test_scaled)"
   ]
  },
  {
   "cell_type": "code",
   "execution_count": null,
   "id": "725f2c85",
   "metadata": {},
   "outputs": [],
   "source": [
    "print(preds, y_test)"
   ]
  },
  {
   "cell_type": "code",
   "execution_count": null,
   "id": "a8c77bb9",
   "metadata": {},
   "outputs": [],
   "source": [
    "compute_metrics(y_test, preds)"
   ]
  },
  {
   "cell_type": "markdown",
   "id": "200a83aa",
   "metadata": {},
   "source": [
    "## Hyperparameter tune our model for better performance"
   ]
  },
  {
   "cell_type": "code",
   "execution_count": null,
   "id": "9d2a1996",
   "metadata": {},
   "outputs": [],
   "source": [
    "from sklearn.metrics import make_scorer\n",
    "def mse(y_true, y_pred):\n",
    "    return ((y_true - y_pred) ** 2).mean()"
   ]
  },
  {
   "cell_type": "code",
   "execution_count": null,
   "id": "04b39163",
   "metadata": {},
   "outputs": [],
   "source": [
    "mse_scorer = make_scorer(mse, \n",
    "                          greater_is_better=False)"
   ]
  },
  {
   "cell_type": "code",
   "execution_count": null,
   "id": "2784f5de",
   "metadata": {},
   "outputs": [],
   "source": [
    "param_grid = {\n",
    "    'hidden_layer_sizes': [(64, 32), (128, 64), (64, 64)],\n",
    "    'alpha': [0.0001, 0.001, 0.01], \n",
    "    'learning_rate_init': [0.001, 0.01],\n",
    "    'activation': ['relu', 'tanh']\n",
    "}"
   ]
  },
  {
   "cell_type": "code",
   "execution_count": null,
   "id": "cda1ff9b",
   "metadata": {},
   "outputs": [],
   "source": [
    "from sklearn.model_selection import GridSearchCV\n",
    "grid = GridSearchCV(\n",
    "    estimator=MLPRegressor(\n",
    "        solver='adam',\n",
    "        max_iter=500,\n",
    "        shuffle=True,\n",
    "        random_state=RANDOM_SEED,\n",
    "        verbose=False\n",
    "    ),\n",
    "    param_grid=param_grid,\n",
    "    scoring=mse_scorer,\n",
    "    cv=3,\n",
    "    n_jobs=-1\n",
    ")"
   ]
  },
  {
   "cell_type": "code",
   "execution_count": null,
   "id": "776f05c9",
   "metadata": {},
   "outputs": [],
   "source": [
    "grid.fit(X_train, y_train)"
   ]
  },
  {
   "cell_type": "markdown",
   "id": "3c02b0d6",
   "metadata": {},
   "source": [
    "## Get the best model parameters"
   ]
  },
  {
   "cell_type": "code",
   "execution_count": null,
   "id": "3963cac2",
   "metadata": {},
   "outputs": [],
   "source": [
    "import numpy as np\n",
    "print(\"Best Params:\", grid.best_params_)\n",
    "print(\"Best Score (MSE):\",grid.best_score_)"
   ]
  },
  {
   "cell_type": "code",
   "execution_count": null,
   "id": "5e9fe8f8",
   "metadata": {},
   "outputs": [],
   "source": [
    "best_model = grid.best_estimator_\n",
    "preds = best_model.predict(X_test)"
   ]
  },
  {
   "cell_type": "code",
   "execution_count": null,
   "id": "19b335f9",
   "metadata": {},
   "outputs": [],
   "source": [
    "compute_metrics(y_test, preds)"
   ]
  },
  {
   "cell_type": "markdown",
   "id": "066ebe1d",
   "metadata": {},
   "source": [
    "## Save best model"
   ]
  },
  {
   "cell_type": "code",
   "execution_count": null,
   "id": "e58fff76",
   "metadata": {},
   "outputs": [],
   "source": [
    "import joblib\n",
    "import os\n",
    "model_dir = 'models'\n",
    "os.makedirs(model_dir, exist_ok=True)\n",
    "joblib.dump(best_model, os.path.join(model_dir, \n",
    "                                     'mlp_sklearn_best_model.joblib'))\n"
   ]
  },
  {
   "cell_type": "markdown",
   "id": "e5d4d185",
   "metadata": {},
   "source": [
    "## Visualize performance"
   ]
  },
  {
   "cell_type": "code",
   "execution_count": null,
   "id": "72cf1713",
   "metadata": {},
   "outputs": [],
   "source": [
    "import matplotlib.pyplot as plt\n",
    "def actual_vs_predicted_plot(y_test, y_pred, \n",
    "                             figsize=(6, 6), alpha=0.5,\n",
    "                             point_col='grey', line_col='black',\n",
    "                             x_label='Actual', y_label='Predicted', \n",
    "                             title='Actual vs. Predicted', show_grid=True,\n",
    "                             line_style='--', line_width=1):\n",
    "    plt.figure(figsize=figsize)\n",
    "    plt.scatter(y_test, y_pred, alpha=alpha, color=point_col)\n",
    "    plt.plot([y_test.min(), y_test.max()], [y_test.min(), y_test.max()], \n",
    "             color=line_col, linestyle=line_style, lw=line_width) \n",
    "    plt.xlabel(x_label)\n",
    "    plt.ylabel(y_label)\n",
    "    plt.title(title)\n",
    "    plt.grid(show_grid)\n",
    "    plt.show()"
   ]
  },
  {
   "cell_type": "code",
   "execution_count": null,
   "id": "69218e94",
   "metadata": {},
   "outputs": [],
   "source": [
    "actual_vs_predicted_plot(y_test, preds)"
   ]
  },
  {
   "cell_type": "code",
   "execution_count": null,
   "id": "5e73c0bf",
   "metadata": {},
   "outputs": [],
   "source": [
    "def dist_of_residuals(y_test, y_pred, \n",
    "                      figsize=(6, 6), alpha=0.7,\n",
    "                      bins=30, hist_col='grey', edge_col='black',\n",
    "                      line_col='black', line_width=1, line_style='--',\n",
    "                      x_label='Residuals', y_label='Frequency',\n",
    "                      title='Distribution of Residuals', \n",
    "                      show_grid=True):\n",
    "    global residuals\n",
    "    residuals = y_test - y_pred\n",
    "    plt.figure(figsize=figsize)\n",
    "    plt.hist(residuals, bins=bins, alpha=alpha, color=hist_col, edgecolor=edge_col)\n",
    "    plt.axvline(x=0, color=line_col, linestyle=line_style, lw=line_width)\n",
    "    plt.xlabel(x_label)\n",
    "    plt.ylabel(y_label)\n",
    "    plt.title(title)\n",
    "    plt.grid(show_grid)\n",
    "    plt.show()"
   ]
  },
  {
   "cell_type": "code",
   "execution_count": null,
   "id": "064342f0",
   "metadata": {},
   "outputs": [],
   "source": [
    "dist_of_residuals(y_test, preds, line_width=2)"
   ]
  },
  {
   "cell_type": "code",
   "execution_count": null,
   "id": "c50c20dd",
   "metadata": {},
   "outputs": [],
   "source": [
    "import scipy.stats as stats\n",
    "import matplotlib.pyplot as plt\n",
    "\n",
    "def qq_plot(residuals, figsize=(6, 6), \n",
    "            line_color='red', point_color='blue', \n",
    "            line_style='-', point_size=20,\n",
    "            grid=True, title='Q-Q Plot of Residuals',\n",
    "            font_size=12):\n",
    "    plt.figure(figsize=figsize)\n",
    "    (osm, osr), (slope, intercept, r) = stats.probplot(residuals, dist=\"norm\")\n",
    "\n",
    "    # Plot the Q-Q line\n",
    "    plt.plot(osm, slope * np.array(osm) + intercept, line_style, color=line_color, label='Q-Q Line')\n",
    "\n",
    "    # Plot the actual residuals\n",
    "    plt.scatter(osm, osr, color=point_color, s=point_size, alpha=0.6, label='Residuals')\n",
    "\n",
    "    plt.title(title, fontsize=font_size + 2)\n",
    "    plt.xlabel(\"Theoretical Quantiles\", fontsize=font_size)\n",
    "    plt.ylabel(\"Ordered Values\", fontsize=font_size)\n",
    "    if grid:\n",
    "        plt.grid(True, linestyle='--', alpha=0.5)\n",
    "    plt.legend()\n",
    "    plt.tight_layout()\n",
    "    plt.show()\n"
   ]
  },
  {
   "cell_type": "code",
   "execution_count": null,
   "id": "dab4d1af",
   "metadata": {},
   "outputs": [],
   "source": [
    "qq_plot(residuals, point_color='grey', \n",
    "        line_color='black', \n",
    "        line_style='--', \n",
    "        point_size=50)"
   ]
  },
  {
   "cell_type": "markdown",
   "id": "76d034b2",
   "metadata": {},
   "source": [
    "## Save visualization methods to module"
   ]
  },
  {
   "cell_type": "code",
   "execution_count": null,
   "id": "8286b833",
   "metadata": {},
   "outputs": [],
   "source": [
    "%%writefile deep_learn/regression_viz.py\n",
    "import scipy.stats as stats\n",
    "import matplotlib.pyplot as plt\n",
    "\n",
    "def dist_of_residuals(y_test, y_pred, \n",
    "                      figsize=(6, 6), alpha=0.7,\n",
    "                      bins=30, hist_col='grey', edge_col='black',\n",
    "                      line_col='black', line_width=1, line_style='--',\n",
    "                      x_label='Residuals', y_label='Frequency',\n",
    "                      title='Distribution of Residuals', \n",
    "                      show_grid=True):\n",
    "    global residuals\n",
    "    residuals = y_test - y_pred\n",
    "    plt.figure(figsize=figsize)\n",
    "    plt.hist(residuals, bins=bins, alpha=alpha, color=hist_col, edgecolor=edge_col)\n",
    "    plt.axvline(x=0, color=line_col, linestyle=line_style, lw=line_width)\n",
    "    plt.xlabel(x_label)\n",
    "    plt.ylabel(y_label)\n",
    "    plt.title(title)\n",
    "    plt.grid(show_grid)\n",
    "    plt.show()\n",
    "\n",
    "def actual_vs_predicted_plot(y_test, y_pred, \n",
    "                             figsize=(6, 6), alpha=0.5,\n",
    "                             point_col='grey', line_col='black',\n",
    "                             x_label='Actual', y_label='Predicted', \n",
    "                             title='Actual vs. Predicted', show_grid=True,\n",
    "                             line_style='--', line_width=1):\n",
    "    plt.figure(figsize=figsize)\n",
    "    plt.scatter(y_test, y_pred, alpha=alpha, color=point_col)\n",
    "    plt.plot([y_test.min(), y_test.max()], [y_test.min(), y_test.max()], \n",
    "             color=line_col, linestyle=line_style, lw=line_width) \n",
    "    plt.xlabel(x_label)\n",
    "    plt.ylabel(y_label)\n",
    "    plt.title(title)\n",
    "    plt.grid(show_grid)\n",
    "    plt.show()\n",
    "\n",
    "def qq_plot(residuals, figsize=(6, 6), \n",
    "            line_color='red', point_color='blue', \n",
    "            line_style='-', point_size=20,\n",
    "            grid=True, title='Q-Q Plot of Residuals',\n",
    "            font_size=12):\n",
    "    plt.figure(figsize=figsize)\n",
    "    (osm, osr), (slope, intercept, r) = stats.probplot(residuals, dist=\"norm\")\n",
    "\n",
    "    # Plot the Q-Q line\n",
    "    plt.plot(osm, slope * np.array(osm) + intercept, line_style, color=line_color, label='Q-Q Line')\n",
    "\n",
    "    # Plot the actual residuals\n",
    "    plt.scatter(osm, osr, color=point_color, s=point_size, alpha=0.6, label='Residuals')\n",
    "\n",
    "    plt.title(title, fontsize=font_size + 2)\n",
    "    plt.xlabel(\"Theoretical Quantiles\", fontsize=font_size)\n",
    "    plt.ylabel(\"Ordered Values\", fontsize=font_size)\n",
    "    if grid:\n",
    "        plt.grid(True, linestyle='--', alpha=0.5)\n",
    "    plt.legend()\n",
    "    plt.tight_layout()\n",
    "    plt.show()"
   ]
  }
 ],
 "metadata": {
  "kernelspec": {
   "display_name": "sklearn-book-py-12-env",
   "language": "python",
   "name": "python3"
  },
  "language_info": {
   "codemirror_mode": {
    "name": "ipython",
    "version": 3
   },
   "file_extension": ".py",
   "mimetype": "text/x-python",
   "name": "python",
   "nbconvert_exporter": "python",
   "pygments_lexer": "ipython3",
   "version": "3.12.9"
  }
 },
 "nbformat": 4,
 "nbformat_minor": 5
}
