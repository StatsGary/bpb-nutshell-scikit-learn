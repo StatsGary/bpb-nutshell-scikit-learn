{
 "cells": [
  {
   "cell_type": "markdown",
   "id": "e7910bdb",
   "metadata": {},
   "source": [
    "# Edge Device Federated Learning"
   ]
  },
  {
   "cell_type": "code",
   "execution_count": null,
   "id": "c53004c7",
   "metadata": {},
   "outputs": [],
   "source": [
    "import numpy as np\n",
    "from sklearn.linear_model import LogisticRegression\n",
    "from sklearn.datasets import make_classification\n",
    "from sklearn.metrics import roc_auc_score\n",
    "from sklearn.model_selection import train_test_split"
   ]
  },
  {
   "cell_type": "markdown",
   "id": "a5fb8337",
   "metadata": {},
   "source": [
    "## Create simulated medical diagnostic data"
   ]
  },
  {
   "cell_type": "code",
   "execution_count": null,
   "id": "24a835af",
   "metadata": {},
   "outputs": [],
   "source": [
    "def generate_site_data(seed):\n",
    "    X, y = make_classification(n_samples=200, \n",
    "                               n_features=10, \n",
    "                               n_informative=6,\n",
    "                               n_redundant=2, n_classes=2, \n",
    "                               random_state=seed)\n",
    "    return train_test_split(X, y, \n",
    "                            test_size=0.3, \n",
    "                            random_state=seed + 10)"
   ]
  },
  {
   "cell_type": "markdown",
   "id": "68ff35aa",
   "metadata": {},
   "source": [
    "## Simulate data for three different hospital sites"
   ]
  },
  {
   "cell_type": "code",
   "execution_count": null,
   "id": "93ec8582",
   "metadata": {},
   "outputs": [],
   "source": [
    "# Simulate data for 3 NHS sites\n",
    "site_data = [generate_site_data(seed) for seed in [1, 2, 3]]"
   ]
  },
  {
   "cell_type": "markdown",
   "id": "cf4a4bec",
   "metadata": {},
   "source": [
    "## Fit a model per site"
   ]
  },
  {
   "cell_type": "code",
   "execution_count": null,
   "id": "1913bb8e",
   "metadata": {},
   "outputs": [],
   "source": [
    "local_models = []\n",
    "for X_train, X_test, y_train, y_test in site_data:\n",
    "    model = LogisticRegression(max_iter=500).fit(X_train, y_train)\n",
    "    local_models.append((model, X_test, y_test))"
   ]
  },
  {
   "cell_type": "markdown",
   "id": "9e473ec3",
   "metadata": {},
   "source": [
    "## Evaluate local models per site"
   ]
  },
  {
   "cell_type": "code",
   "execution_count": null,
   "id": "67b9d416",
   "metadata": {},
   "outputs": [],
   "source": [
    "print(\"AUC for individual NHS sites:\")\n",
    "for i, (model, X_test, y_test) in enumerate(local_models):\n",
    "    auc = roc_auc_score(y_test, model.predict_proba(X_test)[:, 1])\n",
    "    print(f\"Hospital Site {i+1}: AUC = {auc:.3f}\")"
   ]
  },
  {
   "cell_type": "markdown",
   "id": "49c56db5",
   "metadata": {},
   "source": [
    "## Create federated average "
   ]
  },
  {
   "cell_type": "code",
   "execution_count": null,
   "id": "8b057492",
   "metadata": {},
   "outputs": [],
   "source": [
    "def federated_average(models):\n",
    "    coefs = np.mean([m.coef_ for m, _, _ in models], \n",
    "                    axis=0)\n",
    "    intercepts = np.mean([m.intercept_ for m, _, _ in models], \n",
    "                         axis=0)\n",
    "    global_model = LogisticRegression()\n",
    "    global_model.coef_ = coefs\n",
    "    global_model.intercept_ = intercepts\n",
    "    global_model.classes_ = np.array([0, 1])\n",
    "    return global_model"
   ]
  },
  {
   "cell_type": "markdown",
   "id": "4655e8b7",
   "metadata": {},
   "source": [
    "## Federated Model - Globally in the Cloud"
   ]
  },
  {
   "cell_type": "code",
   "execution_count": null,
   "id": "1dabe549",
   "metadata": {},
   "outputs": [],
   "source": [
    "for site in [2, 3]:\n",
    "    selected_models = local_models[:site]\n",
    "    global_model = federated_average(selected_models)\n",
    "    X_combined = np.vstack([X for _, X, _ in selected_models])\n",
    "    y_combined = np.hstack([y for _, _, y in selected_models])\n",
    "    y_pred_prob = global_model.predict_proba(X_combined)[:, 1]\n",
    "    auc = roc_auc_score(y_combined, y_pred_prob)\n",
    "    print(f\"\\nGlobal Model (aggregated over {site} site(s)) — AUC: {auc:.3f}\")"
   ]
  }
 ],
 "metadata": {
  "kernelspec": {
   "display_name": "sklearn-book-py-12-env",
   "language": "python",
   "name": "python3"
  },
  "language_info": {
   "codemirror_mode": {
    "name": "ipython",
    "version": 3
   },
   "file_extension": ".py",
   "mimetype": "text/x-python",
   "name": "python",
   "nbconvert_exporter": "python",
   "pygments_lexer": "ipython3",
   "version": "3.12.9"
  }
 },
 "nbformat": 4,
 "nbformat_minor": 5
}
