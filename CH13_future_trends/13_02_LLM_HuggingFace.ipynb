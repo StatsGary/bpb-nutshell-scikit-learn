{
 "cells": [
  {
   "cell_type": "markdown",
   "id": "6ee98b2d",
   "metadata": {},
   "source": [
    "# Using Open-Source HuggingFace 🤗 Transformers"
   ]
  },
  {
   "cell_type": "code",
   "execution_count": null,
   "id": "8fa8df8b",
   "metadata": {},
   "outputs": [],
   "source": [
    "# !pip install -r requirements.txt --upgrade --quiet\n",
    "# !pip install --upgrade accelerate --quiet"
   ]
  },
  {
   "cell_type": "markdown",
   "id": "435b5113",
   "metadata": {},
   "source": [
    "Restart `Jupyter Kernel` at this point, as `accelerate` sometimes has issues starting after installs. "
   ]
  },
  {
   "cell_type": "code",
   "execution_count": null,
   "id": "0393fbbf",
   "metadata": {},
   "outputs": [],
   "source": [
    "from transformers import AutoTokenizer, AutoModelForCausalLM\n",
    "import transformers\n",
    "import torch\n",
    "import accelerate"
   ]
  },
  {
   "cell_type": "code",
   "execution_count": null,
   "id": "db6861fd",
   "metadata": {},
   "outputs": [],
   "source": [
    "MODEL_NAME = \"tiiuae/falcon-7b-instruct\""
   ]
  },
  {
   "cell_type": "markdown",
   "id": "0e1668ea",
   "metadata": {},
   "source": [
    "## Load a model\n",
    "All models are available by searching the HuggingFace website: https://huggingface.co/models.\n",
    "\n",
    "**Note: if running on a `CPU` these responses will be substantially slower than GPU**"
   ]
  },
  {
   "cell_type": "code",
   "execution_count": null,
   "id": "4328d948",
   "metadata": {},
   "outputs": [],
   "source": [
    "tokenizer = AutoTokenizer.from_pretrained(MODEL_NAME)\n",
    "model = AutoModelForCausalLM.from_pretrained(\n",
    "    MODEL_NAME,\n",
    "    torch_dtype=torch.float32,\n",
    "    device_map=\"auto\",\n",
    "    trust_remote_code=False,\n",
    "    low_cpu_mem_usage=True\n",
    ")"
   ]
  },
  {
   "cell_type": "markdown",
   "id": "a054430f",
   "metadata": {},
   "source": [
    "## QA / Text Generation"
   ]
  },
  {
   "cell_type": "code",
   "execution_count": null,
   "id": "655fa10c",
   "metadata": {},
   "outputs": [],
   "source": [
    "USER_PROMPT = \"Explain how gravity affects planetary orbits.\""
   ]
  },
  {
   "cell_type": "code",
   "execution_count": null,
   "id": "88db2edf",
   "metadata": {},
   "outputs": [],
   "source": [
    "messages = [\n",
    "    {\"role\": \"system\", \"content\": \"You are a helpful assistant.\"},\n",
    "    {\"role\": \"user\", \"content\": USER_PROMPT}\n",
    "]"
   ]
  },
  {
   "cell_type": "code",
   "execution_count": null,
   "id": "097e6774",
   "metadata": {},
   "outputs": [],
   "source": [
    "def generated_hf_response(model, \n",
    "                    tokenizer, \n",
    "                    messages, \n",
    "                    max_new_tokens=512, \n",
    "                    return_type=\"pt\",\n",
    "                    skip_special_tokens=True,\n",
    "                    **gen_kwargs):\n",
    "    \n",
    "    text = tokenizer.apply_chat_template(\n",
    "        messages,\n",
    "        tokenize=False,\n",
    "        add_generation_prompt=True\n",
    "    )\n",
    "\n",
    "    inputs = tokenizer([text], \n",
    "                       return_tensors=return_type).to(model.device)\n",
    "    outputs = model.generate(\n",
    "        **inputs,\n",
    "        max_new_tokens=max_new_tokens,\n",
    "        **gen_kwargs\n",
    "    )\n",
    "    gen_tokens = outputs[0][len(inputs.input_ids[0]):]\n",
    "    return tokenizer.decode(gen_tokens, \n",
    "                            skip_special_tokens=skip_special_tokens)"
   ]
  },
  {
   "cell_type": "code",
   "execution_count": null,
   "id": "79600224",
   "metadata": {},
   "outputs": [],
   "source": [
    "generated_hf_response(model=model, tokenizer=tokenizer,\n",
    "                      messages=messages, \n",
    "                      max_new_tokens=100, \n",
    "                      return_type=\"pt\",\n",
    "                      skip_special_tokens=True,\n",
    "                      do_sample=False)"
   ]
  }
 ],
 "metadata": {
  "kernelspec": {
   "display_name": "llm-environment",
   "language": "python",
   "name": "python3"
  },
  "language_info": {
   "codemirror_mode": {
    "name": "ipython",
    "version": 3
   },
   "file_extension": ".py",
   "mimetype": "text/x-python",
   "name": "python",
   "nbconvert_exporter": "python",
   "pygments_lexer": "ipython3",
   "version": "3.12.11"
  }
 },
 "nbformat": 4,
 "nbformat_minor": 5
}
