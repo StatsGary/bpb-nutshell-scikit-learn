{
 "cells": [
  {
   "cell_type": "markdown",
   "id": "6ee98b2d",
   "metadata": {},
   "source": [
    "# Automated Machine Learning (AutoML)"
   ]
  },
  {
   "cell_type": "code",
   "execution_count": null,
   "id": "9ce10ab5",
   "metadata": {},
   "outputs": [],
   "source": [
    "!pip install -r requirements.txt "
   ]
  },
  {
   "cell_type": "code",
   "execution_count": null,
   "id": "41dc6e24",
   "metadata": {},
   "outputs": [],
   "source": [
    "from tpot import TPOTClassifier\n",
    "from sklearn.datasets import load_breast_cancer\n",
    "from sklearn.model_selection import train_test_split\n",
    "from sklearn.metrics import classification_report"
   ]
  },
  {
   "cell_type": "code",
   "execution_count": null,
   "id": "c1c912f4",
   "metadata": {},
   "outputs": [],
   "source": [
    "RANDOM_SEED = 42"
   ]
  },
  {
   "cell_type": "markdown",
   "id": "46283719",
   "metadata": {},
   "source": [
    "## Load breast cancer data"
   ]
  },
  {
   "cell_type": "code",
   "execution_count": null,
   "id": "a63e3871",
   "metadata": {},
   "outputs": [],
   "source": [
    "data = load_breast_cancer()\n",
    "X, y = data.data, data.target"
   ]
  },
  {
   "cell_type": "code",
   "execution_count": null,
   "id": "2fb016b2",
   "metadata": {},
   "outputs": [],
   "source": [
    "X_train, X_test, y_train, y_test = train_test_split(X, y, test_size=0.2, \n",
    "                                                    random_state=RANDOM_SEED, \n",
    "                                                    stratify=y)"
   ]
  },
  {
   "cell_type": "markdown",
   "id": "efa195c4",
   "metadata": {},
   "source": [
    "## Intialize Tree Based Optimization Tool (TPOT)"
   ]
  },
  {
   "cell_type": "code",
   "execution_count": null,
   "id": "05b3a73c",
   "metadata": {},
   "outputs": [],
   "source": [
    "tpot_class = TPOTClassifier(verbosity=3,\n",
    "                            random_state=RANDOM_SEED,\n",
    "                            generations=5,\n",
    "                            population_size=50,\n",
    "                            n_jobs=-1,\n",
    "                            mutation_rate=0.9,\n",
    "                            crossover_rate=0.1,\n",
    "                            cv=5,\n",
    "                            scoring='f1')"
   ]
  },
  {
   "cell_type": "code",
   "execution_count": null,
   "id": "0878c39b",
   "metadata": {},
   "outputs": [],
   "source": [
    "tpot_class.fit(X_train, y_train)"
   ]
  },
  {
   "cell_type": "code",
   "execution_count": null,
   "id": "f53fa576",
   "metadata": {},
   "outputs": [],
   "source": [
    "score = tpot_class.score(X_test, y_test)\n",
    "print(f\"Test F1: {score:.4f}\")"
   ]
  },
  {
   "cell_type": "code",
   "execution_count": null,
   "id": "ac5bbf27",
   "metadata": {},
   "outputs": [],
   "source": [
    "y_pred = tpot_class.predict(X_test)"
   ]
  },
  {
   "cell_type": "code",
   "execution_count": null,
   "id": "3a882c7f",
   "metadata": {},
   "outputs": [],
   "source": [
    "from sklearn.metrics import confusion_matrix\n",
    "cm = confusion_matrix(y_test, y_pred)\n",
    "cm"
   ]
  },
  {
   "cell_type": "code",
   "execution_count": null,
   "id": "455d86a9",
   "metadata": {},
   "outputs": [],
   "source": [
    "from modelviz.confusion_matrix import plot_confusion_matrix\n",
    "plot_confusion_matrix(cm=cm, \n",
    "                      classes=data.target_names,\n",
    "                      model_name='TPOTClassifier',\n",
    "                      table_fontsize=7,\n",
    "                      cmap='Greys',\n",
    "                      label_positions_color='grey',\n",
    "                      proportions_color='aqua')"
   ]
  },
  {
   "cell_type": "markdown",
   "id": "9c721577",
   "metadata": {},
   "source": [
    "## Export the best pipeline"
   ]
  },
  {
   "cell_type": "code",
   "execution_count": null,
   "id": "db0c56b0",
   "metadata": {},
   "outputs": [],
   "source": [
    "# Export the best pipeline\n",
    "import os\n",
    "os.makedirs('tpot_exported_pipeline', \n",
    "            exist_ok=True)\n",
    "tpot_class.export(os.path.join(\"tpot_exported_pipeline\",\n",
    "                               'tpot_best_pipeline.py'))"
   ]
  }
 ],
 "metadata": {
  "kernelspec": {
   "display_name": "sklearn-book-py-12-env",
   "language": "python",
   "name": "python3"
  },
  "language_info": {
   "codemirror_mode": {
    "name": "ipython",
    "version": 3
   },
   "file_extension": ".py",
   "mimetype": "text/x-python",
   "name": "python",
   "nbconvert_exporter": "python",
   "pygments_lexer": "ipython3",
   "version": "3.12.9"
  }
 },
 "nbformat": 4,
 "nbformat_minor": 5
}
