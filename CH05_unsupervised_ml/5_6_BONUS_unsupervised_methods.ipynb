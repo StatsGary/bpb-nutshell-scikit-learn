{
 "cells": [
  {
   "cell_type": "markdown",
   "id": "8e736761",
   "metadata": {},
   "source": [
    "## Unsupervised Methods"
   ]
  },
  {
   "cell_type": "code",
   "execution_count": 1,
   "id": "7c83c470",
   "metadata": {},
   "outputs": [],
   "source": [
    "!pip install hdbscan --quiet"
   ]
  },
  {
   "cell_type": "code",
   "execution_count": 2,
   "id": "5f710691",
   "metadata": {},
   "outputs": [],
   "source": [
    "import numpy as np\n",
    "import matplotlib.pyplot as plt\n",
    "from sklearn.datasets import make_blobs, make_swiss_roll, make_circles, make_moons\n",
    "from sklearn.mixture import GaussianMixture\n",
    "from sklearn.manifold import MDS, TSNE\n",
    "from sklearn.cluster import KMeans, DBSCAN, AgglomerativeClustering,  Birch, OPTICS\n",
    "from sklearn.neighbors import LocalOutlierFactor\n",
    "from sklearn.covariance import EmpiricalCovariance, ShrunkCovariance\n",
    "from sklearn.ensemble import IsolationForest"
   ]
  },
  {
   "cell_type": "code",
   "execution_count": 3,
   "id": "b431c2f6",
   "metadata": {},
   "outputs": [],
   "source": [
    "def plot_scatter(X, labels, title, \n",
    "                 title_fsize=14,\n",
    "                 lab_font_size=12, \n",
    "                 cmap='winter', \n",
    "                 axis1=0, \n",
    "                 axis2=1,\n",
    "                 scatter_edge_color='k'):\n",
    "    \n",
    "    plt.figure(figsize=(8, 6))\n",
    "    scatter = plt.scatter(X[:, axis1], X[:, axis2], \n",
    "                          c=labels, cmap=cmap, s=40, \n",
    "                          edgecolor=scatter_edge_color, alpha=0.7)\n",
    "    plt.colorbar(scatter, label='Cluster/Outlier Labels')\n",
    "    plt.title(title, fontsize=title_fsize)\n",
    "    plt.xlabel(f\"Feature {axis1+1}\", fontsize=lab_font_size)\n",
    "    plt.ylabel(f\"Feature {axis2+1}\", fontsize=lab_font_size)\n",
    "    plt.grid(True, linestyle='--', alpha=0.6)\n",
    "    plt.show()"
   ]
  },
  {
   "cell_type": "markdown",
   "id": "2a6bc73b",
   "metadata": {},
   "source": [
    "## Generate data"
   ]
  },
  {
   "cell_type": "code",
   "execution_count": 4,
   "id": "55481449",
   "metadata": {},
   "outputs": [],
   "source": [
    "n_samples = 900\n",
    "n_features = 9\n",
    "n_clusters = 4\n",
    "random_state = 42\n",
    "cmap = 'winter'\n",
    "\n",
    "X_cluster, y_cluster = make_blobs(n_samples=n_samples, n_features=n_features, centers=n_clusters, random_state=random_state)"
   ]
  },
  {
   "cell_type": "code",
   "execution_count": 5,
   "id": "abdd4992",
   "metadata": {},
   "outputs": [],
   "source": [
    "X_swiss_roll, swiss_roll_labels = make_swiss_roll(n_samples=n_samples, noise=0.05, random_state=random_state)\n"
   ]
  },
  {
   "cell_type": "code",
   "execution_count": 6,
   "id": "86549831",
   "metadata": {},
   "outputs": [],
   "source": [
    "X_circles, circles_labels = make_circles(n_samples=n_samples, factor=0.5, noise=0.05, random_state=random_state)\n"
   ]
  },
  {
   "cell_type": "code",
   "execution_count": 7,
   "id": "daef0f99",
   "metadata": {},
   "outputs": [],
   "source": [
    "X_moons, moons_labels = make_moons(n_samples=n_samples, noise=0.05, random_state=random_state)"
   ]
  },
  {
   "cell_type": "code",
   "execution_count": 8,
   "id": "beaf6ffa",
   "metadata": {},
   "outputs": [],
   "source": [
    "X_outliers, _ = make_blobs(n_samples=n_samples, centers=n_clusters, cluster_std=1.0, random_state=random_state)\n",
    "outlier_points = np.random.uniform(low=-10, high=10, size=(50, X_outliers.shape[1]))\n",
    "X_outliers = np.vstack([X_outliers, outlier_points])"
   ]
  },
  {
   "cell_type": "markdown",
   "id": "556aed19",
   "metadata": {},
   "source": [
    "## Clustering methods"
   ]
  },
  {
   "cell_type": "markdown",
   "id": "163ad522",
   "metadata": {},
   "source": [
    "### Gaussian mixture models"
   ]
  },
  {
   "cell_type": "code",
   "execution_count": null,
   "id": "321ea748",
   "metadata": {},
   "outputs": [],
   "source": [
    "gmm = GaussianMixture(n_components=n_clusters, random_state=random_state)\n",
    "gmm_labels = gmm.fit_predict(X_cluster)\n",
    "plot_scatter(X_cluster, gmm_labels, title='Gaussian Mixture Model')"
   ]
  },
  {
   "cell_type": "markdown",
   "id": "4cd2d305",
   "metadata": {},
   "source": [
    "### K-Means clustering"
   ]
  },
  {
   "cell_type": "code",
   "execution_count": null,
   "id": "42d95410",
   "metadata": {},
   "outputs": [],
   "source": [
    "kmeans = KMeans(n_clusters=n_clusters, random_state=random_state)\n",
    "kmeans_labels = kmeans.fit_predict(X_cluster)\n",
    "plot_scatter(X_cluster, kmeans_labels, title='K-Means')"
   ]
  },
  {
   "cell_type": "markdown",
   "id": "9da5929f",
   "metadata": {},
   "source": [
    "### Agglomerative Clustering"
   ]
  },
  {
   "cell_type": "code",
   "execution_count": null,
   "id": "a7773bce",
   "metadata": {},
   "outputs": [],
   "source": [
    "agglomerative = AgglomerativeClustering(n_clusters=n_clusters)\n",
    "agglomerative_labels = agglomerative.fit_predict(X_cluster)\n",
    "plot_scatter(X_cluster, agglomerative_labels, title='Hierarchical Clustering (Agglomerative)')"
   ]
  },
  {
   "cell_type": "markdown",
   "id": "e5f3c1de",
   "metadata": {},
   "source": [
    "### OPTICS clustering"
   ]
  },
  {
   "cell_type": "code",
   "execution_count": null,
   "id": "3d5c68e6",
   "metadata": {},
   "outputs": [],
   "source": [
    "optics = OPTICS(min_samples=5, xi=0.05, min_cluster_size=0.1)\n",
    "optics_labels = optics.fit_predict(X_cluster)\n",
    "plot_scatter(X_cluster, optics_labels, title='OPTICS')"
   ]
  },
  {
   "cell_type": "markdown",
   "id": "5d208c96",
   "metadata": {},
   "source": [
    "### BIRCH Clustering"
   ]
  },
  {
   "cell_type": "code",
   "execution_count": null,
   "id": "229be3f0",
   "metadata": {},
   "outputs": [],
   "source": [
    "birch = Birch(n_clusters=n_clusters)\n",
    "birch_labels = birch.fit_predict(X_cluster)\n",
    "plot_scatter(X_cluster, birch_labels, title='BIRCH')"
   ]
  },
  {
   "cell_type": "markdown",
   "id": "3c1dfd58",
   "metadata": {},
   "source": [
    "## Manifold Learning"
   ]
  },
  {
   "cell_type": "markdown",
   "id": "7099c91d",
   "metadata": {},
   "source": [
    "### Multidimensional scaling"
   ]
  },
  {
   "cell_type": "code",
   "execution_count": null,
   "id": "3038fb86",
   "metadata": {},
   "outputs": [],
   "source": [
    "mds = MDS(n_components=2, random_state=random_state)\n",
    "fitted_mds = mds.fit_transform(X_swiss_roll)\n",
    "plot_scatter(fitted_mds, swiss_roll_labels, \"MDS on Swiss Roll\")"
   ]
  },
  {
   "cell_type": "code",
   "execution_count": null,
   "id": "b709a788",
   "metadata": {},
   "outputs": [],
   "source": [
    "mds_circles = mds.fit_transform(X_circles)\n",
    "plot_scatter(mds_circles, circles_labels, \"MDS on Circles\")"
   ]
  },
  {
   "cell_type": "code",
   "execution_count": null,
   "id": "8837cc40",
   "metadata": {},
   "outputs": [],
   "source": [
    "mds_moons = mds.fit_transform(X_moons)\n",
    "plot_scatter(mds_moons, moons_labels, \"MDS on Moons\")"
   ]
  },
  {
   "cell_type": "markdown",
   "id": "62c2e604",
   "metadata": {},
   "source": [
    "## T-SNE ()"
   ]
  },
  {
   "cell_type": "code",
   "execution_count": null,
   "id": "159f35f8",
   "metadata": {},
   "outputs": [],
   "source": [
    "tsne = TSNE(n_components=2, random_state=random_state)\n",
    "fitted_tsne = tsne.fit_transform(X_swiss_roll)\n",
    "plot_scatter(fitted_tsne, swiss_roll_labels, \"t-SNE on Swiss Roll\")"
   ]
  },
  {
   "cell_type": "code",
   "execution_count": null,
   "id": "38fd302d",
   "metadata": {},
   "outputs": [],
   "source": [
    "tsne_circles = tsne.fit_transform(X_circles)\n",
    "plot_scatter(tsne_circles, circles_labels, \"t-SNE on Circles\")"
   ]
  },
  {
   "cell_type": "code",
   "execution_count": null,
   "id": "52a66529",
   "metadata": {},
   "outputs": [],
   "source": [
    "tsne_moons = tsne.fit_transform(X_moons)\n",
    "plot_scatter(tsne_moons, moons_labels, \"t-SNE on Moons\")"
   ]
  },
  {
   "cell_type": "markdown",
   "id": "89d9acea",
   "metadata": {},
   "source": [
    "### DBScan"
   ]
  },
  {
   "cell_type": "code",
   "execution_count": null,
   "id": "3a99d998",
   "metadata": {},
   "outputs": [],
   "source": [
    "dbscan_swiss_roll = DBSCAN(eps=2.2, min_samples=5)\n",
    "dbscan_labels_swiss_roll = dbscan_swiss_roll.fit_predict(X_swiss_roll)\n",
    "plot_scatter(X_swiss_roll, dbscan_labels_swiss_roll, \"DBSCAN on Swiss Roll\", axis1=0, axis2=2)"
   ]
  },
  {
   "cell_type": "code",
   "execution_count": null,
   "id": "bf1c4454",
   "metadata": {},
   "outputs": [],
   "source": [
    "dbscan_circles = DBSCAN(eps=0.2, min_samples=5)\n",
    "dbscan_labels_circles = dbscan_circles.fit_predict(X_circles)\n",
    "plot_scatter(X_circles, dbscan_labels_circles, \"DBSCAN on Circles\")"
   ]
  },
  {
   "cell_type": "code",
   "execution_count": null,
   "id": "75198249",
   "metadata": {},
   "outputs": [],
   "source": [
    "dbscan_moons = DBSCAN(eps=0.2, min_samples=5)\n",
    "dbscan_labels_moons = dbscan_moons.fit_predict(X_moons)\n",
    "plot_scatter(X_moons, dbscan_labels_moons, \"DBSCAN on Moons\")"
   ]
  },
  {
   "cell_type": "markdown",
   "id": "60e419f7",
   "metadata": {},
   "source": [
    "## Outlier detection methods"
   ]
  },
  {
   "cell_type": "markdown",
   "id": "eb524201",
   "metadata": {},
   "source": [
    "### Local Outlier Factor (LOF)"
   ]
  },
  {
   "cell_type": "code",
   "execution_count": null,
   "id": "48c23d59",
   "metadata": {},
   "outputs": [],
   "source": [
    "lof = LocalOutlierFactor(n_neighbors=20)\n",
    "lof_labels = lof.fit_predict(X_outliers)\n",
    "plot_scatter(X_outliers, lof_labels, \"Local Outlier Factor\")"
   ]
  },
  {
   "cell_type": "markdown",
   "id": "38045e18",
   "metadata": {},
   "source": [
    "### Empircal covariance"
   ]
  },
  {
   "cell_type": "code",
   "execution_count": null,
   "id": "14819701",
   "metadata": {},
   "outputs": [],
   "source": [
    "emp_cov = EmpiricalCovariance()\n",
    "emp_cov.fit(X_outliers)\n",
    "mahal_distances = emp_cov.mahalanobis(X_outliers - np.mean(X_outliers, axis=0))\n",
    "outlier_mask = mahal_distances > np.percentile(mahal_distances, 97.5)\n",
    "plot_scatter(X_outliers, ~outlier_mask, \"Empirical Covariance Outlier Detection\")"
   ]
  },
  {
   "cell_type": "markdown",
   "id": "7e442503",
   "metadata": {},
   "source": [
    "### Isolation Forests"
   ]
  },
  {
   "cell_type": "code",
   "execution_count": null,
   "id": "300c3031",
   "metadata": {},
   "outputs": [],
   "source": [
    "isolation_forest = IsolationForest(random_state=random_state, contamination=0.05)\n",
    "isolation_labels = isolation_forest.fit_predict(X_outliers)\n",
    "plot_scatter(X_outliers, isolation_labels, \"Isolation Forest Outlier Detection\")"
   ]
  }
 ],
 "metadata": {
  "kernelspec": {
   "display_name": "scikit-learn",
   "language": "python",
   "name": "python3"
  },
  "language_info": {
   "codemirror_mode": {
    "name": "ipython",
    "version": 3
   },
   "file_extension": ".py",
   "mimetype": "text/x-python",
   "name": "python",
   "nbconvert_exporter": "python",
   "pygments_lexer": "ipython3",
   "version": "3.10.15"
  }
 },
 "nbformat": 4,
 "nbformat_minor": 5
}
