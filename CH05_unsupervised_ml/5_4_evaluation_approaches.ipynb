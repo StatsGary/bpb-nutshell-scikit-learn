{
 "cells": [
  {
   "cell_type": "markdown",
   "metadata": {},
   "source": [
    "# Evaluation approaches - Unsupervised Learning"
   ]
  },
  {
   "cell_type": "code",
   "execution_count": 1,
   "metadata": {},
   "outputs": [],
   "source": [
    "import numpy as np\n",
    "import matplotlib.pyplot as plt\n",
    "from sklearn.datasets import make_blobs\n",
    "from sklearn.cluster import KMeans, AgglomerativeClustering\n",
    "from sklearn.metrics import silhouette_score, davies_bouldin_score, adjusted_rand_score"
   ]
  },
  {
   "cell_type": "code",
   "execution_count": 2,
   "metadata": {},
   "outputs": [],
   "source": [
    "n_samples = 300\n",
    "n_features = 2\n",
    "n_clusters = 4\n",
    "random_state = 42\n",
    "X, y = make_blobs(n_samples=n_samples, \n",
    "                  n_features=n_features, \n",
    "                  centers=n_clusters, \n",
    "                  random_state=random_state)"
   ]
  },
  {
   "cell_type": "markdown",
   "metadata": {},
   "source": [
    "## Elbow method plot"
   ]
  },
  {
   "cell_type": "code",
   "execution_count": 3,
   "metadata": {},
   "outputs": [],
   "source": [
    "def plot_elbow_method(X, model_class, \n",
    "                      max_k=10, figsize=(8, 6), \n",
    "                      title='Elbow Method For Optimal K', \n",
    "                      xlabel='Number of clusters (K)', \n",
    "                      ylabel='Inertia (SSE)', \n",
    "                      grid=True, **kwargs):\n",
    "    inertia = []\n",
    "    k_val_rng = range(1, max_k + 1)  \n",
    "    for k in k_val_rng:\n",
    "        model = model_class(n_clusters=k, **kwargs)\n",
    "        model.fit(X)\n",
    "        if hasattr(model, 'inertia_'):\n",
    "            inertia.append(model.inertia_)\n",
    "        else:\n",
    "            print(f\"{model_class.__name__} doesn't have 'inertia_' for k={k}. Skipping...\")\n",
    "            break\n",
    "    if inertia:\n",
    "        plt.figure(figsize=figsize)\n",
    "        plt.plot(k_val_rng, inertia, marker='o')\n",
    "        plt.title(title)\n",
    "        plt.xlabel(xlabel)\n",
    "        plt.ylabel(ylabel)\n",
    "        if grid:\n",
    "            plt.grid(True)\n",
    "        plt.show()"
   ]
  },
  {
   "cell_type": "code",
   "execution_count": null,
   "metadata": {},
   "outputs": [],
   "source": [
    "plot_elbow_method(X=X, model_class=KMeans, max_k=10)"
   ]
  },
  {
   "cell_type": "markdown",
   "metadata": {},
   "source": [
    "## K-Means method"
   ]
  },
  {
   "cell_type": "code",
   "execution_count": null,
   "metadata": {},
   "outputs": [],
   "source": [
    "print('Initialising empty lists for storing evaluation metrics')\n",
    "silhouette_scores = []\n",
    "davies_bouldin_scores = []\n",
    "ari_scores = []"
   ]
  },
  {
   "cell_type": "markdown",
   "metadata": {},
   "source": [
    "### Loop through number of clusters to find optimal cluster value"
   ]
  },
  {
   "cell_type": "code",
   "execution_count": 5,
   "metadata": {},
   "outputs": [],
   "source": [
    "k_vals = range(2, 11)  # Defines cluster numbers from 2 to 10\n",
    "\n",
    "for k in k_vals:\n",
    "    model = KMeans(n_clusters=k, random_state=42)\n",
    "    model.fit(X)\n",
    "    labels = model.labels_\n",
    "    \n",
    "    # Append metrics\n",
    "    silhouette_scores.append(silhouette_score(X, labels))\n",
    "    davies_bouldin_scores.append(davies_bouldin_score(X, labels))\n",
    "    ari_scores.append(adjusted_rand_score(y, labels))"
   ]
  },
  {
   "cell_type": "code",
   "execution_count": null,
   "metadata": {},
   "outputs": [],
   "source": [
    "print(f\"Length of k_vals: {len(k_vals)}\")\n",
    "print(f\"Length of silhouette_scores: {len(silhouette_scores)}\")\n",
    "print(f\"Length of davies_bouldin_scores: {len(davies_bouldin_scores)}\")\n",
    "print(f\"Length of ari_scores: {len(ari_scores)}\")"
   ]
  },
  {
   "cell_type": "markdown",
   "metadata": {},
   "source": [
    "## Plot results"
   ]
  },
  {
   "cell_type": "code",
   "execution_count": null,
   "metadata": {},
   "outputs": [],
   "source": [
    "fig, axes = plt.subplots(3, 1, figsize=(10, 15))\n",
    "axes[0].plot(k_vals, silhouette_scores, marker='o', color='blue')\n",
    "axes[0].set_title('Silhouette Score vs. Number of Clusters (K-Means)')\n",
    "axes[0].set_xlabel('Number of clusters (K)')\n",
    "axes[0].set_ylabel('Silhouette Score')\n",
    "axes[0].grid(True)\n",
    "\n",
    "axes[1].plot(k_vals, davies_bouldin_scores, marker='o', color='red')\n",
    "axes[1].set_title('Davies-Bouldin Index vs. Number of Clusters')\n",
    "axes[1].set_xlabel('Number of clusters (K)')\n",
    "axes[1].set_ylabel('Davies-Bouldin Index')\n",
    "axes[1].grid(True)\n",
    "\n",
    "axes[2].plot(k_vals, ari_scores, marker='o', color='green')\n",
    "axes[2].set_title('Adjusted Rand Index vs. Number of Clusters')\n",
    "axes[2].set_xlabel('Number of clusters (K)')\n",
    "axes[2].set_ylabel('Adjusted Rand Index')\n",
    "axes[2].grid(True)\n",
    "\n",
    "plt.tight_layout()\n",
    "plt.show()"
   ]
  },
  {
   "cell_type": "markdown",
   "metadata": {},
   "source": [
    "## Silhouette plot"
   ]
  },
  {
   "cell_type": "code",
   "execution_count": 8,
   "metadata": {},
   "outputs": [],
   "source": [
    "from sklearn.metrics import silhouette_samples, silhouette_score\n",
    "import matplotlib.pyplot as plt\n",
    "import numpy as np\n",
    "\n",
    "def silhouette_plot(X, labels, n_clusters, \n",
    "                    title=\"Silhouette Plot for Clustering\",\n",
    "                    fig_size=(8,6),\n",
    "                    x_lab='Coefficient Values',\n",
    "                    y_lab='Cluster',\n",
    "                    silh_colors=None,\n",
    "                    x_axis_line_col='black'):\n",
    "\n",
    "    sil_vals = silhouette_samples(X, labels)\n",
    "    mean_score = silhouette_score(X, labels)\n",
    "\n",
    "    _, ax = plt.subplots(figsize=fig_size)\n",
    "    y_lower = 10\n",
    "\n",
    "    # Use default colours if none are provided\n",
    "    if silh_colors is None:\n",
    "        silh_colors = plt.cm.tab10.colors  # Default colour palette\n",
    "\n",
    "    for i in range(n_clusters):\n",
    "        cluster_sil_vals = sil_vals[labels == i]\n",
    "        cluster_sil_vals.sort()\n",
    "        y_upper = y_lower + len(cluster_sil_vals)\n",
    "\n",
    "        colour = silh_colors[i % len(silh_colors)]  \n",
    "\n",
    "        ax.fill_betweenx(\n",
    "            np.arange(y_lower, y_upper),\n",
    "            0, cluster_sil_vals, alpha=0.7, color=colour\n",
    "        )\n",
    "        ax.text(-0.05, y_lower + 0.5 * len(cluster_sil_vals), str(i))\n",
    "        \n",
    "        y_lower = y_upper + 10\n",
    "\n",
    "    ax.axvline(x=mean_score, color=x_axis_line_col, linestyle=\"--\")\n",
    "    ax.set_title(title)\n",
    "    ax.set_xlabel(x_lab)\n",
    "    ax.set_ylabel(y_lab)\n",
    "    ax.set_yticks([]) \n",
    "    grid_lines = np.arange(-0.1, 1.1, 0.1)\n",
    "    plt.show()\n"
   ]
  },
  {
   "cell_type": "code",
   "execution_count": null,
   "metadata": {},
   "outputs": [],
   "source": [
    "silhouette_plot(X, labels, n_clusters, \n",
    "                silh_colors=['red', 'black', 'navy','orange'])"
   ]
  }
 ],
 "metadata": {
  "kernelspec": {
   "display_name": "scikit-learn",
   "language": "python",
   "name": "python3"
  },
  "language_info": {
   "codemirror_mode": {
    "name": "ipython",
    "version": 3
   },
   "file_extension": ".py",
   "mimetype": "text/x-python",
   "name": "python",
   "nbconvert_exporter": "python",
   "pygments_lexer": "ipython3",
   "version": "3.10.15"
  }
 },
 "nbformat": 4,
 "nbformat_minor": 2
}
