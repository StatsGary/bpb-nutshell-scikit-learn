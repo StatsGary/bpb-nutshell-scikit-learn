{
 "cells": [
  {
   "cell_type": "markdown",
   "metadata": {},
   "source": [
    "# Generate churn data"
   ]
  },
  {
   "cell_type": "code",
   "execution_count": null,
   "metadata": {},
   "outputs": [],
   "source": [
    "import pandas as pd\n",
    "import numpy as np\n",
    "import os\n",
    "from scipy.stats import truncnorm"
   ]
  },
  {
   "cell_type": "code",
   "execution_count": null,
   "metadata": {},
   "outputs": [],
   "source": [
    "def truncated_normal(mean, std, lower, upper, size):\n",
    "    return truncnorm((lower - mean) / std, (upper - mean) / std, loc=mean, scale=std).rvs(size)"
   ]
  },
  {
   "cell_type": "code",
   "execution_count": null,
   "metadata": {},
   "outputs": [],
   "source": [
    "def safe_truncated_normal(mean, std, lower, upper, size):\n",
    "    values = truncated_normal(mean, std, lower, upper, size)\n",
    "    while np.any(values < lower) or np.any(values > upper):\n",
    "        invalid_indices = (values < lower) | (values > upper)\n",
    "        values[invalid_indices] = truncated_normal(mean, std, lower, upper, invalid_indices.sum())\n",
    "    return values"
   ]
  },
  {
   "cell_type": "code",
   "execution_count": null,
   "metadata": {},
   "outputs": [],
   "source": [
    "ROWS_TO_GEN = 5000\n",
    "n_rows = ROWS_TO_GEN"
   ]
  },
  {
   "cell_type": "code",
   "execution_count": null,
   "metadata": {},
   "outputs": [],
   "source": [
    "data = {\n",
    "    \"CustomerID\": [f\"CUST{i:05d}\" for i in range(1, n_rows + 1)],\n",
    "    \"Age\": truncated_normal(40, 15, 18, 80, n_rows),  # Truncated normal for Age\n",
    "    \"Gender\": np.random.choice([\"Male\", \"Female\"], n_rows),\n",
    "    \"Tenure\": (np.random.weibull(a=1.5, size=n_rows) * 20).clip(1, 20),  # Adjusted Weibull for realistic Tenure\n",
    "    # Ensure strictly positive values for MonthlyCharges\n",
    "    \"MonthlyCharges\": safe_truncated_normal(70, 30, 10, 200, n_rows).clip(10, 200),  # Lower bound at 10\n",
    "    \"ServiceUsage\": np.random.gamma(2, 5, n_rows).clip(1, 200),  # Gamma distribution with realistic range\n",
    "    \"ContractType\": np.random.choice([\"Month-to-Month\", \"One-Year\", \"Two-Year\"], n_rows),\n",
    "    \"PaymentMethod\": np.random.choice([\"Credit Card\", \"Bank Transfer\", \"Electronic Check\", \"Mailed Check\"], n_rows),\n",
    "    \"CustomerSupportCalls\": np.random.poisson(2, n_rows)}"
   ]
  },
  {
   "cell_type": "code",
   "execution_count": null,
   "metadata": {},
   "outputs": [],
   "source": [
    "df = pd.DataFrame(data)"
   ]
  },
  {
   "cell_type": "code",
   "execution_count": null,
   "metadata": {},
   "outputs": [],
   "source": [
    "df[\"ServiceUsage\"] = np.clip(df[\"ServiceUsage\"], np.percentile(df[\"ServiceUsage\"], 1), np.percentile(df[\"ServiceUsage\"], 99))"
   ]
  },
  {
   "cell_type": "code",
   "execution_count": null,
   "metadata": {},
   "outputs": [],
   "source": [
    "def assign_churn(row):\n",
    "    if row[\"Tenure\"] < 6 and row[\"CustomerSupportCalls\"] > 4:\n",
    "        return \"High Risk\"\n",
    "    elif row[\"MonthlyCharges\"] > 100 or row[\"ServiceUsage\"] > 100:\n",
    "        return \"Medium Risk\"\n",
    "    else:\n",
    "        return \"Low Risk\""
   ]
  },
  {
   "cell_type": "code",
   "execution_count": null,
   "metadata": {},
   "outputs": [],
   "source": [
    "df[\"ChurnCategory\"] = df.apply(assign_churn, axis=1)\n",
    "df.loc[df[\"ChurnCategory\"] == \"High Risk\", \"Age\"] = truncated_normal(30, 10, 18, 50, df[\"ChurnCategory\"].eq(\"High Risk\").sum())\n",
    "df.loc[df[\"ChurnCategory\"] == \"Medium Risk\", \"MonthlyCharges\"] += np.random.normal(20, 5, df[\"ChurnCategory\"].eq(\"Medium Risk\").sum())\n",
    "df.loc[df[\"ChurnCategory\"] == \"High Risk\", \"CustomerSupportCalls\"] += np.random.poisson(3, df[\"ChurnCategory\"].eq(\"High Risk\").sum())\n",
    "df.loc[df[\"ChurnCategory\"] == \"Low Risk\", \"Tenure\"] += np.random.normal(5, 1, df[\"ChurnCategory\"].eq(\"Low Risk\").sum())\n",
    "df.loc[df[\"ChurnCategory\"] == \"Medium Risk\", \"ServiceUsage\"] += np.random.gamma(2, 3, df[\"ChurnCategory\"].eq(\"Medium Risk\").sum())\n"
   ]
  },
  {
   "cell_type": "code",
   "execution_count": null,
   "metadata": {},
   "outputs": [],
   "source": [
    "df[\"ChurnCategory\"] = np.where(\n",
    "    np.random.rand(n_rows) < 0.1,  # 5% randomness\n",
    "    np.random.choice([\"Low Risk\", \"Medium Risk\", \"High Risk\"], n_rows),\n",
    "    df[\"ChurnCategory\"]\n",
    ")"
   ]
  },
  {
   "cell_type": "code",
   "execution_count": null,
   "metadata": {},
   "outputs": [],
   "source": [
    "columns_to_null = [col for col in df.columns if col not in [\"CustomerID\", \"ChurnCategory\"]]\n",
    "for column in columns_to_null:\n",
    "    frac = np.random.uniform(0.01, 0.07)  # Random fraction between 1% and 7%\n",
    "    df.loc[df.sample(frac=frac).index, column] = np.nan"
   ]
  },
  {
   "cell_type": "code",
   "execution_count": null,
   "metadata": {},
   "outputs": [],
   "source": [
    "FILE_PATH='data'\n",
    "os.makedirs(FILE_PATH, exist_ok=True)"
   ]
  },
  {
   "cell_type": "code",
   "execution_count": null,
   "metadata": {},
   "outputs": [],
   "source": [
    "df.to_csv(os.path.join(FILE_PATH, \"synth_customer_churn.csv\"), index=False)"
   ]
  },
  {
   "cell_type": "code",
   "execution_count": null,
   "metadata": {},
   "outputs": [],
   "source": [
    "print(\"Synthetic customer churn data with correlations generated and saved!\")"
   ]
  }
 ],
 "metadata": {
  "kernelspec": {
   "display_name": "scikit-learn",
   "language": "python",
   "name": "python3"
  },
  "language_info": {
   "codemirror_mode": {
    "name": "ipython",
    "version": 3
   },
   "file_extension": ".py",
   "mimetype": "text/x-python",
   "name": "python",
   "nbconvert_exporter": "python",
   "pygments_lexer": "ipython3",
   "version": "3.10.15"
  }
 },
 "nbformat": 4,
 "nbformat_minor": 2
}
