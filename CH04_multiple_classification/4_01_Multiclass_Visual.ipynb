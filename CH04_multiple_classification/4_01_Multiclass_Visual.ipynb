{
 "cells": [
  {
   "cell_type": "markdown",
   "metadata": {},
   "source": [
    "# Multiclass Visualisation"
   ]
  },
  {
   "cell_type": "code",
   "execution_count": null,
   "metadata": {},
   "outputs": [],
   "source": [
    "import numpy as np\n",
    "import matplotlib.pyplot as plt\n",
    "from sklearn.datasets import make_blobs\n",
    "from sklearn.linear_model import LogisticRegression\n",
    "from sklearn.inspection import DecisionBoundaryDisplay\n",
    "from sklearn.ensemble import RandomForestClassifier\n",
    "\n",
    "# Generate a synthetic dataset with 3 classes\n",
    "X, y = make_blobs(n_samples=300, centers=3, \n",
    "                  random_state=42, cluster_std=1.5)"
   ]
  },
  {
   "cell_type": "markdown",
   "metadata": {},
   "source": [
    "## Fit Sci-Kit Learn Models"
   ]
  },
  {
   "cell_type": "code",
   "execution_count": null,
   "metadata": {},
   "outputs": [],
   "source": [
    "log_reg = LogisticRegression(multi_class='multinomial', solver='lbfgs')\n",
    "rf = RandomForestClassifier(random_state=42)\n"
   ]
  },
  {
   "cell_type": "code",
   "execution_count": null,
   "metadata": {},
   "outputs": [],
   "source": [
    "rf.fit(X, y)\n",
    "log_reg.fit(X,y)"
   ]
  },
  {
   "cell_type": "markdown",
   "metadata": {},
   "source": [
    "## Create visualisation with Matplotlib"
   ]
  },
  {
   "cell_type": "code",
   "execution_count": null,
   "metadata": {},
   "outputs": [],
   "source": [
    "fig, axes = plt.subplots(1, 2, figsize=(16, 6))\n",
    "DecisionBoundaryDisplay.from_estimator(log_reg, X, \n",
    "                                       response_method=\"predict\", \n",
    "                                       alpha=0.5, cmap=\"Blues\", \n",
    "                                       ax=axes[0])\n",
    "\n",
    "scatter1 = axes[0].scatter(X[:, 0], X[:, 1], \n",
    "                           c=y, cmap=\"Blues\", \n",
    "                           edgecolor=\"k\")\n",
    "axes[0].set_title(\"Logistic Regression: Decision Boundaries\", \n",
    "                  fontsize=14)\n",
    "axes[0].set_xlabel(\"Feature 1\")\n",
    "axes[0].set_ylabel(\"Feature 2\")\n",
    "axes[0].grid(alpha=0.2)\n",
    "\n",
    "DecisionBoundaryDisplay.from_estimator(rf, X, response_method=\"predict\", \n",
    "                                       alpha=0.5, cmap=\"Blues\", ax=axes[1])\n",
    "scatter2 = axes[1].scatter(X[:, 0], X[:, 1], c=y, cmap=\"Blues\", edgecolor=\"k\")\n",
    "axes[1].set_title(\"Random Forest: Decision Boundaries\", fontsize=14)\n",
    "axes[1].set_xlabel(\"Feature 1\")\n",
    "axes[1].set_ylabel(\"Feature 2\")\n",
    "axes[1].grid(alpha=0.2)\n",
    "\n",
    "# Add colorbars for both plots\n",
    "cbar1 = fig.colorbar(scatter1, ax=axes[0], ticks=[0, 1, 2])\n",
    "cbar1.set_label(\"Classes\")\n",
    "cbar2 = fig.colorbar(scatter2, ax=axes[1], ticks=[0, 1, 2])\n",
    "cbar2.set_label(\"Classes\")\n",
    "\n",
    "plt.tight_layout()\n",
    "plt.show()"
   ]
  }
 ],
 "metadata": {
  "kernelspec": {
   "display_name": "scikit-learn",
   "language": "python",
   "name": "python3"
  },
  "language_info": {
   "codemirror_mode": {
    "name": "ipython",
    "version": 3
   },
   "file_extension": ".py",
   "mimetype": "text/x-python",
   "name": "python",
   "nbconvert_exporter": "python",
   "pygments_lexer": "ipython3",
   "version": "3.10.15"
  }
 },
 "nbformat": 4,
 "nbformat_minor": 2
}
