{
 "cells": [
  {
   "cell_type": "markdown",
   "metadata": {},
   "source": [
    "# t-Distributed Stochastic Neighbor Embedding (T-SNE)"
   ]
  },
  {
   "cell_type": "code",
   "execution_count": null,
   "metadata": {},
   "outputs": [],
   "source": [
    "import numpy as np\n",
    "from sklearn.metrics.pairwise import euclidean_distances\n",
    "import pandas as pd\n",
    "import matplotlib.pyplot as plt\n",
    "from dimensionality_red.styler import style_dataframe\n",
    "\n",
    "# Generate random high-dimensional data (100 points, 50 features)\n",
    "np.random.seed(42)\n",
    "X = np.random.rand(100, 50)\n"
   ]
  },
  {
   "cell_type": "markdown",
   "metadata": {},
   "source": [
    "## Step 1 - Conditional Probabilities in High Dimensional Space"
   ]
  },
  {
   "cell_type": "code",
   "execution_count": null,
   "metadata": {},
   "outputs": [],
   "source": [
    "distances = euclidean_distances(X, X)"
   ]
  },
  {
   "cell_type": "code",
   "execution_count": null,
   "metadata": {},
   "outputs": [],
   "source": [
    "def compute_p_ij(distances, sigma=1.0):\n",
    "    P = np.exp(-distances ** 2 / (2 * sigma ** 2))\n",
    "    P /= np.sum(P, axis=1, keepdims=True)  \n",
    "    return (P + P.T) / (2 * len(P))  "
   ]
  },
  {
   "cell_type": "code",
   "execution_count": null,
   "metadata": {},
   "outputs": [],
   "source": [
    "P = compute_p_ij(distances)\n",
    "print(\"Shape of P:\", P.shape)"
   ]
  },
  {
   "cell_type": "markdown",
   "metadata": {},
   "source": [
    "## Step 2 - Compare similarities in 2D space using T-Distribution"
   ]
  },
  {
   "cell_type": "code",
   "execution_count": null,
   "metadata": {},
   "outputs": [],
   "source": [
    "def compute_q_dist(Y):\n",
    "    distances_low = euclidean_distances(Y, Y)\n",
    "    Q = (1 + distances_low ** 2) ** -1\n",
    "    np.fill_diagonal(Q, 0) \n",
    "    Q /= np.sum(Q)\n",
    "    return Q"
   ]
  },
  {
   "cell_type": "code",
   "execution_count": null,
   "metadata": {},
   "outputs": [],
   "source": [
    "np.random.seed(42)\n",
    "Y = np.random.randn(100, 2)"
   ]
  },
  {
   "cell_type": "code",
   "execution_count": null,
   "metadata": {},
   "outputs": [],
   "source": [
    "Q = compute_q_dist(Y)\n",
    "print(\"Shape of Q:\", Q.shape)"
   ]
  },
  {
   "cell_type": "code",
   "execution_count": null,
   "metadata": {},
   "outputs": [],
   "source": [
    "from modelviz.relationships import plot_similarity\n",
    "plot_similarity(data=X, point_of_interest=X[0], \n",
    "                std_range=3, similarity_color='black', \n",
    "                curve_color='grey', seaborn_style='whitegrid')"
   ]
  },
  {
   "cell_type": "markdown",
   "metadata": {},
   "source": [
    "## Step 3 - Use KL Divergence to compare distributions"
   ]
  },
  {
   "cell_type": "code",
   "execution_count": null,
   "metadata": {},
   "outputs": [],
   "source": [
    "def kl_divergence(P, Q):\n",
    "    return np.sum(P * np.log((P + 1e-9) / (Q + 1e-9)))  "
   ]
  },
  {
   "cell_type": "code",
   "execution_count": null,
   "metadata": {},
   "outputs": [],
   "source": [
    "loss = kl_divergence(P=P, Q=Q)"
   ]
  },
  {
   "cell_type": "code",
   "execution_count": null,
   "metadata": {},
   "outputs": [],
   "source": [
    "print(f\"KL divergence loss is: {loss}\")"
   ]
  },
  {
   "cell_type": "markdown",
   "metadata": {},
   "source": [
    "## Step 4 - Iteration to minimize Cost Function (C)"
   ]
  },
  {
   "cell_type": "code",
   "execution_count": null,
   "metadata": {},
   "outputs": [],
   "source": [
    "def update_Y(Y, P, Q, learning_rate=0.1):\n",
    "    gradients = np.zeros_like(Y)  \n",
    "\n",
    "    for i in range(Y.shape[0]):\n",
    "        diff = Y[i] - Y  \n",
    "        grad = 4 * np.sum((P[i, :, None] - Q[i, :, None]) * diff * \n",
    "                          (1 + np.sum(diff ** 2, axis=1, keepdims=True)) ** -1, axis=0)\n",
    "        gradients[i] = grad \n",
    "    Y -= learning_rate * gradients  \n",
    "    return Y  \n"
   ]
  },
  {
   "cell_type": "code",
   "execution_count": null,
   "metadata": {},
   "outputs": [],
   "source": [
    "ITERATION = 500\n",
    "\n",
    "losses = []\n",
    "iters = []\n",
    "for idx, _ in enumerate(range(ITERATION)):  \n",
    "    Q = compute_q_dist(Y)\n",
    "    Y = update_Y(Y, P, Q)\n",
    "    loss = kl_divergence(P, Q)\n",
    "    if idx % 50 == 0:\n",
    "        print(f\"\\U0000231B ITERATION: {idx + 1} Loss: {loss:.4f}\")\n",
    "    losses.append(loss)\n",
    "    iters.append(idx + 1)\n"
   ]
  },
  {
   "cell_type": "markdown",
   "metadata": {},
   "source": [
    "## Step 5 - Visualize Gradient Descent over Cost Function (KL Divergence Loss)"
   ]
  },
  {
   "cell_type": "code",
   "execution_count": null,
   "metadata": {},
   "outputs": [],
   "source": [
    "import seaborn as sns\n",
    "plt.figure(figsize=(8, 5))\n",
    "sns.lineplot(x=iters, y=losses, marker='o', \n",
    "             color='black', \n",
    "             label=\"KL Divergence Loss\")\n",
    "plt.xlabel(\"Iteration\")\n",
    "plt.ylabel(\"Loss Value\")\n",
    "plt.title(\"KL (Cost) Function - minimization\")\n",
    "plt.legend()\n",
    "plt.grid(True)\n",
    "plt.show()"
   ]
  }
 ],
 "metadata": {
  "kernelspec": {
   "display_name": "scikit-learn",
   "language": "python",
   "name": "python3"
  },
  "language_info": {
   "codemirror_mode": {
    "name": "ipython",
    "version": 3
   },
   "file_extension": ".py",
   "mimetype": "text/x-python",
   "name": "python",
   "nbconvert_exporter": "python",
   "pygments_lexer": "ipython3",
   "version": "3.10.15"
  }
 },
 "nbformat": 4,
 "nbformat_minor": 2
}
