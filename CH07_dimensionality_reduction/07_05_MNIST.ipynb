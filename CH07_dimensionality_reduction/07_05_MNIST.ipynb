{
 "cells": [
  {
   "cell_type": "markdown",
   "metadata": {},
   "source": [
    "# MNIST Dimensionality Reduction"
   ]
  },
  {
   "cell_type": "code",
   "execution_count": null,
   "metadata": {},
   "outputs": [],
   "source": [
    "!pip install -r requirements.txt"
   ]
  },
  {
   "cell_type": "code",
   "execution_count": null,
   "metadata": {},
   "outputs": [],
   "source": [
    "import numpy as np\n",
    "import matplotlib.pyplot as plt\n",
    "import seaborn as sns\n",
    "from sklearn.decomposition import PCA\n",
    "from sklearn.manifold import TSNE\n",
    "import umap\n",
    "from sklearn.datasets import fetch_openml\n",
    "from sklearn.utils import shuffle\n",
    "from sklearn.metrics import confusion_matrix"
   ]
  },
  {
   "cell_type": "markdown",
   "metadata": {},
   "source": [
    "## Load MNIST Dataset"
   ]
  },
  {
   "cell_type": "code",
   "execution_count": null,
   "metadata": {},
   "outputs": [],
   "source": [
    "mnist = fetch_openml('mnist_784', version=1)\n",
    "len(mnist)"
   ]
  },
  {
   "cell_type": "code",
   "execution_count": null,
   "metadata": {},
   "outputs": [],
   "source": [
    "X, y = mnist.data, mnist.target.astype(int)\n",
    "X, y = shuffle(X, y, random_state=42)"
   ]
  },
  {
   "cell_type": "code",
   "execution_count": null,
   "metadata": {},
   "outputs": [],
   "source": [
    "class_labels = np.unique(y)\n",
    "class_labels"
   ]
  },
  {
   "cell_type": "code",
   "execution_count": null,
   "metadata": {},
   "outputs": [],
   "source": [
    "X.columns"
   ]
  },
  {
   "cell_type": "code",
   "execution_count": null,
   "metadata": {},
   "outputs": [],
   "source": [
    "y.head()"
   ]
  },
  {
   "cell_type": "markdown",
   "metadata": {},
   "source": [
    "## Vizualise MNIST"
   ]
  },
  {
   "cell_type": "code",
   "execution_count": null,
   "metadata": {},
   "outputs": [],
   "source": [
    "def plot_mnist_samples(X, y, num_samples=10, \n",
    "                       cmap='Greys', figsize=(10,3)):\n",
    "    fig, axes = plt.subplots(1, num_samples, figsize=figsize)\n",
    "    for i, ax in enumerate(axes):\n",
    "        ax.imshow(X[i].reshape(28, 28), cmap=cmap)\n",
    "        ax.axis('off')\n",
    "    plt.show()\n",
    "\n",
    "plot_mnist_samples(X.to_numpy(), y)"
   ]
  },
  {
   "cell_type": "markdown",
   "metadata": {},
   "source": [
    "## Viz in 2D function"
   ]
  },
  {
   "cell_type": "code",
   "execution_count": null,
   "metadata": {},
   "outputs": [],
   "source": [
    "def plot_2D(X_proj, y, \n",
    "            title, \n",
    "            marker_size=5, \n",
    "            col_pal='tab10',\n",
    "            alpha=0.7, \n",
    "            marker_scale=2, **kwargs):\n",
    "    plt.figure(figsize=(10, 6))\n",
    "    \n",
    "    for key in ['s', 'alpha', 'hue', 'palette']:\n",
    "        kwargs.pop(key, None)\n",
    "    \n",
    "    sns.scatterplot(x=X_proj[:, 0], \n",
    "                    y=X_proj[:, 1], \n",
    "                    hue=y, palette=col_pal, \n",
    "                    s=marker_size, \n",
    "                    alpha=alpha, \n",
    "                    **kwargs)\n",
    "    \n",
    "    plt.title(title)\n",
    "    plt.legend(loc='best', markerscale=marker_scale)\n",
    "    plt.show()\n"
   ]
  },
  {
   "cell_type": "markdown",
   "metadata": {},
   "source": [
    "## Split data"
   ]
  },
  {
   "cell_type": "code",
   "execution_count": null,
   "metadata": {},
   "outputs": [],
   "source": [
    "from sklearn.model_selection import train_test_split\n",
    "X_train, X_test, y_train, y_test = train_test_split(X,y, \n",
    "                                                    test_size=0.8, \n",
    "                                                    random_state=42)"
   ]
  },
  {
   "cell_type": "markdown",
   "metadata": {},
   "source": [
    "## Scale"
   ]
  },
  {
   "cell_type": "code",
   "execution_count": null,
   "metadata": {},
   "outputs": [],
   "source": [
    "from sklearn.preprocessing import StandardScaler\n",
    "scaler = StandardScaler()\n",
    "X_train_scaled = scaler.fit_transform(X_train)\n",
    "X_test_scaled = scaler.transform(X_test)"
   ]
  },
  {
   "cell_type": "markdown",
   "metadata": {},
   "source": [
    "## PCA for viz in 2D"
   ]
  },
  {
   "cell_type": "code",
   "execution_count": null,
   "metadata": {},
   "outputs": [],
   "source": [
    "pca = PCA(n_components=2)\n",
    "X_pca = pca.fit_transform(X_train_scaled)\n",
    "plot_2D(X_pca, \n",
    "        y_train, \n",
    "        title=\"PCA on MNIST\")"
   ]
  },
  {
   "cell_type": "markdown",
   "metadata": {},
   "source": [
    "## T-SNE Visualisation in 2D"
   ]
  },
  {
   "cell_type": "code",
   "execution_count": null,
   "metadata": {},
   "outputs": [],
   "source": [
    "tsne = TSNE(n_components=2, \n",
    "            perplexity=25, \n",
    "            learning_rate=200, \n",
    "            random_state=42)\n",
    "X_tsne = tsne.fit_transform(X_train_scaled)  \n",
    "plot_2D(X_tsne, y_train, \"t-SNE on MNIST\")"
   ]
  },
  {
   "cell_type": "markdown",
   "metadata": {},
   "source": [
    "## UMAP for visualisation in 2D"
   ]
  },
  {
   "cell_type": "code",
   "execution_count": null,
   "metadata": {},
   "outputs": [],
   "source": [
    "import umap.umap_ as umap\n",
    "umap_reducer = umap.UMAP(n_components=2, \n",
    "                         random_state=42)\n",
    "X_umap = umap_reducer.fit_transform(X_train_scaled)\n",
    "plot_2D(X_umap, y_train, \"UMAP on MNIST\")"
   ]
  },
  {
   "cell_type": "markdown",
   "metadata": {},
   "source": [
    "## Use K-Means on PCA reductions"
   ]
  },
  {
   "cell_type": "code",
   "execution_count": null,
   "metadata": {},
   "outputs": [],
   "source": [
    "def get_optimal_pca(X, variance_threshold=0.95, \n",
    "                    figsize=(10, 5), \n",
    "                    plot=True,\n",
    "                    x_lab='No. of PCA Components',\n",
    "                    y_lab='Cumulative Explained Variance',\n",
    "                    plot_title='Optimal Explained Variance',\n",
    "                    optimal_thresh_line_color='grey',\n",
    "                    variance_line_color='black',\n",
    "                    linestyle='--',\n",
    "                    **pca_args):\n",
    "    \n",
    "    pca = PCA(n_components=X.shape[1], **pca_args)\n",
    "    pca_transformed = pca.fit_transform(X)\n",
    "    explained_variance_ratio = np.cumsum(pca.explained_variance_ratio_)\n",
    "    optimal_components = np.argmax(explained_variance_ratio >= variance_threshold) + 1\n",
    "    \n",
    "    # Plot results\n",
    "    if plot:\n",
    "        plt.figure(figsize=figsize)\n",
    "        plt.plot(range(1, len(explained_variance_ratio) + 1), \n",
    "                 explained_variance_ratio, \n",
    "                 marker='o', \n",
    "                 linestyle='--', \n",
    "                 color='b')\n",
    "        plt.axhline(y=variance_threshold, \n",
    "                    color=variance_line_color, \n",
    "                    linestyle=linestyle, \n",
    "                    label=f\"{variance_threshold * 100}% Variance\")\n",
    "        plt.axvline(x=optimal_components, \n",
    "                    color=optimal_thresh_line_color, \n",
    "                    linestyle='--', \n",
    "                    label=f\"Optimal Components: {optimal_components}\")\n",
    "        plt.xlabel(x_lab)\n",
    "        plt.ylabel(y_lab)\n",
    "        plt.title(plot_title)\n",
    "        plt.legend()\n",
    "        plt.grid()\n",
    "        plt.show()\n",
    "    \n",
    "    return (optimal_components, explained_variance_ratio, \n",
    "            pca_transformed)\n",
    "\n"
   ]
  },
  {
   "cell_type": "code",
   "execution_count": null,
   "metadata": {},
   "outputs": [],
   "source": [
    "(opt_comp, explained_variance_ratio, _) = get_optimal_pca(\n",
    "     X_train_scaled, \n",
    "    variance_threshold=0.9)"
   ]
  },
  {
   "cell_type": "markdown",
   "metadata": {},
   "source": [
    "## Fit PCA using optimal components"
   ]
  },
  {
   "cell_type": "code",
   "execution_count": null,
   "metadata": {},
   "outputs": [],
   "source": [
    "pca_optim = PCA(n_components=opt_comp)\n",
    "X_train_pca = pca_optim.fit_transform(X_train_scaled)\n",
    "X_test_pca = pca_optim.transform(X_test_scaled)"
   ]
  },
  {
   "cell_type": "markdown",
   "metadata": {},
   "source": [
    "## Train a Support Vector Machine with a Radial Basis Kernel"
   ]
  },
  {
   "cell_type": "code",
   "execution_count": null,
   "metadata": {},
   "outputs": [],
   "source": [
    "from sklearn.svm import SVC"
   ]
  },
  {
   "cell_type": "markdown",
   "metadata": {},
   "source": [
    "## Train model on PCA reduced data"
   ]
  },
  {
   "cell_type": "code",
   "execution_count": null,
   "metadata": {},
   "outputs": [],
   "source": [
    "svm_model = SVC(kernel=\"rbf\", C=10, gamma=0.01)\n",
    "svm_model.fit(X_train_pca, y_train)"
   ]
  },
  {
   "cell_type": "markdown",
   "metadata": {},
   "source": [
    "## Predict on test set"
   ]
  },
  {
   "cell_type": "code",
   "execution_count": null,
   "metadata": {},
   "outputs": [],
   "source": [
    "y_pred = svm_model.predict(X_test_pca)"
   ]
  },
  {
   "cell_type": "markdown",
   "metadata": {},
   "source": [
    "## Visualize results"
   ]
  },
  {
   "cell_type": "code",
   "execution_count": null,
   "metadata": {},
   "outputs": [],
   "source": [
    "from modelviz.confusion_matrix import plot_confusion_matrix\n",
    "cm = confusion_matrix(y_true=y_test, y_pred=y_pred)\n",
    "plot_confusion_matrix(cm=cm, classes=class_labels,\n",
    "                      model_name='MNIST Digit Accuracy', \n",
    "                      label_fontsize=8, annot_fontsize=8,\n",
    "                      cell_fontsize=8, table_fontsize=8, \n",
    "                      cmap='Greys',\n",
    "                      proportions_color='grey')"
   ]
  }
 ],
 "metadata": {
  "kernelspec": {
   "display_name": "sklearn-book-py-12-env",
   "language": "python",
   "name": "python3"
  },
  "language_info": {
   "codemirror_mode": {
    "name": "ipython",
    "version": 3
   },
   "file_extension": ".py",
   "mimetype": "text/x-python",
   "name": "python",
   "nbconvert_exporter": "python",
   "pygments_lexer": "ipython3",
   "version": "3.12.9"
  }
 },
 "nbformat": 4,
 "nbformat_minor": 2
}
